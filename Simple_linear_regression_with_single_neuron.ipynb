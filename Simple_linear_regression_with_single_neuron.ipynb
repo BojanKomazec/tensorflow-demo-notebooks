{
  "nbformat": 4,
  "nbformat_minor": 0,
  "metadata": {
    "colab": {
      "name": "Simple-linear-regression-with-single-neuron.ipynb",
      "provenance": [],
      "collapsed_sections": [],
      "authorship_tag": "ABX9TyPdURWVQw9kdfkegV8/uOZ1",
      "include_colab_link": true
    },
    "kernelspec": {
      "name": "python3",
      "display_name": "Python 3"
    },
    "language_info": {
      "name": "python"
    }
  },
  "cells": [
    {
      "cell_type": "markdown",
      "metadata": {
        "id": "view-in-github",
        "colab_type": "text"
      },
      "source": [
        "<a href=\"https://colab.research.google.com/github/BojanKomazec/tensorflow-demo-notebooks/blob/main/Simple_linear_regression_with_single_neuron.ipynb\" target=\"_parent\"><img src=\"https://colab.research.google.com/assets/colab-badge.svg\" alt=\"Open In Colab\"/></a>"
      ]
    },
    {
      "cell_type": "code",
      "metadata": {
        "id": "xjFJQp_ctEQ6"
      },
      "source": [
        "import numpy as np\n",
        "import matplotlib.pyplot as plt\n",
        "import pandas as pd\n",
        "\n",
        "import tensorflow as tf\n",
        "from tensorflow import keras\n",
        "from tensorflow.keras import layers"
      ],
      "execution_count": 1,
      "outputs": []
    },
    {
      "cell_type": "code",
      "metadata": {
        "colab": {
          "base_uri": "https://localhost:8080/"
        },
        "id": "2I-56Fkftepo",
        "outputId": "56c7842f-221c-4b25-d374-d20966fa15c1"
      },
      "source": [
        "#\n",
        "# Create x and y values for datapoints\n",
        "#\n",
        "\n",
        "dataset_x = np.linspace(-1, 1, 100)\n",
        "print(f'dataset_x.shape = {dataset_x.shape}')\n",
        "\n",
        "# Our model will need to learn these values\n",
        "SLOPE = 2\n",
        "INTERCEPT = -1\n",
        "\n",
        "rng = np.random.default_rng()\n",
        "dataset_y = ((SLOPE * dataset_x) + INTERCEPT) + rng.standard_normal(*dataset_x.shape) * 0.33"
      ],
      "execution_count": 2,
      "outputs": [
        {
          "output_type": "stream",
          "text": [
            "dataset_x.shape = (100,)\n"
          ],
          "name": "stdout"
        }
      ]
    },
    {
      "cell_type": "code",
      "metadata": {
        "colab": {
          "base_uri": "https://localhost:8080/",
          "height": 265
        },
        "id": "eddpnggSuBG9",
        "outputId": "bba36678-5d36-4054-97e2-6571269c3394"
      },
      "source": [
        "#\n",
        "# (Optional)\n",
        "# Plot data points\n",
        "#\n",
        "\n",
        "plt.plot(dataset_x, dataset_y, 'bo')\n",
        "plt.show()"
      ],
      "execution_count": 3,
      "outputs": [
        {
          "output_type": "display_data",
          "data": {
            "image/png": "[encoded data removed]",
            "text/plain": [
              "<Figure size 432x288 with 1 Axes>"
            ]
          },
          "metadata": {
            "tags": [],
            "needs_background": "light"
          }
        }
      ]
    },
    {
      "cell_type": "code",
      "metadata": {
        "id": "rbDm6BM4vPqS",
        "colab": {
          "base_uri": "https://localhost:8080/"
        },
        "outputId": "416ac0b0-5c0c-4481-c5bd-ad17a1e9ae60"
      },
      "source": [
        "#\n",
        "# Create a training and test datasets\n",
        "#\n",
        "\n",
        "dataset = list(zip(dataset_x, dataset_y))\n",
        "print(f'dataset = {dataset}') # list of (x, y) tuples\n",
        "\n",
        "# Pandas dataframe\n",
        "df_dataset = pd.DataFrame.from_records(dataset, columns = ['x', 'y'] )\n",
        "\n",
        "dataset_train = df_dataset.sample(frac=0.8, random_state=0)\n",
        "print(f'dataset_train.shape = {dataset_train.shape}')\n",
        "dataset_test = df_dataset.drop(dataset_train.index)\n",
        "print(f'dataset_test.shape = {dataset_test.shape}')"
      ],
      "execution_count": 4,
      "outputs": [
        {
          "output_type": "stream",
          "text": [
            "dataset = [(-1.0, -3.088159998477962), (-0.9797979797979798, -2.845838056348139), (-0.9595959595959596, -2.3832040424647274), (-0.9393939393939394, -3.0555410343814917), (-0.9191919191919192, -3.243221571406082), (-0.898989898989899, -2.6178777702065235), (-0.8787878787878788, -2.529139808276099), (-0.8585858585858586, -2.6697659733780505), (-0.8383838383838383, -2.627892090455329), (-0.8181818181818181, -3.216596603842743), (-0.797979797979798, -2.64186475535555), (-0.7777777777777778, -2.3639551963186545), (-0.7575757575757576, -2.4259490612670844), (-0.7373737373737373, -2.569391620097975), (-0.7171717171717171, -3.0364034504366155), (-0.696969696969697, -2.8416703127613596), (-0.6767676767676767, -2.5183971908930536), (-0.6565656565656566, -2.4078022620059136), (-0.6363636363636364, -2.8122924733975814), (-0.6161616161616161, -2.376854297533117), (-0.5959595959595959, -2.294091239647782), (-0.5757575757575757, -2.5861930911015), (-0.5555555555555556, -2.6841482576333955), (-0.5353535353535352, -2.021798671404714), (-0.5151515151515151, -2.226890297761971), (-0.4949494949494949, -1.671425399987505), (-0.4747474747474747, -1.9395437263610429), (-0.4545454545454545, -1.5472152824405458), (-0.43434343434343425, -2.123900751542595), (-0.41414141414141414, -1.6927244310495921), (-0.3939393939393939, -1.6365486218280216), (-0.3737373737373737, -1.0756587138958316), (-0.3535353535353535, -1.384907931880373), (-0.33333333333333326, -1.7881072691722144), (-0.31313131313131304, -2.184630188759691), (-0.2929292929292928, -1.5136163782121064), (-0.2727272727272727, -2.1788904348900275), (-0.2525252525252525, -1.4104551752234804), (-0.23232323232323226, -1.620561483384505), (-0.21212121212121204, -1.3636596545219206), (-0.19191919191919182, -1.3421881695482931), (-0.1717171717171716, -1.3075717904788726), (-0.1515151515151515, -1.5107922433409873), (-0.13131313131313127, -0.9359730151862238), (-0.11111111111111105, -1.4180663234416797), (-0.09090909090909083, -1.3614921535342643), (-0.07070707070707061, -0.47565142217258005), (-0.050505050505050386, -1.0735835610513689), (-0.030303030303030276, -1.4225057085181723), (-0.010101010101010055, -0.943082842941915), (0.010101010101010166, -0.39441334172412756), (0.030303030303030498, -1.0963969890328449), (0.05050505050505061, -1.002185427710833), (0.07070707070707072, -1.1328026101544404), (0.09090909090909105, -0.6317937317406288), (0.11111111111111116, -0.6510826062247846), (0.1313131313131315, -0.409204847526909), (0.1515151515151516, -0.6436295463421478), (0.1717171717171717, -0.6181603435307323), (0.19191919191919204, -0.9317854948940033), (0.21212121212121215, -0.6910189159727192), (0.2323232323232325, -0.4833625824699289), (0.2525252525252526, -0.4434045592004676), (0.27272727272727293, 0.17243145968193307), (0.29292929292929304, -0.15783823768772315), (0.31313131313131315, -0.23048415923213458), (0.3333333333333335, 0.013659882912023136), (0.3535353535353536, -0.19186449183402154), (0.3737373737373739, -0.8169311439831041), (0.39393939393939403, 0.5237044282669441), (0.41414141414141437, 0.2656381275011749), (0.4343434343434345, -0.33920113594748297), (0.4545454545454546, 0.01699801298411535), (0.4747474747474749, -0.07490995743450136), (0.49494949494949503, 0.385146500885729), (0.5151515151515154, 0.3470562843832304), (0.5353535353535355, -0.09398427048616229), (0.5555555555555556, -0.13088493853228242), (0.5757575757575759, 0.6396027776643591), (0.595959595959596, -0.04220798742380427), (0.6161616161616164, 0.5351253639258866), (0.6363636363636365, 0.32555293259567475), (0.6565656565656568, 0.32458643670222004), (0.6767676767676769, -0.062039017147692666), (0.696969696969697, 0.6677542327526529), (0.7171717171717173, 0.3661139603142174), (0.7373737373737375, 0.14091585674436752), (0.7575757575757578, 0.4993875843398892), (0.7777777777777779, 0.422840026655283), (0.7979797979797982, 0.4645389038979695), (0.8181818181818183, 0.8487696037276276), (0.8383838383838385, 0.5226660585174369), (0.8585858585858588, 0.4734735473582575), (0.8787878787878789, 1.196168689335812), (0.8989898989898992, 0.7674294919989596), (0.9191919191919193, 1.09127415363232), (0.9393939393939394, 1.105156846802387), (0.9595959595959598, 0.695359224200929), (0.9797979797979799, 1.3529431179668756), (1.0, 0.8126578005454113)]\n",
            "dataset_train.shape = (80, 2)\n",
            "dataset_test.shape = (20, 2)\n"
          ],
          "name": "stdout"
        }
      ]
    },
    {
      "cell_type": "code",
      "metadata": {
        "colab": {
          "base_uri": "https://localhost:8080/"
        },
        "id": "2zi8dhjGBX_4",
        "outputId": "bbcd973d-e573-402f-fb4f-1232f6f199a5"
      },
      "source": [
        "#\n",
        "# Build a model with a single neuron\n",
        "#\n",
        "\n",
        "model = tf.keras.Sequential([\n",
        "    layers.Dense(input_shape=(1,), units=1)\n",
        "])\n",
        "\n",
        "model.summary()"
      ],
      "execution_count": 5,
      "outputs": [
        {
          "output_type": "stream",
          "text": [
            "Model: \"sequential\"\n",
            "_________________________________________________________________\n",
            "Layer (type)                 Output Shape              Param #   \n",
            "=================================================================\n",
            "dense (Dense)                (None, 1)                 2         \n",
            "=================================================================\n",
            "Total params: 2\n",
            "Trainable params: 2\n",
            "Non-trainable params: 0\n",
            "_________________________________________________________________\n"
          ],
          "name": "stdout"
        }
      ]
    },
    {
      "cell_type": "code",
      "metadata": {
        "id": "RNArGUZJGdw-"
      },
      "source": [
        "#\n",
        "# Define function which plots a scatter graph of dataset datapoints and a line\n",
        "# defined with its (x, y) datapoints.\n",
        "#\n",
        "\n",
        "def plot_fn(dataset_x, dataset_y, x, y):\n",
        "  plt.plot(dataset_x, dataset_y, 'bo', label='Data')\n",
        "  plt.plot(x, y, color='k', label='Predictions')\n",
        "  plt.xlabel('x')\n",
        "  plt.ylabel('y')\n",
        "  plt.legend()\n",
        "  plt.show()"
      ],
      "execution_count": 6,
      "outputs": []
    },
    {
      "cell_type": "code",
      "metadata": {
        "colab": {
          "base_uri": "https://localhost:8080/",
          "height": 279
        },
        "id": "crRCrQMrBZoE",
        "outputId": "290c2b04-6a70-4d86-a1e2-b7aac14f39db"
      },
      "source": [
        "#\n",
        "# (Optional)\n",
        "# Check the output of the untrained model\n",
        "#\n",
        "\n",
        "y = model.predict(dataset_x)\n",
        "plot_fn(dataset_x, dataset_y, dataset_x, y)"
      ],
      "execution_count": 8,
      "outputs": [
        {
          "output_type": "display_data",
          "data": {
            "image/png": "[encoded data removed]",
            "text/plain": [
              "<Figure size 432x288 with 1 Axes>"
            ]
          },
          "metadata": {
            "tags": [],
            "needs_background": "light"
          }
        }
      ]
    },
    {
      "cell_type": "code",
      "metadata": {
        "id": "CykQOAnkBekX"
      },
      "source": [
        "#\n",
        "# Compile the model\n",
        "#\n",
        "# This sets:\n",
        "# - loss function e.g. Mean Absolute Error or Mean Squared Error\n",
        "# - optimization algorithm e.g. Adam or Stochastic Gradient Descent and its\n",
        "#.  arguments e.g. learning rate for Gradient Descent\n",
        "#\n",
        "\n",
        "learning_rate = 0.1\n",
        "optimizer=tf.optimizers.Adam(learning_rate=learning_rate)\n",
        "# optimizer=tf.optimizers.SGD(learning_rate=learning_rate)\n",
        "\n",
        "model.compile(\n",
        "    optimizer=optimizer,\n",
        "    loss='mean_absolute_error')"
      ],
      "execution_count": 9,
      "outputs": []
    },
    {
      "cell_type": "code",
      "metadata": {
        "colab": {
          "base_uri": "https://localhost:8080/"
        },
        "id": "TKt7Jkj1Bl3s",
        "outputId": "7e78f155-1eff-4dbd-dd77-5ca302ecb25b"
      },
      "source": [
        "%%time\n",
        "history = model.fit(\n",
        "    dataset_train['x'], dataset_train['y'],\n",
        "    epochs=100,\n",
        "    # suppress logging\n",
        "    verbose=0,\n",
        "    # Calculate validation results on 20% of the training data\n",
        "    validation_split = 0.2)"
      ],
      "execution_count": 10,
      "outputs": [
        {
          "output_type": "stream",
          "text": [
            "CPU times: user 1.91 s, sys: 63 ms, total: 1.98 s\n",
            "Wall time: 2.2 s\n"
          ],
          "name": "stdout"
        }
      ]
    },
    {
      "cell_type": "code",
      "metadata": {
        "id": "Ji0imzRdBsJm",
        "colab": {
          "base_uri": "https://localhost:8080/",
          "height": 279
        },
        "outputId": "667ddcd0-5833-429d-b5ed-c966061e46fc"
      },
      "source": [
        "# \n",
        "# Plot the final function approximation\n",
        "#\n",
        "\n",
        "y = model.predict(dataset_x)\n",
        "plot_fn(dataset_x, dataset_y, dataset_x, y)"
      ],
      "execution_count": 11,
      "outputs": [
        {
          "output_type": "display_data",
          "data": {
            "image/png": "[encoded data removed]",
            "text/plain": [
              "<Figure size 432x288 with 1 Axes>"
            ]
          },
          "metadata": {
            "tags": [],
            "needs_background": "light"
          }
        }
      ]
    },
    {
      "cell_type": "code",
      "metadata": {
        "colab": {
          "base_uri": "https://localhost:8080/"
        },
        "id": "T1EcRkgzJ_nE",
        "outputId": "b862f729-0ea0-4cb9-89e7-880497e2ea67"
      },
      "source": [
        "#\n",
        "# Print the values of learned and original model parameters.\n",
        "#\n",
        "\n",
        "# Check out the weights' values of the trained model\n",
        "for layer in model.layers: print(layer.get_config(), layer.get_weights())\n",
        "\n",
        "first_layer_weights = model.layers[0].get_weights()[0]\n",
        "first_layer_biases  = model.layers[0].get_weights()[1]\n",
        "\n",
        "print(f'Learned slope is {first_layer_weights[0]} while original is {SLOPE}')\n",
        "print(f'Learned intercept is {first_layer_biases[0]} while original is {INTERCEPT}')"
      ],
      "execution_count": 17,
      "outputs": [
        {
          "output_type": "stream",
          "text": [
            "{'name': 'dense', 'trainable': True, 'batch_input_shape': (None, 1), 'dtype': 'float32', 'units': 1, 'activation': 'linear', 'use_bias': True, 'kernel_initializer': {'class_name': 'GlorotUniform', 'config': {'seed': None}}, 'bias_initializer': {'class_name': 'Zeros', 'config': {}}, 'kernel_regularizer': None, 'bias_regularizer': None, 'activity_regularizer': None, 'kernel_constraint': None, 'bias_constraint': None} [array([[2.0583515]], dtype=float32), array([-1.0173998], dtype=float32)]\n",
            "Learned slope is [2.0583515] while original is 2\n",
            "Learned intercept is -1.017399787902832 while original is -1\n"
          ],
          "name": "stdout"
        }
      ]
    }
  ]
}