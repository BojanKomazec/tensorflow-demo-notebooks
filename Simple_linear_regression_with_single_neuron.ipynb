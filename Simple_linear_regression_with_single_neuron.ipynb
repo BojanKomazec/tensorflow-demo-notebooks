{
  "nbformat": 4,
  "nbformat_minor": 0,
  "metadata": {
    "colab": {
      "name": "Simple-linear-regression-with-single-neuron.ipynb",
      "provenance": [],
      "collapsed_sections": [],
      "authorship_tag": "ABX9TyMxK4YFBC0WYM9ZlJweavFT",
      "include_colab_link": true
    },
    "kernelspec": {
      "name": "python3",
      "display_name": "Python 3"
    },
    "language_info": {
      "name": "python"
    }
  },
  "cells": [
    {
      "cell_type": "markdown",
      "metadata": {
        "id": "view-in-github",
        "colab_type": "text"
      },
      "source": [
        "<a href=\"https://colab.research.google.com/github/BojanKomazec/tensorflow-demo-notebooks/blob/main/Simple_linear_regression_with_single_neuron.ipynb\" target=\"_parent\"><img src=\"https://colab.research.google.com/assets/colab-badge.svg\" alt=\"Open In Colab\"/></a>"
      ]
    },
    {
      "cell_type": "markdown",
      "metadata": {
        "id": "OyDHRlx1nYYk"
      },
      "source": [
        "Simple Linear Regression with ANN with single neuron\n",
        "https://www.tensorflow.org/tutorials/keras/regression#linear_regression"
      ]
    },
    {
      "cell_type": "code",
      "metadata": {
        "id": "xjFJQp_ctEQ6"
      },
      "source": [
        "import numpy as np\n",
        "import matplotlib.pyplot as plt\n",
        "import pandas as pd\n",
        "\n",
        "import tensorflow as tf\n",
        "from tensorflow import keras\n",
        "from tensorflow.keras import layers"
      ],
      "execution_count": 1,
      "outputs": []
    },
    {
      "cell_type": "code",
      "metadata": {
        "colab": {
          "base_uri": "https://localhost:8080/"
        },
        "id": "2I-56Fkftepo",
        "outputId": "b772f524-fa3b-49ff-aa8c-7a7200fea407"
      },
      "source": [
        "dataset_x = np.linspace(-1, 1, 101)\n",
        "print(f'dataset_x.shape = {dataset_x.shape}')\n",
        "\n",
        "# https://numpy.org/doc/stable/reference/random/generated/numpy.random.randn.html\n",
        "dataset_y = 2 * dataset_x + np.random.randn(*dataset_x.shape) * 0.33"
      ],
      "execution_count": 2,
      "outputs": [
        {
          "output_type": "stream",
          "text": [
            "dataset_x.shape = (101,)\n"
          ],
          "name": "stdout"
        }
      ]
    },
    {
      "cell_type": "code",
      "metadata": {
        "colab": {
          "base_uri": "https://localhost:8080/",
          "height": 265
        },
        "id": "eddpnggSuBG9",
        "outputId": "dd3e5a6e-76c8-4821-9b87-ccfe802b25c9"
      },
      "source": [
        "plt.scatter(dataset_x, dataset_y)\n",
        "plt.show()"
      ],
      "execution_count": 3,
      "outputs": [
        {
          "output_type": "display_data",
          "data": {
            "image/png": "[encoded data removed]",
            "text/plain": [
              "<Figure size 432x288 with 1 Axes>"
            ]
          },
          "metadata": {
            "tags": [],
            "needs_background": "light"
          }
        }
      ]
    },
    {
      "cell_type": "code",
      "metadata": {
        "id": "rbDm6BM4vPqS",
        "colab": {
          "base_uri": "https://localhost:8080/"
        },
        "outputId": "383481fa-7588-43b8-b83b-bf4b3936b1a7"
      },
      "source": [
        "dataset = list(zip(dataset_x, dataset_y))\n",
        "print(f'dataset = {dataset}') # list of (x, y) tuples\n",
        "\n",
        "# Pandas dataframe\n",
        "df_dataset =  pd.DataFrame.from_records(dataset, columns = ['x', 'y'] )\n",
        "\n",
        "dataset_train = df_dataset.sample(frac=0.8, random_state=0)\n",
        "print(f'dataset_train.shape = {dataset_train.shape}')\n",
        "dataset_test = df_dataset.drop(dataset_train.index)\n",
        "print(f'dataset_test.shape = {dataset_test.shape}')"
      ],
      "execution_count": 4,
      "outputs": [
        {
          "output_type": "stream",
          "text": [
            "dataset = [(-1.0, -2.1850065337153106), (-0.98, -1.757467016315215), (-0.96, -1.3361871790830113), (-0.94, -2.32403694941938), (-0.92, -1.4535280606057952), (-0.9, -2.216795839411052), (-0.88, -1.8789278770964228), (-0.86, -1.7266689888753404), (-0.84, -1.2304162527591678), (-0.8200000000000001, -1.4660878465162626), (-0.8, -1.776398092549251), (-0.78, -1.8757916497103264), (-0.76, -1.2959064676931198), (-0.74, -1.4318011031033444), (-0.72, -1.1769463215788998), (-0.7, -1.5882567620698376), (-0.6799999999999999, -0.821532660670992), (-0.6599999999999999, -1.4994438495037352), (-0.64, -0.8523727374535681), (-0.62, -1.8141115229560523), (-0.6, -1.5866574954433568), (-0.5800000000000001, -1.0164132171541926), (-0.56, -0.9144156099890031), (-0.54, -1.2945530188277972), (-0.52, -1.0718310234469546), (-0.5, -0.9560383412172752), (-0.48, -0.7533945938073796), (-0.45999999999999996, -0.8526765651844417), (-0.43999999999999995, -0.39209438069532393), (-0.42000000000000004, -0.8336298481490627), (-0.4, -0.965753626347722), (-0.38, -0.8017721585137108), (-0.36, -1.1915139108917159), (-0.33999999999999997, -0.7713608650680658), (-0.31999999999999995, -0.6782536862659866), (-0.29999999999999993, -1.2212896894973742), (-0.28, -0.3606290173851573), (-0.26, -0.6392456841458245), (-0.24, -1.0374516623470749), (-0.21999999999999997, -0.43075661993166914), (-0.19999999999999996, -0.5270068816947591), (-0.17999999999999994, -0.2649314616580094), (-0.16000000000000003, -0.4621383610470258), (-0.14, -0.2438667318460621), (-0.12, -0.5268481777578737), (-0.09999999999999998, -0.31757324273118237), (-0.07999999999999996, -0.2465374001974588), (-0.05999999999999994, -0.04288895358722672), (-0.040000000000000036, -0.7539660312916505), (-0.020000000000000018, -0.07520247275858968), (0.0, 0.21166953430684257), (0.020000000000000018, 0.017250336784479552), (0.040000000000000036, 0.2863842425817975), (0.06000000000000005, 0.20870270530076085), (0.08000000000000007, 0.4914821875158956), (0.10000000000000009, 0.852487949935508), (0.1200000000000001, 0.08534129840977797), (0.14000000000000012, -0.006684425286009266), (0.15999999999999992, 0.11262163042333273), (0.17999999999999994, 0.2798474879534568), (0.19999999999999996, 0.7303460864021599), (0.21999999999999997, 0.2896300725267019), (0.24, 0.29452554840912076), (0.26, 0.3779138111304273), (0.28, 0.601994383486283), (0.30000000000000004, 0.3724521201462151), (0.32000000000000006, 0.5543158989780069), (0.3400000000000001, 0.5664893973611662), (0.3600000000000001, 0.5932588457096033), (0.3800000000000001, 0.5662394620082565), (0.40000000000000013, 1.0156770467401477), (0.41999999999999993, 1.122479804605367), (0.43999999999999995, 0.6638574131988235), (0.45999999999999996, 0.5274369955739966), (0.48, 0.9478011561762854), (0.5, 0.5078335182053453), (0.52, 1.225198250147542), (0.54, 0.983238603965733), (0.56, 0.8257315562813905), (0.5800000000000001, 1.2667393096439825), (0.6000000000000001, 1.098196774632312), (0.6200000000000001, 0.7539908493866636), (0.6400000000000001, 1.5460984556517157), (0.6600000000000001, 1.5383996300060647), (0.6799999999999999, 1.281472747792002), (0.7, 1.1027439428335923), (0.72, 1.8815259151327228), (0.74, 1.3259760631923305), (0.76, 1.2399183697495568), (0.78, 1.1233446188949618), (0.8, 1.6721782942544698), (0.8200000000000001, 1.7091087058325898), (0.8400000000000001, 1.540995202363432), (0.8600000000000001, 1.6313535531197434), (0.8800000000000001, 1.1506845558984051), (0.9000000000000001, 1.8221096801519736), (0.9199999999999999, 1.42125626931021), (0.94, 1.5947038630317678), (0.96, 2.332199381778729), (0.98, 1.8335514318442014), (1.0, 2.037651288533196)]\n",
            "dataset_train.shape = (81, 2)\n",
            "dataset_test.shape = (20, 2)\n"
          ],
          "name": "stdout"
        }
      ]
    },
    {
      "cell_type": "code",
      "metadata": {
        "id": "wd7kQVJTao0j"
      },
      "source": [
        "train_features = dataset_train.copy()\n",
        "test_features = dataset_test.copy()\n",
        "\n",
        "train_labels = train_features.pop('y')\n",
        "test_labels = test_features.pop('y')\n",
        "\n",
        "x = np.array(train_features['x'])"
      ],
      "execution_count": 5,
      "outputs": []
    },
    {
      "cell_type": "code",
      "metadata": {
        "colab": {
          "base_uri": "https://localhost:8080/"
        },
        "id": "HGEQQSrQbWXS",
        "outputId": "1d9759fe-39cd-4d75-c53a-12200b912e57"
      },
      "source": [
        "# model with a single neuron\n",
        "model = tf.keras.Sequential([\n",
        "    layers.Dense(input_shape=[1,], units=1)\n",
        "])\n",
        "\n",
        "model.summary()"
      ],
      "execution_count": 6,
      "outputs": [
        {
          "output_type": "stream",
          "text": [
            "Model: \"sequential\"\n",
            "_________________________________________________________________\n",
            "Layer (type)                 Output Shape              Param #   \n",
            "=================================================================\n",
            "dense (Dense)                (None, 1)                 2         \n",
            "=================================================================\n",
            "Total params: 2\n",
            "Trainable params: 2\n",
            "Non-trainable params: 0\n",
            "_________________________________________________________________\n"
          ],
          "name": "stdout"
        }
      ]
    },
    {
      "cell_type": "code",
      "metadata": {
        "colab": {
          "base_uri": "https://localhost:8080/"
        },
        "id": "5V0D6Im5bhoe",
        "outputId": "6b8c116c-0d33-45da-aabd-5635412cc18d"
      },
      "source": [
        "model.predict(x[:10])"
      ],
      "execution_count": 7,
      "outputs": [
        {
          "output_type": "execute_result",
          "data": {
            "text/plain": [
              "array([[-0.78007853],\n",
              "       [ 1.1701179 ],\n",
              "       [-1.5601571 ],\n",
              "       [ 0.16251637],\n",
              "       [ 0.81258184],\n",
              "       [ 1.4301441 ],\n",
              "       [-1.1051114 ],\n",
              "       [ 0.7475753 ],\n",
              "       [ 0.1300131 ],\n",
              "       [ 1.4951506 ]], dtype=float32)"
            ]
          },
          "metadata": {
            "tags": []
          },
          "execution_count": 7
        }
      ]
    },
    {
      "cell_type": "code",
      "metadata": {
        "id": "3CuJw9B2clph"
      },
      "source": [
        "learning_rate = 0.1\n",
        "# optimizer=tf.optimizers.Adam(learning_rate=learning_rate)\n",
        "optimizer=tf.optimizers.SGD(learning_rate=learning_rate)\n",
        "\n",
        "model.compile(\n",
        "    optimizer=optimizer,\n",
        "    loss='mean_absolute_error')"
      ],
      "execution_count": 19,
      "outputs": []
    },
    {
      "cell_type": "code",
      "metadata": {
        "colab": {
          "base_uri": "https://localhost:8080/"
        },
        "id": "7ph0QQicjENJ",
        "outputId": "72a0b1d1-3357-44dd-f9d3-b05c79508acb"
      },
      "source": [
        "%%time\n",
        "history = model.fit(\n",
        "    train_features['x'], train_labels,\n",
        "    epochs=100,\n",
        "    # suppress logging\n",
        "    verbose=0,\n",
        "    # Calculate validation results on 20% of the training data\n",
        "    validation_split = 0.2)"
      ],
      "execution_count": 20,
      "outputs": [
        {
          "output_type": "stream",
          "text": [
            "CPU times: user 6 s, sys: 117 ms, total: 6.11 s\n",
            "Wall time: 6.03 s\n"
          ],
          "name": "stdout"
        }
      ]
    },
    {
      "cell_type": "code",
      "metadata": {
        "id": "wpWAxwcEGgNN",
        "colab": {
          "base_uri": "https://localhost:8080/",
          "height": 204
        },
        "outputId": "e70c9d86-d8da-4b0f-819d-5ebb00a61f6c"
      },
      "source": [
        "hist = pd.DataFrame(history.history)\n",
        "hist['epoch'] = history.epoch\n",
        "hist.tail()"
      ],
      "execution_count": 21,
      "outputs": [
        {
          "output_type": "execute_result",
          "data": {
            "text/html": [
              "<div>\n",
              "<style scoped>\n",
              "    .dataframe tbody tr th:only-of-type {\n",
              "        vertical-align: middle;\n",
              "    }\n",
              "\n",
              "    .dataframe tbody tr th {\n",
              "        vertical-align: top;\n",
              "    }\n",
              "\n",
              "    .dataframe thead th {\n",
              "        text-align: right;\n",
              "    }\n",
              "</style>\n",
              "<table border=\"1\" class=\"dataframe\">\n",
              "  <thead>\n",
              "    <tr style=\"text-align: right;\">\n",
              "      <th></th>\n",
              "      <th>loss</th>\n",
              "      <th>val_loss</th>\n",
              "      <th>epoch</th>\n",
              "    </tr>\n",
              "  </thead>\n",
              "  <tbody>\n",
              "    <tr>\n",
              "      <th>95</th>\n",
              "      <td>0.234794</td>\n",
              "      <td>0.193991</td>\n",
              "      <td>95</td>\n",
              "    </tr>\n",
              "    <tr>\n",
              "      <th>96</th>\n",
              "      <td>0.233469</td>\n",
              "      <td>0.193163</td>\n",
              "      <td>96</td>\n",
              "    </tr>\n",
              "    <tr>\n",
              "      <th>97</th>\n",
              "      <td>0.232986</td>\n",
              "      <td>0.192960</td>\n",
              "      <td>97</td>\n",
              "    </tr>\n",
              "    <tr>\n",
              "      <th>98</th>\n",
              "      <td>0.233102</td>\n",
              "      <td>0.192254</td>\n",
              "      <td>98</td>\n",
              "    </tr>\n",
              "    <tr>\n",
              "      <th>99</th>\n",
              "      <td>0.234465</td>\n",
              "      <td>0.193303</td>\n",
              "      <td>99</td>\n",
              "    </tr>\n",
              "  </tbody>\n",
              "</table>\n",
              "</div>"
            ],
            "text/plain": [
              "        loss  val_loss  epoch\n",
              "95  0.234794  0.193991     95\n",
              "96  0.233469  0.193163     96\n",
              "97  0.232986  0.192960     97\n",
              "98  0.233102  0.192254     98\n",
              "99  0.234465  0.193303     99"
            ]
          },
          "metadata": {
            "tags": []
          },
          "execution_count": 21
        }
      ]
    },
    {
      "cell_type": "code",
      "metadata": {
        "id": "t79Q_mB0Gjf4"
      },
      "source": [
        "def plot_loss(history):\n",
        "  plt.plot(history.history['loss'], label='loss')\n",
        "  plt.plot(history.history['val_loss'], label='val_loss')\n",
        "  plt.ylim([0, 10])\n",
        "  plt.xlabel('Epoch')\n",
        "  plt.ylabel('Error [MPG]')\n",
        "  plt.legend()\n",
        "  plt.grid(True)"
      ],
      "execution_count": 22,
      "outputs": []
    },
    {
      "cell_type": "code",
      "metadata": {
        "colab": {
          "base_uri": "https://localhost:8080/",
          "height": 283
        },
        "id": "1GTLrJfUJiT9",
        "outputId": "34fde24d-00ef-42b3-fae0-a3b13fea4fe1"
      },
      "source": [
        "plot_loss(history)"
      ],
      "execution_count": 23,
      "outputs": [
        {
          "output_type": "display_data",
          "data": {
            "image/png": "[encoded data removed]",
            "text/plain": [
              "<Figure size 432x288 with 1 Axes>"
            ]
          },
          "metadata": {
            "tags": [],
            "needs_background": "light"
          }
        }
      ]
    },
    {
      "cell_type": "code",
      "metadata": {
        "id": "cskGv-QukVUg"
      },
      "source": [
        "x = np.linspace(-1, 1, 101)\n",
        "y = model.predict(x)"
      ],
      "execution_count": 24,
      "outputs": []
    },
    {
      "cell_type": "code",
      "metadata": {
        "id": "4HOYwle1lXe5"
      },
      "source": [
        "def plot_fn(x, y):\n",
        "  plt.scatter(train_features['x'], train_labels, label='Data')\n",
        "  plt.plot(x, y, color='k', label='Predictions')\n",
        "  plt.xlabel('x')\n",
        "  plt.ylabel('y')\n",
        "  plt.legend()"
      ],
      "execution_count": 25,
      "outputs": []
    },
    {
      "cell_type": "code",
      "metadata": {
        "colab": {
          "base_uri": "https://localhost:8080/",
          "height": 279
        },
        "id": "tu5VNBQElpS4",
        "outputId": "63a5125d-61a7-49ed-ea83-4d556762fce5"
      },
      "source": [
        "plot_fn(x,y)"
      ],
      "execution_count": 26,
      "outputs": [
        {
          "output_type": "display_data",
          "data": {
            "image/png": "[encoded data removed]",
            "text/plain": [
              "<Figure size 432x288 with 1 Axes>"
            ]
          },
          "metadata": {
            "tags": [],
            "needs_background": "light"
          }
        }
      ]
    }
  ]
}