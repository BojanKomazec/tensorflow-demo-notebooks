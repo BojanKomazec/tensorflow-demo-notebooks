{
  "nbformat": 4,
  "nbformat_minor": 0,
  "metadata": {
    "colab": {
      "name": "Simple-linear-regression-with-single-neuron.ipynb",
      "provenance": [],
      "collapsed_sections": [],
      "authorship_tag": "ABX9TyMZxewsnhzhIVW3ff5HycYA",
      "include_colab_link": true
    },
    "kernelspec": {
      "name": "python3",
      "display_name": "Python 3"
    },
    "language_info": {
      "name": "python"
    }
  },
  "cells": [
    {
      "cell_type": "markdown",
      "metadata": {
        "id": "view-in-github",
        "colab_type": "text"
      },
      "source": [
        "<a href=\"https://colab.research.google.com/github/BojanKomazec/tensorflow-demo-notebooks/blob/main/Simple_linear_regression_with_single_neuron.ipynb\" target=\"_parent\"><img src=\"https://colab.research.google.com/assets/colab-badge.svg\" alt=\"Open In Colab\"/></a>"
      ]
    },
    {
      "cell_type": "markdown",
      "metadata": {
        "id": "OyDHRlx1nYYk"
      },
      "source": [
        "Simple Linear Regression with ANN with single neuron\n",
        "https://www.tensorflow.org/tutorials/keras/regression#linear_regression"
      ]
    },
    {
      "cell_type": "code",
      "metadata": {
        "id": "xjFJQp_ctEQ6"
      },
      "source": [
        "import numpy as np\n",
        "import matplotlib.pyplot as plt\n",
        "import pandas as pd\n",
        "\n",
        "import tensorflow as tf\n",
        "from tensorflow import keras\n",
        "from tensorflow.keras import layers"
      ],
      "execution_count": 24,
      "outputs": []
    },
    {
      "cell_type": "code",
      "metadata": {
        "colab": {
          "base_uri": "https://localhost:8080/"
        },
        "id": "2I-56Fkftepo",
        "outputId": "4e19131a-a8ae-4a8d-c6c6-13c9d529f350"
      },
      "source": [
        "dataset_x = np.linspace(-1, 1, 101)\n",
        "print(f'dataset_x.shape = {dataset_x.shape}')\n",
        "\n",
        "# https://numpy.org/doc/stable/reference/random/generated/numpy.random.randn.html\n",
        "dataset_y = 2 * dataset_x + np.random.randn(*dataset_x.shape) * 0.33"
      ],
      "execution_count": 25,
      "outputs": [
        {
          "output_type": "stream",
          "text": [
            "dataset_x.shape = (101,)\n"
          ],
          "name": "stdout"
        }
      ]
    },
    {
      "cell_type": "code",
      "metadata": {
        "colab": {
          "base_uri": "https://localhost:8080/",
          "height": 265
        },
        "id": "eddpnggSuBG9",
        "outputId": "038949bb-7145-453d-b472-7c7e8e026ddf"
      },
      "source": [
        "plt.scatter(dataset_x, dataset_y)\n",
        "plt.show()"
      ],
      "execution_count": 26,
      "outputs": [
        {
          "output_type": "display_data",
          "data": {
            "image/png": "[encoded data removed]",
            "text/plain": [
              "<Figure size 432x288 with 1 Axes>"
            ]
          },
          "metadata": {
            "tags": [],
            "needs_background": "light"
          }
        }
      ]
    },
    {
      "cell_type": "code",
      "metadata": {
        "id": "rbDm6BM4vPqS",
        "colab": {
          "base_uri": "https://localhost:8080/"
        },
        "outputId": "eaf2d79e-afd1-42d7-afad-a40b5d8946ce"
      },
      "source": [
        "dataset = list(zip(dataset_x, dataset_y))\n",
        "print(f'dataset = {dataset}') # list of (x, y) tuples\n",
        "\n",
        "# Pandas dataframe\n",
        "df_dataset =  pd.DataFrame.from_records(dataset, columns = ['x', 'y'] )\n",
        "\n",
        "dataset_train = df_dataset.sample(frac=0.8, random_state=0)\n",
        "print(f'dataset_train.shape = {dataset_train.shape}')\n",
        "dataset_test = df_dataset.drop(dataset_train.index)\n",
        "print(f'dataset_test.shape = {dataset_test.shape}')"
      ],
      "execution_count": 27,
      "outputs": [
        {
          "output_type": "stream",
          "text": [
            "dataset = [(-1.0, -2.1820652454100933), (-0.98, -1.885652007948847), (-0.96, -2.1910470816913774), (-0.94, -1.3353385863521439), (-0.92, -1.584479619582055), (-0.9, -1.9333222746507543), (-0.88, -1.3865561955166843), (-0.86, -1.3753835218539119), (-0.84, -2.0586517100804818), (-0.8200000000000001, -1.5658173099852517), (-0.8, -1.7287244354000781), (-0.78, -1.606571903321521), (-0.76, -1.7371128613857176), (-0.74, -0.7158944106930423), (-0.72, -1.3542226810204494), (-0.7, -1.5955991505040752), (-0.6799999999999999, -1.5751163091139881), (-0.6599999999999999, -0.9319508258567596), (-0.64, -1.0517279581566468), (-0.62, -1.0586523856081178), (-0.6, -1.4523211207839886), (-0.5800000000000001, -0.6472448088195556), (-0.56, -0.7149405307495873), (-0.54, -1.1155165245659044), (-0.52, -1.2055983649622666), (-0.5, -1.403065253103915), (-0.48, -1.5728866300746), (-0.45999999999999996, -1.3380299429579292), (-0.43999999999999995, -1.2615597070976827), (-0.42000000000000004, -0.727743109894265), (-0.4, -0.7566316233768032), (-0.38, -0.3423178198328283), (-0.36, -0.5676373770325873), (-0.33999999999999997, -0.9270165733085416), (-0.31999999999999995, -0.6068338415924979), (-0.29999999999999993, -0.32461001914907744), (-0.28, -0.2858433358410332), (-0.26, -0.9816279238387391), (-0.24, -0.31655643686990986), (-0.21999999999999997, -0.1535631868707752), (-0.19999999999999996, -0.46328790987628005), (-0.17999999999999994, -0.6491761293887279), (-0.16000000000000003, -0.2009277655499035), (-0.14, -0.3163967977028742), (-0.12, -0.04352537324560282), (-0.09999999999999998, -0.3550545707245457), (-0.07999999999999996, -0.06402768886835462), (-0.05999999999999994, -0.9018991056792104), (-0.040000000000000036, 0.553294820336445), (-0.020000000000000018, 0.04902741740902791), (0.0, -0.010388034202778734), (0.020000000000000018, -0.32340422727156587), (0.040000000000000036, -0.017326029386402556), (0.06000000000000005, -0.03267379425285499), (0.08000000000000007, -0.27159417662109503), (0.10000000000000009, 0.1716753220756933), (0.1200000000000001, 0.2655371759318835), (0.14000000000000012, 0.4400965277807146), (0.15999999999999992, 0.15334312980135964), (0.17999999999999994, 0.3253046752544899), (0.19999999999999996, 0.3788200664948722), (0.21999999999999997, -0.09388937842063416), (0.24, -0.01888819087893867), (0.26, -0.10927628428318248), (0.28, 0.3077852475407261), (0.30000000000000004, -0.0029820613064991397), (0.32000000000000006, 0.4319335245628846), (0.3400000000000001, 0.9312674494422168), (0.3600000000000001, 0.6465011028927938), (0.3800000000000001, 0.5120438514747222), (0.40000000000000013, 0.775980091872379), (0.41999999999999993, 0.8211978737193273), (0.43999999999999995, 0.4047589860253509), (0.45999999999999996, 0.7326736089107019), (0.48, 1.5073505399362537), (0.5, 0.8239663591959019), (0.52, 0.6077521170739286), (0.54, 1.6390503104989622), (0.56, 1.2395240113155528), (0.5800000000000001, 1.6818614608486657), (0.6000000000000001, 1.272966483315996), (0.6200000000000001, 1.6022280653143075), (0.6400000000000001, 1.385073083274056), (0.6600000000000001, 0.9386285486062786), (0.6799999999999999, 0.9358605895255768), (0.7, 1.8628733764454806), (0.72, 1.7028619138420176), (0.74, 1.0914398250850907), (0.76, 1.7210184233081864), (0.78, 1.7528867632932004), (0.8, 1.348793418485382), (0.8200000000000001, 2.0778221336883917), (0.8400000000000001, 1.875918286831563), (0.8600000000000001, 1.5009129290750478), (0.8800000000000001, 1.7779332427066177), (0.9000000000000001, 1.2035655412780901), (0.9199999999999999, 1.5324656045603056), (0.94, 2.2020284342989225), (0.96, 2.1325822681871265), (0.98, 2.0125724236115827), (1.0, 2.3006724963317824)]\n",
            "dataset_train.shape = (81, 2)\n",
            "dataset_test.shape = (20, 2)\n"
          ],
          "name": "stdout"
        }
      ]
    },
    {
      "cell_type": "code",
      "metadata": {
        "id": "wd7kQVJTao0j"
      },
      "source": [
        "train_features = dataset_train.copy()\n",
        "test_features = dataset_test.copy()\n",
        "\n",
        "train_labels = train_features.pop('y')\n",
        "test_labels = test_features.pop('y')\n",
        "\n",
        "x = np.array(train_features['x'])"
      ],
      "execution_count": 28,
      "outputs": []
    },
    {
      "cell_type": "code",
      "metadata": {
        "colab": {
          "base_uri": "https://localhost:8080/"
        },
        "id": "HGEQQSrQbWXS",
        "outputId": "026a4b86-1b38-41de-a4fa-961df13bd8a4"
      },
      "source": [
        "# model with a single neuron\n",
        "model = tf.keras.Sequential([\n",
        "    layers.Dense(input_shape=[1,], units=1)\n",
        "])\n",
        "\n",
        "model.summary()"
      ],
      "execution_count": 29,
      "outputs": [
        {
          "output_type": "stream",
          "text": [
            "Model: \"sequential_2\"\n",
            "_________________________________________________________________\n",
            "Layer (type)                 Output Shape              Param #   \n",
            "=================================================================\n",
            "dense_2 (Dense)              (None, 1)                 2         \n",
            "=================================================================\n",
            "Total params: 2\n",
            "Trainable params: 2\n",
            "Non-trainable params: 0\n",
            "_________________________________________________________________\n"
          ],
          "name": "stdout"
        }
      ]
    },
    {
      "cell_type": "code",
      "metadata": {
        "colab": {
          "base_uri": "https://localhost:8080/"
        },
        "id": "5V0D6Im5bhoe",
        "outputId": "225e23e5-0739-4ab4-8ef4-2a213cefc693"
      },
      "source": [
        "model.predict(x[:10])"
      ],
      "execution_count": 30,
      "outputs": [
        {
          "output_type": "execute_result",
          "data": {
            "text/plain": [
              "array([[-0.3478843 ],\n",
              "       [ 0.5218265 ],\n",
              "       [-0.6957686 ],\n",
              "       [ 0.0724759 ],\n",
              "       [ 0.3623795 ],\n",
              "       [ 0.6377879 ],\n",
              "       [-0.49283612],\n",
              "       [ 0.33338913],\n",
              "       [ 0.05798072],\n",
              "       [ 0.66677827]], dtype=float32)"
            ]
          },
          "metadata": {
            "tags": []
          },
          "execution_count": 30
        }
      ]
    },
    {
      "cell_type": "code",
      "metadata": {
        "id": "3CuJw9B2clph"
      },
      "source": [
        "model.compile(\n",
        "    optimizer=tf.optimizers.Adam(learning_rate=0.1),\n",
        "    loss='mean_absolute_error')"
      ],
      "execution_count": 31,
      "outputs": []
    },
    {
      "cell_type": "code",
      "metadata": {
        "colab": {
          "base_uri": "https://localhost:8080/"
        },
        "id": "7ph0QQicjENJ",
        "outputId": "229ef6c6-167e-4a25-8e16-67ff36317428"
      },
      "source": [
        "%%time\n",
        "history = model.fit(\n",
        "    train_features['x'], train_labels,\n",
        "    epochs=100,\n",
        "    # suppress logging\n",
        "    verbose=0,\n",
        "    # Calculate validation results on 20% of the training data\n",
        "    validation_split = 0.2)"
      ],
      "execution_count": 32,
      "outputs": [
        {
          "output_type": "stream",
          "text": [
            "CPU times: user 7.14 s, sys: 126 ms, total: 7.27 s\n",
            "Wall time: 7.22 s\n"
          ],
          "name": "stdout"
        }
      ]
    },
    {
      "cell_type": "code",
      "metadata": {
        "id": "cskGv-QukVUg"
      },
      "source": [
        "x = np.linspace(-1, 1, 101)\n",
        "y = model.predict(x)"
      ],
      "execution_count": 33,
      "outputs": []
    },
    {
      "cell_type": "code",
      "metadata": {
        "id": "4HOYwle1lXe5"
      },
      "source": [
        "def plot_fn(x, y):\n",
        "  plt.scatter(train_features['x'], train_labels, label='Data')\n",
        "  plt.plot(x, y, color='k', label='Predictions')\n",
        "  plt.xlabel('x')\n",
        "  plt.ylabel('y')\n",
        "  plt.legend()"
      ],
      "execution_count": 34,
      "outputs": []
    },
    {
      "cell_type": "code",
      "metadata": {
        "colab": {
          "base_uri": "https://localhost:8080/",
          "height": 279
        },
        "id": "tu5VNBQElpS4",
        "outputId": "4076bd16-e6a6-4d5d-b5d5-c1d9065ab538"
      },
      "source": [
        "plot_fn(x,y)"
      ],
      "execution_count": 35,
      "outputs": [
        {
          "output_type": "display_data",
          "data": {
            "image/png": "[encoded data removed]",
            "text/plain": [
              "<Figure size 432x288 with 1 Axes>"
            ]
          },
          "metadata": {
            "tags": [],
            "needs_background": "light"
          }
        }
      ]
    }
  ]
}