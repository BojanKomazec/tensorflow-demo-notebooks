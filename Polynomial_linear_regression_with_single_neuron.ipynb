{
  "nbformat": 4,
  "nbformat_minor": 0,
  "metadata": {
    "colab": {
      "name": "Polynomial-linear-regression-with-single-neuron.ipynb",
      "provenance": [],
      "collapsed_sections": [],
      "authorship_tag": "ABX9TyNE0V64DMFDKsxlb7fMvezZ",
      "include_colab_link": true
    },
    "kernelspec": {
      "name": "python3",
      "display_name": "Python 3"
    },
    "language_info": {
      "name": "python"
    }
  },
  "cells": [
    {
      "cell_type": "markdown",
      "metadata": {
        "id": "view-in-github",
        "colab_type": "text"
      },
      "source": [
        "<a href=\"https://colab.research.google.com/github/BojanKomazec/tensorflow-demo-notebooks/blob/main/Polynomial_linear_regression_with_single_neuron.ipynb\" target=\"_parent\"><img src=\"https://colab.research.google.com/assets/colab-badge.svg\" alt=\"Open In Colab\"/></a>"
      ]
    },
    {
      "cell_type": "code",
      "metadata": {
        "id": "xjFJQp_ctEQ6"
      },
      "source": [
        "import numpy as np\n",
        "import matplotlib.pyplot as plt\n",
        "import pandas as pd\n",
        "\n",
        "import tensorflow as tf\n",
        "from tensorflow import keras\n",
        "from tensorflow.keras import layers"
      ],
      "execution_count": 40,
      "outputs": []
    },
    {
      "cell_type": "code",
      "metadata": {
        "colab": {
          "base_uri": "https://localhost:8080/"
        },
        "id": "2I-56Fkftepo",
        "outputId": "ede8c70c-9559-4f12-9ef6-9f97378ee460"
      },
      "source": [
        "dataset_x = np.linspace(-1, 1, 101)\n",
        "print(f'dataset_x.shape = {dataset_x.shape}')\n",
        "\n",
        "dataset_y = 3 * dataset_x**2 + 2 * dataset_x + 1 + np.random.randn(*dataset_x.shape) * 0.33"
      ],
      "execution_count": 41,
      "outputs": [
        {
          "output_type": "stream",
          "text": [
            "dataset_x.shape = (101,)\n"
          ],
          "name": "stdout"
        }
      ]
    },
    {
      "cell_type": "code",
      "metadata": {
        "colab": {
          "base_uri": "https://localhost:8080/",
          "height": 265
        },
        "id": "eddpnggSuBG9",
        "outputId": "a7c2c5dd-9933-4b37-bb4c-2f48502b7986"
      },
      "source": [
        "plt.scatter(dataset_x, dataset_y)\n",
        "plt.show()"
      ],
      "execution_count": 42,
      "outputs": [
        {
          "output_type": "display_data",
          "data": {
            "image/png": "[encoded data removed]",
            "text/plain": [
              "<Figure size 432x288 with 1 Axes>"
            ]
          },
          "metadata": {
            "tags": [],
            "needs_background": "light"
          }
        }
      ]
    },
    {
      "cell_type": "code",
      "metadata": {
        "id": "rbDm6BM4vPqS",
        "colab": {
          "base_uri": "https://localhost:8080/"
        },
        "outputId": "f5c9eb68-5a85-436b-80c3-acc16eb173ad"
      },
      "source": [
        "dataset = list(zip(dataset_x, dataset_y))\n",
        "print(f'dataset = {dataset}') # list of (x, y) tuples\n",
        "\n",
        "# Pandas dataframe\n",
        "df_dataset =  pd.DataFrame.from_records(dataset, columns = ['x', 'y'] )\n",
        "\n",
        "dataset_train = df_dataset.sample(frac=0.8, random_state=0)\n",
        "print(f'dataset_train.shape = {dataset_train.shape}')\n",
        "dataset_test = df_dataset.drop(dataset_train.index)\n",
        "print(f'dataset_test.shape = {dataset_test.shape}')"
      ],
      "execution_count": 43,
      "outputs": [
        {
          "output_type": "stream",
          "text": [
            "dataset = [(-1.0, 2.0390822479854482), (-0.98, 2.1314224870614114), (-0.96, 1.9595272608858914), (-0.94, 1.8753903222076254), (-0.92, 1.281853353653993), (-0.9, 1.7819301827818315), (-0.88, 1.4477771171561857), (-0.86, 1.3600671640381798), (-0.84, 1.3008184121211392), (-0.8200000000000001, 1.3663925140993989), (-0.8, 1.1502247625457964), (-0.78, 0.9185762954911966), (-0.76, 1.4537103173637713), (-0.74, 1.410299523468335), (-0.72, 1.3409577136057464), (-0.7, 1.2598299119538416), (-0.6799999999999999, 0.96452007261691), (-0.6599999999999999, 1.2255633958673862), (-0.64, 0.7079724504287659), (-0.62, 1.3305587782385202), (-0.6, 0.9637797510287961), (-0.5800000000000001, 0.8932084551175452), (-0.56, 1.1954126365567044), (-0.54, 0.754654616867319), (-0.52, 0.7322388068485999), (-0.5, 1.3469761929144264), (-0.48, 0.6708586126216056), (-0.45999999999999996, 0.6187094215688316), (-0.43999999999999995, 0.7832845862708665), (-0.42000000000000004, 0.7448064666609373), (-0.4, 0.7896936033316007), (-0.38, 0.41951976818941183), (-0.36, 0.54201509168331), (-0.33999999999999997, 1.1813538855997066), (-0.31999999999999995, 0.6002638649470919), (-0.29999999999999993, 0.8020752639273038), (-0.28, 0.7646271845698521), (-0.26, -0.16681914516076024), (-0.24, 0.36928272534716383), (-0.21999999999999997, 0.24214492364872253), (-0.19999999999999996, 0.5968415031413288), (-0.17999999999999994, 0.5450797419280058), (-0.16000000000000003, 0.8202882281849866), (-0.14, 1.056143303239084), (-0.12, 1.1010441021033628), (-0.09999999999999998, 0.7376125809228355), (-0.07999999999999996, 0.7892907261265734), (-0.05999999999999994, 0.9957794404765162), (-0.040000000000000036, 1.1838031547280836), (-0.020000000000000018, 0.8961339463123578), (0.0, 0.9332680138256909), (0.020000000000000018, 0.36436961609319707), (0.040000000000000036, 1.1354179409435292), (0.06000000000000005, 0.7294232960173959), (0.08000000000000007, 0.8354611859774652), (0.10000000000000009, 1.1055520000720238), (0.1200000000000001, 1.2710988531948844), (0.14000000000000012, 1.0434402774709497), (0.15999999999999992, 0.9833081106018853), (0.17999999999999994, 1.3232358582644368), (0.19999999999999996, 1.764245867500736), (0.21999999999999997, 2.182640606938556), (0.24, 2.182576928339734), (0.26, 1.5223189881423227), (0.28, 1.4269202680313184), (0.30000000000000004, 1.6361690798967008), (0.32000000000000006, 2.0351809252300175), (0.3400000000000001, 2.1380991683180977), (0.3600000000000001, 1.9412528293928322), (0.3800000000000001, 2.1348706715599874), (0.40000000000000013, 2.583414238299939), (0.41999999999999993, 2.6958616763242826), (0.43999999999999995, 2.2664742760831653), (0.45999999999999996, 2.6966665696716063), (0.48, 2.424850069628551), (0.5, 3.421993743384207), (0.52, 3.214829749451364), (0.54, 3.17360836279388), (0.56, 3.3021603026186157), (0.5800000000000001, 3.783039883536211), (0.6000000000000001, 3.1717278863248852), (0.6200000000000001, 4.0099780626191714), (0.6400000000000001, 2.808385735170235), (0.6600000000000001, 3.753080599040371), (0.6799999999999999, 3.6974153550806585), (0.7, 3.8375189733780775), (0.72, 3.929308849371421), (0.74, 4.229194243307186), (0.76, 3.9466391564167824), (0.78, 4.548465070883604), (0.8, 4.409131083032417), (0.8200000000000001, 4.9051323923619154), (0.8400000000000001, 4.987143626579692), (0.8600000000000001, 4.769272819820475), (0.8800000000000001, 5.677607994451816), (0.9000000000000001, 5.3524942313677855), (0.9199999999999999, 5.745689201105404), (0.94, 5.942333255274505), (0.96, 5.739085930215554), (0.98, 5.581576589652282), (1.0, 5.868804615104027)]\n",
            "dataset_train.shape = (81, 2)\n",
            "dataset_test.shape = (20, 2)\n"
          ],
          "name": "stdout"
        }
      ]
    },
    {
      "cell_type": "code",
      "metadata": {
        "id": "7_KKCFpwBTbG"
      },
      "source": [
        "train_features = dataset_train.copy()\n",
        "test_features = dataset_test.copy()\n",
        "\n",
        "train_labels = train_features.pop('y')\n",
        "test_labels = test_features.pop('y')\n",
        "\n",
        "x = np.array(train_features['x'])"
      ],
      "execution_count": 44,
      "outputs": []
    },
    {
      "cell_type": "code",
      "metadata": {
        "colab": {
          "base_uri": "https://localhost:8080/"
        },
        "id": "2zi8dhjGBX_4",
        "outputId": "feb90499-7351-4aa9-adc3-92cfa2fa49a0"
      },
      "source": [
        "# model with a single neuron\n",
        "model = tf.keras.Sequential([\n",
        "    layers.Dense(input_shape=(1,), units=1)\n",
        "])\n",
        "\n",
        "model.summary()"
      ],
      "execution_count": 45,
      "outputs": [
        {
          "output_type": "stream",
          "text": [
            "Model: \"sequential_4\"\n",
            "_________________________________________________________________\n",
            "Layer (type)                 Output Shape              Param #   \n",
            "=================================================================\n",
            "dense_4 (Dense)              (None, 1)                 2         \n",
            "=================================================================\n",
            "Total params: 2\n",
            "Trainable params: 2\n",
            "Non-trainable params: 0\n",
            "_________________________________________________________________\n"
          ],
          "name": "stdout"
        }
      ]
    },
    {
      "cell_type": "code",
      "metadata": {
        "colab": {
          "base_uri": "https://localhost:8080/"
        },
        "id": "crRCrQMrBZoE",
        "outputId": "c57602f3-6f53-42c6-aa30-f21496bbcc68"
      },
      "source": [
        "model.predict(x[:10])"
      ],
      "execution_count": 46,
      "outputs": [
        {
          "output_type": "execute_result",
          "data": {
            "text/plain": [
              "array([[-0.24937081],\n",
              "       [ 0.37405625],\n",
              "       [-0.49874163],\n",
              "       [ 0.05195225],\n",
              "       [ 0.25976127],\n",
              "       [ 0.45717984],\n",
              "       [-0.35327533],\n",
              "       [ 0.23898038],\n",
              "       [ 0.0415618 ],\n",
              "       [ 0.47796077]], dtype=float32)"
            ]
          },
          "metadata": {
            "tags": []
          },
          "execution_count": 46
        }
      ]
    },
    {
      "cell_type": "code",
      "metadata": {
        "id": "CykQOAnkBekX"
      },
      "source": [
        "learning_rate = 0.1\n",
        "optimizer=tf.optimizers.Adam(learning_rate=learning_rate)\n",
        "# optimizer=tf.optimizers.SGD(learning_rate=learning_rate)\n",
        "\n",
        "model.compile(\n",
        "    optimizer=optimizer,\n",
        "    loss='mean_absolute_error')"
      ],
      "execution_count": 47,
      "outputs": []
    },
    {
      "cell_type": "code",
      "metadata": {
        "colab": {
          "base_uri": "https://localhost:8080/"
        },
        "id": "TKt7Jkj1Bl3s",
        "outputId": "291d1898-cacd-4fbd-c58b-f9754159c303"
      },
      "source": [
        "%%time\n",
        "history = model.fit(\n",
        "    train_features['x'], train_labels,\n",
        "    epochs=100,\n",
        "    # suppress logging\n",
        "    verbose=0,\n",
        "    # Calculate validation results on 20% of the training data\n",
        "    validation_split = 0.2)"
      ],
      "execution_count": 48,
      "outputs": [
        {
          "output_type": "stream",
          "text": [
            "CPU times: user 8.19 s, sys: 144 ms, total: 8.33 s\n",
            "Wall time: 8.3 s\n"
          ],
          "name": "stdout"
        }
      ]
    },
    {
      "cell_type": "code",
      "metadata": {
        "id": "Ji0imzRdBsJm"
      },
      "source": [
        "x = np.linspace(-1, 1, 101)\n",
        "y = model.predict(x)"
      ],
      "execution_count": 49,
      "outputs": []
    },
    {
      "cell_type": "code",
      "metadata": {
        "id": "lgkwJHL_Byue"
      },
      "source": [
        "def plot_fn(x, y):\n",
        "  plt.scatter(train_features['x'], train_labels, label='Data')\n",
        "  plt.plot(x, y, color='k', label='Predictions')\n",
        "  plt.xlabel('x')\n",
        "  plt.ylabel('y')\n",
        "  plt.legend()"
      ],
      "execution_count": 50,
      "outputs": []
    },
    {
      "cell_type": "code",
      "metadata": {
        "colab": {
          "base_uri": "https://localhost:8080/",
          "height": 279
        },
        "id": "dOZoh3o5B2J9",
        "outputId": "cb2924c3-fc8a-4578-8381-a44d1c327654"
      },
      "source": [
        "plot_fn(x,y)"
      ],
      "execution_count": 51,
      "outputs": [
        {
          "output_type": "display_data",
          "data": {
            "image/png": "[encoded data removed]",
            "text/plain": [
              "<Figure size 432x288 with 1 Axes>"
            ]
          },
          "metadata": {
            "tags": [],
            "needs_background": "light"
          }
        }
      ]
    },
    {
      "cell_type": "markdown",
      "metadata": {
        "id": "YS7RQJf59Hm-"
      },
      "source": [
        "We can see that a (single) neuron with a single input feature is only capable of learning a linear hypothesis: `h(x) = k*x + b`. To learn more complex functions of single independent variable, like e.g. h(x) = k3*x^3 + k2 * x^2 + k1 * x + k0 we need to treat powers of x as independent new variables (separate features) and feed them as inputs into the neuron."
      ]
    },
    {
      "cell_type": "code",
      "metadata": {
        "colab": {
          "base_uri": "https://localhost:8080/"
        },
        "id": "m4g6mVR_PfDS",
        "outputId": "0288d03c-70eb-4036-8956-5315964517c8"
      },
      "source": [
        "# Let's expand our dataset with artificially created features:\n",
        "dataset = list(zip(dataset_x, dataset_x**2,  dataset_y))\n",
        "print(f'dataset = {dataset}') # list of (x, x^2, y) tuples\n",
        "\n",
        "# Pandas dataframe\n",
        "df_dataset =  pd.DataFrame.from_records(dataset, columns = ['x', 'x2', 'y'] )\n",
        "\n",
        "dataset_train = df_dataset.sample(frac=0.8, random_state=0)\n",
        "print(f'dataset_train.shape = {dataset_train.shape}')\n",
        "dataset_test = df_dataset.drop(dataset_train.index)\n",
        "print(f'dataset_test.shape = {dataset_test.shape}')"
      ],
      "execution_count": 52,
      "outputs": [
        {
          "output_type": "stream",
          "text": [
            "dataset = [(-1.0, 1.0, 2.0390822479854482), (-0.98, 0.9603999999999999, 2.1314224870614114), (-0.96, 0.9216, 1.9595272608858914), (-0.94, 0.8835999999999999, 1.8753903222076254), (-0.92, 0.8464, 1.281853353653993), (-0.9, 0.81, 1.7819301827818315), (-0.88, 0.7744, 1.4477771171561857), (-0.86, 0.7395999999999999, 1.3600671640381798), (-0.84, 0.7055999999999999, 1.3008184121211392), (-0.8200000000000001, 0.6724000000000001, 1.3663925140993989), (-0.8, 0.6400000000000001, 1.1502247625457964), (-0.78, 0.6084, 0.9185762954911966), (-0.76, 0.5776, 1.4537103173637713), (-0.74, 0.5476, 1.410299523468335), (-0.72, 0.5184, 1.3409577136057464), (-0.7, 0.48999999999999994, 1.2598299119538416), (-0.6799999999999999, 0.4623999999999999, 0.96452007261691), (-0.6599999999999999, 0.4355999999999999, 1.2255633958673862), (-0.64, 0.4096, 0.7079724504287659), (-0.62, 0.3844, 1.3305587782385202), (-0.6, 0.36, 0.9637797510287961), (-0.5800000000000001, 0.3364000000000001, 0.8932084551175452), (-0.56, 0.31360000000000005, 1.1954126365567044), (-0.54, 0.2916, 0.754654616867319), (-0.52, 0.27040000000000003, 0.7322388068485999), (-0.5, 0.25, 1.3469761929144264), (-0.48, 0.2304, 0.6708586126216056), (-0.45999999999999996, 0.21159999999999995, 0.6187094215688316), (-0.43999999999999995, 0.19359999999999997, 0.7832845862708665), (-0.42000000000000004, 0.17640000000000003, 0.7448064666609373), (-0.4, 0.16000000000000003, 0.7896936033316007), (-0.38, 0.1444, 0.41951976818941183), (-0.36, 0.1296, 0.54201509168331), (-0.33999999999999997, 0.11559999999999998, 1.1813538855997066), (-0.31999999999999995, 0.10239999999999996, 0.6002638649470919), (-0.29999999999999993, 0.08999999999999996, 0.8020752639273038), (-0.28, 0.07840000000000001, 0.7646271845698521), (-0.26, 0.06760000000000001, -0.16681914516076024), (-0.24, 0.0576, 0.36928272534716383), (-0.21999999999999997, 0.04839999999999999, 0.24214492364872253), (-0.19999999999999996, 0.03999999999999998, 0.5968415031413288), (-0.17999999999999994, 0.03239999999999998, 0.5450797419280058), (-0.16000000000000003, 0.02560000000000001, 0.8202882281849866), (-0.14, 0.019600000000000003, 1.056143303239084), (-0.12, 0.0144, 1.1010441021033628), (-0.09999999999999998, 0.009999999999999995, 0.7376125809228355), (-0.07999999999999996, 0.006399999999999993, 0.7892907261265734), (-0.05999999999999994, 0.003599999999999993, 0.9957794404765162), (-0.040000000000000036, 0.001600000000000003, 1.1838031547280836), (-0.020000000000000018, 0.0004000000000000007, 0.8961339463123578), (0.0, 0.0, 0.9332680138256909), (0.020000000000000018, 0.0004000000000000007, 0.36436961609319707), (0.040000000000000036, 0.001600000000000003, 1.1354179409435292), (0.06000000000000005, 0.0036000000000000064, 0.7294232960173959), (0.08000000000000007, 0.006400000000000012, 0.8354611859774652), (0.10000000000000009, 0.010000000000000018, 1.1055520000720238), (0.1200000000000001, 0.014400000000000026, 1.2710988531948844), (0.14000000000000012, 0.019600000000000034, 1.0434402774709497), (0.15999999999999992, 0.025599999999999973, 0.9833081106018853), (0.17999999999999994, 0.03239999999999998, 1.3232358582644368), (0.19999999999999996, 0.03999999999999998, 1.764245867500736), (0.21999999999999997, 0.04839999999999999, 2.182640606938556), (0.24, 0.0576, 2.182576928339734), (0.26, 0.06760000000000001, 1.5223189881423227), (0.28, 0.07840000000000001, 1.4269202680313184), (0.30000000000000004, 0.09000000000000002, 1.6361690798967008), (0.32000000000000006, 0.10240000000000005, 2.0351809252300175), (0.3400000000000001, 0.11560000000000005, 2.1380991683180977), (0.3600000000000001, 0.12960000000000008, 1.9412528293928322), (0.3800000000000001, 0.14440000000000008, 2.1348706715599874), (0.40000000000000013, 0.16000000000000011, 2.583414238299939), (0.41999999999999993, 0.17639999999999995, 2.6958616763242826), (0.43999999999999995, 0.19359999999999997, 2.2664742760831653), (0.45999999999999996, 0.21159999999999995, 2.6966665696716063), (0.48, 0.2304, 2.424850069628551), (0.5, 0.25, 3.421993743384207), (0.52, 0.27040000000000003, 3.214829749451364), (0.54, 0.2916, 3.17360836279388), (0.56, 0.31360000000000005, 3.3021603026186157), (0.5800000000000001, 0.3364000000000001, 3.783039883536211), (0.6000000000000001, 0.3600000000000001, 3.1717278863248852), (0.6200000000000001, 0.38440000000000013, 4.0099780626191714), (0.6400000000000001, 0.4096000000000002, 2.808385735170235), (0.6600000000000001, 0.4356000000000002, 3.753080599040371), (0.6799999999999999, 0.4623999999999999, 3.6974153550806585), (0.7, 0.48999999999999994, 3.8375189733780775), (0.72, 0.5184, 3.929308849371421), (0.74, 0.5476, 4.229194243307186), (0.76, 0.5776, 3.9466391564167824), (0.78, 0.6084, 4.548465070883604), (0.8, 0.6400000000000001, 4.409131083032417), (0.8200000000000001, 0.6724000000000001, 4.9051323923619154), (0.8400000000000001, 0.7056000000000001, 4.987143626579692), (0.8600000000000001, 0.7396000000000001, 4.769272819820475), (0.8800000000000001, 0.7744000000000002, 5.677607994451816), (0.9000000000000001, 0.8100000000000003, 5.3524942313677855), (0.9199999999999999, 0.8463999999999998, 5.745689201105404), (0.94, 0.8835999999999999, 5.942333255274505), (0.96, 0.9216, 5.739085930215554), (0.98, 0.9603999999999999, 5.581576589652282), (1.0, 1.0, 5.868804615104027)]\n",
            "dataset_train.shape = (81, 3)\n",
            "dataset_test.shape = (20, 3)\n"
          ],
          "name": "stdout"
        }
      ]
    },
    {
      "cell_type": "code",
      "metadata": {
        "colab": {
          "base_uri": "https://localhost:8080/"
        },
        "id": "APhlzOh_Zv29",
        "outputId": "d8645c0a-25c3-456e-e010-10ad46622f4e"
      },
      "source": [
        "# model with a single neuron\n",
        "model = tf.keras.Sequential([\n",
        "    layers.Dense(input_shape=(2,), units=1)\n",
        "])\n",
        "\n",
        "model.summary()"
      ],
      "execution_count": 70,
      "outputs": [
        {
          "output_type": "stream",
          "text": [
            "Model: \"sequential_7\"\n",
            "_________________________________________________________________\n",
            "Layer (type)                 Output Shape              Param #   \n",
            "=================================================================\n",
            "dense_7 (Dense)              (None, 1)                 3         \n",
            "=================================================================\n",
            "Total params: 3\n",
            "Trainable params: 3\n",
            "Non-trainable params: 0\n",
            "_________________________________________________________________\n"
          ],
          "name": "stdout"
        }
      ]
    },
    {
      "cell_type": "code",
      "metadata": {
        "id": "P-N-d3n7aiBD"
      },
      "source": [
        "learning_rate = 0.1\n",
        "optimizer=tf.optimizers.Adam(learning_rate=learning_rate)\n",
        "# optimizer=tf.optimizers.SGD(learning_rate=learning_rate)\n",
        "\n",
        "model.compile(\n",
        "    optimizer=optimizer,\n",
        "    loss='mean_absolute_error')"
      ],
      "execution_count": 71,
      "outputs": []
    },
    {
      "cell_type": "code",
      "metadata": {
        "id": "D5WWr54SQZdk"
      },
      "source": [
        "train_features = dataset_train.copy()\n",
        "test_features = dataset_test.copy()\n",
        "\n",
        "train_labels = train_features.pop('y')\n",
        "test_labels = test_features.pop('y')\n",
        "\n",
        "x = np.array(train_features['x'])\n",
        "x2 = np.array(train_features['x2'])"
      ],
      "execution_count": 72,
      "outputs": []
    },
    {
      "cell_type": "code",
      "metadata": {
        "colab": {
          "base_uri": "https://localhost:8080/"
        },
        "id": "_J_8oEisM9jk",
        "outputId": "d7f537a1-bbd7-474a-bd10-6c65a93f2aa4"
      },
      "source": [
        "\n",
        "\n",
        "train_features['x'].shape"
      ],
      "execution_count": 73,
      "outputs": [
        {
          "output_type": "execute_result",
          "data": {
            "text/plain": [
              "(81,)"
            ]
          },
          "metadata": {
            "tags": []
          },
          "execution_count": 73
        }
      ]
    },
    {
      "cell_type": "code",
      "metadata": {
        "colab": {
          "base_uri": "https://localhost:8080/"
        },
        "id": "nsktIC9SX9GK",
        "outputId": "d244585d-ac8e-488a-a647-5533d8f450f8"
      },
      "source": [
        "x.shape"
      ],
      "execution_count": 67,
      "outputs": [
        {
          "output_type": "execute_result",
          "data": {
            "text/plain": [
              "(81,)"
            ]
          },
          "metadata": {
            "tags": []
          },
          "execution_count": 67
        }
      ]
    },
    {
      "cell_type": "code",
      "metadata": {
        "colab": {
          "base_uri": "https://localhost:8080/"
        },
        "id": "A1JKdvWmNCy3",
        "outputId": "4f055d77-0c70-42af-f35f-4acf4cfb8a87"
      },
      "source": [
        "x2.shape"
      ],
      "execution_count": 64,
      "outputs": [
        {
          "output_type": "execute_result",
          "data": {
            "text/plain": [
              "(81,)"
            ]
          },
          "metadata": {
            "tags": []
          },
          "execution_count": 64
        }
      ]
    },
    {
      "cell_type": "code",
      "metadata": {
        "colab": {
          "base_uri": "https://localhost:8080/"
        },
        "id": "g9QFu89XRMy-",
        "outputId": "5655c0f9-d32f-46a2-d7fb-d75a615bb60b"
      },
      "source": [
        "# https://stackoverflow.com/questions/44747343/keras-input-explanation-input-shape-units-batch-size-dim-etc\n",
        "\n",
        "# tensor_input = list(zip(x, x2))\n",
        "\n",
        "# Input layer of our model expects input_shape=(2,) which means a 2-element tuple (x and x^2).\n",
        "# Let's merge x and x2 into a numpy matrix:\n",
        "tensor_input = np.array([x, x2])\n",
        "# tensor_input = tensor_input.T\n",
        "tensor_input.shape"
      ],
      "execution_count": 65,
      "outputs": [
        {
          "output_type": "execute_result",
          "data": {
            "text/plain": [
              "(2, 81)"
            ]
          },
          "metadata": {
            "tags": []
          },
          "execution_count": 65
        }
      ]
    },
    {
      "cell_type": "code",
      "metadata": {
        "colab": {
          "base_uri": "https://localhost:8080/"
        },
        "id": "5-m8MUZnYaBw",
        "outputId": "ccc74d20-f6af-4b7a-a7b7-45409b62dc87"
      },
      "source": [
        "tensor_input = np.stack((x, x2), axis=-1)\n",
        "tensor_input.shape"
      ],
      "execution_count": 68,
      "outputs": [
        {
          "output_type": "execute_result",
          "data": {
            "text/plain": [
              "(81, 2)"
            ]
          },
          "metadata": {
            "tags": []
          },
          "execution_count": 68
        }
      ]
    },
    {
      "cell_type": "code",
      "metadata": {
        "colab": {
          "base_uri": "https://localhost:8080/"
        },
        "id": "TF8QJ-quav-6",
        "outputId": "1928cceb-1d28-4900-d1ec-ea4da1133c1f"
      },
      "source": [
        "%%time\n",
        "history = model.fit(\n",
        "    tensor_input, train_labels,\n",
        "    epochs=100,\n",
        "    # suppress logging\n",
        "    verbose=0,\n",
        "    # Calculate validation results on 20% of the training data\n",
        "    validation_split = 0.2)"
      ],
      "execution_count": 74,
      "outputs": [
        {
          "output_type": "stream",
          "text": [
            "CPU times: user 7.87 s, sys: 134 ms, total: 8.01 s\n",
            "Wall time: 7.98 s\n"
          ],
          "name": "stdout"
        }
      ]
    },
    {
      "cell_type": "code",
      "metadata": {
        "colab": {
          "base_uri": "https://localhost:8080/"
        },
        "id": "_SgLv8K4YxfR",
        "outputId": "174927ae-fc2b-44c2-c791-8c755fb60b47"
      },
      "source": [
        "x = np.linspace(-1, 1, 101)\n",
        "x2 = x**2\n",
        "\n",
        "y = model.predict(np.stack((x, x2), axis=-1))"
      ],
      "execution_count": 77,
      "outputs": [
        {
          "output_type": "stream",
          "text": [
            "WARNING:tensorflow:5 out of the last 11 calls to <function Model.make_predict_function.<locals>.predict_function at 0x7fb592bc2710> triggered tf.function retracing. Tracing is expensive and the excessive number of tracings could be due to (1) creating @tf.function repeatedly in a loop, (2) passing tensors with different shapes, (3) passing Python objects instead of tensors. For (1), please define your @tf.function outside of the loop. For (2), @tf.function has experimental_relax_shapes=True option that relaxes argument shapes that can avoid unnecessary retracing. For (3), please refer to https://www.tensorflow.org/guide/function#controlling_retracing and https://www.tensorflow.org/api_docs/python/tf/function for  more details.\n"
          ],
          "name": "stdout"
        }
      ]
    },
    {
      "cell_type": "code",
      "metadata": {
        "id": "NADbtS0rYyUT"
      },
      "source": [
        "def plot_fn(x, y):\n",
        "  plt.scatter(train_features['x'], train_labels, label='Data')\n",
        "  plt.plot(x, y, color='k', label='Predictions')\n",
        "  plt.xlabel('x')\n",
        "  plt.ylabel('y')\n",
        "  plt.legend()"
      ],
      "execution_count": 78,
      "outputs": []
    },
    {
      "cell_type": "code",
      "metadata": {
        "colab": {
          "base_uri": "https://localhost:8080/",
          "height": 279
        },
        "id": "ex4HmlL_ZhGH",
        "outputId": "97a27a4f-7e99-4e26-832c-709cd4d2c2e9"
      },
      "source": [
        "plot_fn(x,y)"
      ],
      "execution_count": 79,
      "outputs": [
        {
          "output_type": "display_data",
          "data": {
            "image/png": "[encoded data removed]",
            "text/plain": [
              "<Figure size 432x288 with 1 Axes>"
            ]
          },
          "metadata": {
            "tags": [],
            "needs_background": "light"
          }
        }
      ]
    }
  ]
}