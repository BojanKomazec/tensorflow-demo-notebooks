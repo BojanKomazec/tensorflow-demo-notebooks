{
  "nbformat": 4,
  "nbformat_minor": 0,
  "metadata": {
    "colab": {
      "name": "Polynomial-linear-regression-with-single-neuron.ipynb",
      "provenance": [],
      "collapsed_sections": [],
      "authorship_tag": "ABX9TyOZvpOt5zuNVEe74Hy7YDfi",
      "include_colab_link": true
    },
    "kernelspec": {
      "name": "python3",
      "display_name": "Python 3"
    },
    "language_info": {
      "name": "python"
    }
  },
  "cells": [
    {
      "cell_type": "markdown",
      "metadata": {
        "id": "view-in-github",
        "colab_type": "text"
      },
      "source": [
        "<a href=\"https://colab.research.google.com/github/BojanKomazec/tensorflow-demo-notebooks/blob/main/Polynomial_linear_regression_with_single_neuron.ipynb\" target=\"_parent\"><img src=\"https://colab.research.google.com/assets/colab-badge.svg\" alt=\"Open In Colab\"/></a>"
      ]
    },
    {
      "cell_type": "code",
      "metadata": {
        "id": "xjFJQp_ctEQ6"
      },
      "source": [
        "import numpy as np\n",
        "import matplotlib.pyplot as plt\n",
        "import pandas as pd\n",
        "\n",
        "import tensorflow as tf\n",
        "from tensorflow import keras\n",
        "from tensorflow.keras import layers"
      ],
      "execution_count": 1,
      "outputs": []
    },
    {
      "cell_type": "code",
      "metadata": {
        "colab": {
          "base_uri": "https://localhost:8080/"
        },
        "id": "2I-56Fkftepo",
        "outputId": "79ac882a-8bf6-4fa2-e88b-90c5d3397732"
      },
      "source": [
        "#\n",
        "# Create x and y values for datapoints\n",
        "#\n",
        "\n",
        "dataset_x = np.linspace(-1, 1, 100)\n",
        "print(f'dataset_x.shape = {dataset_x.shape}')\n",
        "\n",
        "# Our model will need to learn these values\n",
        "K2 = 3\n",
        "K1 = 2\n",
        "B = 1\n",
        "\n",
        "rng = np.random.default_rng()\n",
        "dataset_y = K2 * dataset_x**2 + K1 * dataset_x + B + rng.standard_normal(*dataset_x.shape) * 0.33"
      ],
      "execution_count": 2,
      "outputs": [
        {
          "output_type": "stream",
          "text": [
            "dataset_x.shape = (100,)\n"
          ],
          "name": "stdout"
        }
      ]
    },
    {
      "cell_type": "code",
      "metadata": {
        "colab": {
          "base_uri": "https://localhost:8080/",
          "height": 265
        },
        "id": "eddpnggSuBG9",
        "outputId": "f92f4b1c-494e-4d9a-9f6a-289c94c0e7ab"
      },
      "source": [
        "#\n",
        "# (Optional) Plot data points\n",
        "#\n",
        "\n",
        "plt.plot(dataset_x, dataset_y, 'bo')\n",
        "plt.show()"
      ],
      "execution_count": 3,
      "outputs": [
        {
          "output_type": "display_data",
          "data": {
            "image/png": "[encoded data removed]",
            "text/plain": [
              "<Figure size 432x288 with 1 Axes>"
            ]
          },
          "metadata": {
            "tags": [],
            "needs_background": "light"
          }
        }
      ]
    },
    {
      "cell_type": "code",
      "metadata": {
        "id": "rbDm6BM4vPqS",
        "colab": {
          "base_uri": "https://localhost:8080/"
        },
        "outputId": "9395672a-4020-4324-afb6-55644dd21ea2"
      },
      "source": [
        "#\n",
        "# Create a training and test datasets\n",
        "#\n",
        "\n",
        "dataset = list(zip(dataset_x, dataset_y))\n",
        "print(f'dataset = {dataset}')\n",
        "\n",
        "df_dataset = pd.DataFrame.from_records(dataset, columns = ['x', 'y'] )\n",
        "\n",
        "dataset_train = df_dataset.sample(frac=0.8, random_state=0)\n",
        "print(f'dataset_train.shape = {dataset_train.shape}')\n",
        "dataset_test = df_dataset.drop(dataset_train.index)\n",
        "print(f'dataset_test.shape = {dataset_test.shape}')"
      ],
      "execution_count": 4,
      "outputs": [
        {
          "output_type": "stream",
          "text": [
            "dataset = [(-1.0, 2.0768783617158064), (-0.9797979797979798, 1.6988480493300404), (-0.9595959595959596, 1.8387577062789153), (-0.9393939393939394, 1.9077216107867607), (-0.9191919191919192, 1.4208655317769154), (-0.898989898989899, 2.372597288339214), (-0.8787878787878788, 1.8826372222609837), (-0.8585858585858586, 1.6262435244762372), (-0.8383838383838383, 2.016174758115087), (-0.8181818181818181, 0.8186733162904473), (-0.797979797979798, 1.562757207081349), (-0.7777777777777778, 1.644136838965086), (-0.7575757575757576, 1.0106116447202904), (-0.7373737373737373, 1.1691744711552268), (-0.7171717171717171, 0.9199049755378688), (-0.696969696969697, 1.0687679082891577), (-0.6767676767676767, 1.2256314733899747), (-0.6565656565656566, 0.9684736307686992), (-0.6363636363636364, 0.7484870964012266), (-0.6161616161616161, 0.7507411281599146), (-0.5959595959595959, 0.6540474779855396), (-0.5757575757575757, 1.0480744320768376), (-0.5555555555555556, 0.8634162172937273), (-0.5353535353535352, 0.11649940298210293), (-0.5151515151515151, 0.8061139780153298), (-0.4949494949494949, 0.6660731709480233), (-0.4747474747474747, 0.7971079174723581), (-0.4545454545454545, 0.008238447183423037), (-0.43434343434343425, 0.8223516192521385), (-0.41414141414141414, 0.49478337737911704), (-0.3939393939393939, 0.6682452969805344), (-0.3737373737373737, 0.3218229734756414), (-0.3535353535353535, 0.3562198390735615), (-0.33333333333333326, 0.4741011165914528), (-0.31313131313131304, 0.09746965526728135), (-0.2929292929292928, 0.5500068566010766), (-0.2727272727272727, 0.07392290918573918), (-0.2525252525252525, -0.08477435643641329), (-0.23232323232323226, 0.6775500116508609), (-0.21212121212121204, 0.4621122152723393), (-0.19191919191919182, 0.3737549348922226), (-0.1717171717171716, 0.42823101746920755), (-0.1515151515151515, 0.8285387603364913), (-0.13131313131313127, 0.549423203600882), (-0.11111111111111105, 0.6704105446700195), (-0.09090909090909083, 0.7586643232746856), (-0.07070707070707061, 0.9755981292707276), (-0.050505050505050386, 1.2480003129494017), (-0.030303030303030276, 0.6911201302823069), (-0.010101010101010055, 0.6073437049751005), (0.010101010101010166, 1.54330085635474), (0.030303030303030498, 0.796104687406568), (0.05050505050505061, 1.628765615971273), (0.07070707070707072, 1.0300741686363715), (0.09090909090909105, 1.3342445546953265), (0.11111111111111116, 1.5596451030749092), (0.1313131313131315, 1.1415619931870489), (0.1515151515151516, 1.2954710527393725), (0.1717171717171717, 1.9041795345854982), (0.19191919191919204, 1.566668683902241), (0.21212121212121215, 2.2574541426610786), (0.2323232323232325, 1.1807670500012502), (0.2525252525252526, 1.5879495121871259), (0.27272727272727293, 1.8533302061025851), (0.29292929292929304, 1.428181989385593), (0.31313131313131315, 1.7119106358372727), (0.3333333333333335, 2.2825249370796836), (0.3535353535353536, 1.8786346022380749), (0.3737373737373739, 1.6424719441909266), (0.39393939393939403, 2.4571869867214247), (0.41414141414141437, 2.1117783981159075), (0.4343434343434345, 2.315432821277392), (0.4545454545454546, 2.286473284226574), (0.4747474747474749, 3.176091364798171), (0.49494949494949503, 2.9255222854809873), (0.5151515151515154, 2.521830059285107), (0.5353535353535355, 2.76614758084879), (0.5555555555555556, 3.113186821798692), (0.5757575757575759, 2.8350267811542094), (0.595959595959596, 3.0955911140381915), (0.6161616161616164, 3.1298546973305643), (0.6363636363636365, 3.7266907178499564), (0.6565656565656568, 3.646989943420811), (0.6767676767676769, 3.877998892714587), (0.696969696969697, 3.696876907978021), (0.7171717171717173, 3.9462618822759756), (0.7373737373737375, 3.7434804372523267), (0.7575757575757578, 4.195568369186754), (0.7777777777777779, 5.124815595543399), (0.7979797979797982, 4.668744424688631), (0.8181818181818183, 5.474379896186333), (0.8383838383838385, 4.686319653957263), (0.8585858585858588, 5.056197433601986), (0.8787878787878789, 4.780126804220858), (0.8989898989898992, 6.042577328547753), (0.9191919191919193, 5.4965671937789855), (0.9393939393939394, 5.679425235639919), (0.9595959595959598, 5.640208774097429), (0.9797979797979799, 5.942467073517611), (1.0, 5.94399814522471)]\n",
            "dataset_train.shape = (80, 2)\n",
            "dataset_test.shape = (20, 2)\n"
          ],
          "name": "stdout"
        }
      ]
    },
    {
      "cell_type": "code",
      "metadata": {
        "colab": {
          "base_uri": "https://localhost:8080/"
        },
        "id": "2zi8dhjGBX_4",
        "outputId": "136abff6-8167-422f-aae1-bd318cbe7026"
      },
      "source": [
        "#\n",
        "# Build a model with a single neuron which takes a single feature as an input\n",
        "#\n",
        "\n",
        "FEATURES_COUNT = 1\n",
        "\n",
        "model = tf.keras.Sequential([\n",
        "    layers.Dense(input_shape=(FEATURES_COUNT,), units=1)\n",
        "])\n",
        "\n",
        "model.summary()"
      ],
      "execution_count": 5,
      "outputs": [
        {
          "output_type": "stream",
          "text": [
            "Model: \"sequential\"\n",
            "_________________________________________________________________\n",
            "Layer (type)                 Output Shape              Param #   \n",
            "=================================================================\n",
            "dense (Dense)                (None, 1)                 2         \n",
            "=================================================================\n",
            "Total params: 2\n",
            "Trainable params: 2\n",
            "Non-trainable params: 0\n",
            "_________________________________________________________________\n"
          ],
          "name": "stdout"
        }
      ]
    },
    {
      "cell_type": "code",
      "metadata": {
        "id": "lgkwJHL_Byue"
      },
      "source": [
        "#\n",
        "# Define function which plots a scatter graph of dataset datapoints and a line\n",
        "# defined with its (x, y) datapoints.\n",
        "#\n",
        " \n",
        "def plot_fn(dataset_x, dataset_y, x, y):\n",
        "  plt.plot(dataset_x, dataset_y, 'bo', label='Data')\n",
        "  plt.plot(x, y, color='k', label='Predictions')\n",
        "  plt.xlabel('x')\n",
        "  plt.ylabel('y')\n",
        "  plt.legend()\n",
        "  plt.show()"
      ],
      "execution_count": 7,
      "outputs": []
    },
    {
      "cell_type": "code",
      "metadata": {
        "colab": {
          "base_uri": "https://localhost:8080/",
          "height": 279
        },
        "id": "crRCrQMrBZoE",
        "outputId": "e528b1d8-1f8a-4f54-fb10-b82178c9e420"
      },
      "source": [
        "#\n",
        "# (Optional)\n",
        "# Check the output of the untrained model\n",
        "#\n",
        "\n",
        "y = model.predict(dataset_x)\n",
        "plot_fn(dataset_x, dataset_y, dataset_x, y)"
      ],
      "execution_count": 8,
      "outputs": [
        {
          "output_type": "display_data",
          "data": {
            "image/png": "[encoded data removed]",
            "text/plain": [
              "<Figure size 432x288 with 1 Axes>"
            ]
          },
          "metadata": {
            "tags": [],
            "needs_background": "light"
          }
        }
      ]
    },
    {
      "cell_type": "code",
      "metadata": {
        "id": "CykQOAnkBekX"
      },
      "source": [
        "#\n",
        "# Compile the model\n",
        "#\n",
        "# This sets:\n",
        "# - loss function e.g. Mean Absolute Error or Mean Squared Error\n",
        "# - optimization algorithm e.g. Adam or Stochastic Gradient Descent and its\n",
        "#.  arguments e.g. learning rate for Gradient Descent\n",
        "#\n",
        "\n",
        "learning_rate = 0.1\n",
        "optimizer=tf.optimizers.Adam(learning_rate=learning_rate)\n",
        "# optimizer=tf.optimizers.SGD(learning_rate=learning_rate)\n",
        "\n",
        "model.compile(\n",
        "    optimizer=optimizer,\n",
        "    loss='mean_absolute_error')"
      ],
      "execution_count": 9,
      "outputs": []
    },
    {
      "cell_type": "code",
      "metadata": {
        "colab": {
          "base_uri": "https://localhost:8080/"
        },
        "id": "TKt7Jkj1Bl3s",
        "outputId": "05320c4a-ff4b-4a08-b13a-442d6736320a"
      },
      "source": [
        "#\n",
        "# Train the model\n",
        "#\n",
        "\n",
        "%%time\n",
        "history = model.fit(\n",
        "    dataset_train['x'], dataset_train['y'],\n",
        "    epochs=100,\n",
        "    # suppress logging\n",
        "    verbose=0,\n",
        "    # Calculate validation results on 20% of the training data\n",
        "    validation_split = 0.2)"
      ],
      "execution_count": 10,
      "outputs": [
        {
          "output_type": "stream",
          "text": [
            "CPU times: user 2.3 s, sys: 85.8 ms, total: 2.38 s\n",
            "Wall time: 2.66 s\n"
          ],
          "name": "stdout"
        }
      ]
    },
    {
      "cell_type": "code",
      "metadata": {
        "colab": {
          "base_uri": "https://localhost:8080/",
          "height": 279
        },
        "id": "dOZoh3o5B2J9",
        "outputId": "0689d541-ae3f-431d-e5ac-ea55a26ca8e0"
      },
      "source": [
        "# \n",
        "# Plot the final function approximation\n",
        "#\n",
        "\n",
        "y = model.predict(dataset_x)\n",
        "plot_fn(dataset_x, dataset_y, dataset_x, y)"
      ],
      "execution_count": 11,
      "outputs": [
        {
          "output_type": "display_data",
          "data": {
            "image/png": "[encoded data removed]",
            "text/plain": [
              "<Figure size 432x288 with 1 Axes>"
            ]
          },
          "metadata": {
            "tags": [],
            "needs_background": "light"
          }
        }
      ]
    },
    {
      "cell_type": "markdown",
      "metadata": {
        "id": "YS7RQJf59Hm-"
      },
      "source": [
        "We can see that a (single) neuron with a single input feature is only capable of learning a linear hypothesis: `h(x) = k*x + b`. To learn more complex functions of single independent variable, like e.g. `h(x) = k3 * x^3 + k2 * x^2 + k1 * x + k0` we need to treat powers of `x` as independent new variables (separate features) and feed them as inputs into the neuron."
      ]
    },
    {
      "cell_type": "code",
      "metadata": {
        "colab": {
          "base_uri": "https://localhost:8080/"
        },
        "id": "m4g6mVR_PfDS",
        "outputId": "16634440-9982-468e-a8ea-c7c08db08892"
      },
      "source": [
        "#\n",
        "# Let's expand our dataset with artificially created features:\n",
        "#\n",
        "\n",
        "# Dataset points follow the curve line which looks like polynomial of 2nd\n",
        "# degree: y = b + k1 * x + k2 * x^2\n",
        "# So features are x and x and x^2 and label is y.\n",
        "\n",
        "dataset = list(zip(dataset_x, dataset_x**2,  dataset_y))\n",
        "print(f'dataset = {dataset}') # list of (x, x^2, y) tuples\n",
        "\n",
        "df_dataset =  pd.DataFrame.from_records(dataset, columns = ['x', 'x2', 'y'] )\n",
        "\n",
        "dataset_train = df_dataset.sample(frac=0.8, random_state=0)\n",
        "print(f'dataset_train.shape = {dataset_train.shape}')\n",
        "dataset_test = df_dataset.drop(dataset_train.index)\n",
        "print(f'dataset_test.shape = {dataset_test.shape}')"
      ],
      "execution_count": 12,
      "outputs": [
        {
          "output_type": "stream",
          "text": [
            "dataset = [(-1.0, 1.0, 2.0768783617158064), (-0.9797979797979798, 0.9600040812162024, 1.6988480493300404), (-0.9595959595959596, 0.9208244056728905, 1.8387577062789153), (-0.9393939393939394, 0.8824609733700643, 1.9077216107867607), (-0.9191919191919192, 0.8449137843077238, 1.4208655317769154), (-0.898989898989899, 0.8081828384858688, 2.372597288339214), (-0.8787878787878788, 0.7722681359044995, 1.8826372222609837), (-0.8585858585858586, 0.7371696765636159, 1.6262435244762372), (-0.8383838383838383, 0.7028874604632179, 2.016174758115087), (-0.8181818181818181, 0.6694214876033057, 0.8186733162904473), (-0.797979797979798, 0.6367717579838792, 1.562757207081349), (-0.7777777777777778, 0.6049382716049383, 1.644136838965086), (-0.7575757575757576, 0.573921028466483, 1.0106116447202904), (-0.7373737373737373, 0.5437200285685134, 1.1691744711552268), (-0.7171717171717171, 0.5143352719110295, 0.9199049755378688), (-0.696969696969697, 0.4857667584940313, 1.0687679082891577), (-0.6767676767676767, 0.4580144883175185, 1.2256314733899747), (-0.6565656565656566, 0.4310784613814917, 0.9684736307686992), (-0.6363636363636364, 0.4049586776859504, 0.7484870964012266), (-0.6161616161616161, 0.3796551372308948, 0.7507411281599146), (-0.5959595959595959, 0.3551678400163248, 0.6540474779855396), (-0.5757575757575757, 0.33149678604224053, 1.0480744320768376), (-0.5555555555555556, 0.308641975308642, 0.8634162172937273), (-0.5353535353535352, 0.2866034078155289, 0.11649940298210293), (-0.5151515151515151, 0.26538108356290174, 0.8061139780153298), (-0.4949494949494949, 0.2449750025507601, 0.6660731709480233), (-0.4747474747474747, 0.2253851647791041, 0.7971079174723581), (-0.4545454545454545, 0.2066115702479338, 0.008238447183423037), (-0.43434343434343425, 0.18865421895724918, 0.8223516192521385), (-0.41414141414141414, 0.1715131109070503, 0.49478337737911704), (-0.3939393939393939, 0.155188246097337, 0.6682452969805344), (-0.3737373737373737, 0.13967962452810934, 0.3218229734756414), (-0.3535353535353535, 0.12498724619936737, 0.3562198390735615), (-0.33333333333333326, 0.11111111111111106, 0.4741011165914528), (-0.31313131313131304, 0.09805121926334041, 0.09746965526728135), (-0.2929292929292928, 0.08580757065605545, 0.5500068566010766), (-0.2727272727272727, 0.07438016528925619, 0.07392290918573918), (-0.2525252525252525, 0.06376900316294254, -0.08477435643641329), (-0.23232323232323226, 0.05397408427711455, 0.6775500116508609), (-0.21212121212121204, 0.04499540863177223, 0.4621122152723393), (-0.19191919191919182, 0.03683297622691559, 0.3737549348922226), (-0.1717171717171716, 0.0294867870625446, 0.42823101746920755), (-0.1515151515151515, 0.022956841138659312, 0.8285387603364913), (-0.13131313131313127, 0.017243138455259654, 0.549423203600882), (-0.11111111111111105, 0.012345679012345664, 0.6704105446700195), (-0.09090909090909083, 0.00826446280991734, 0.7586643232746856), (-0.07070707070707061, 0.004999489847974682, 0.9755981292707276), (-0.050505050505050386, 0.0025507601265176904, 1.2480003129494017), (-0.030303030303030276, 0.0009182736455463712, 0.6911201302823069), (-0.010101010101010055, 0.00010203040506070717, 0.6073437049751005), (0.010101010101010166, 0.0001020304050607094, 1.54330085635474), (0.030303030303030498, 0.0009182736455463846, 0.796104687406568), (0.05050505050505061, 0.0025507601265177125, 1.628765615971273), (0.07070707070707072, 0.0049994898479746985, 1.0300741686363715), (0.09090909090909105, 0.008264462809917382, 1.3342445546953265), (0.11111111111111116, 0.01234567901234569, 1.5596451030749092), (0.1313131313131315, 0.017243138455259713, 1.1415619931870489), (0.1515151515151516, 0.022956841138659347, 1.2954710527393725), (0.1717171717171717, 0.029486787062544637, 1.9041795345854982), (0.19191919191919204, 0.03683297622691567, 1.566668683902241), (0.21212121212121215, 0.04499540863177228, 2.2574541426610786), (0.2323232323232325, 0.053974084277114656, 1.1807670500012502), (0.2525252525252526, 0.0637690031629426, 1.5879495121871259), (0.27272727272727293, 0.07438016528925631, 1.8533302061025851), (0.29292929292929304, 0.08580757065605557, 1.428181989385593), (0.31313131313131315, 0.09805121926334048, 1.7119106358372727), (0.3333333333333335, 0.11111111111111122, 2.2825249370796836), (0.3535353535353536, 0.12498724619936745, 1.8786346022380749), (0.3737373737373739, 0.1396796245281095, 1.6424719441909266), (0.39393939393939403, 0.15518824609733708, 2.4571869867214247), (0.41414141414141437, 0.1715131109070505, 2.1117783981159075), (0.4343434343434345, 0.18865421895724938, 2.315432821277392), (0.4545454545454546, 0.20661157024793392, 2.286473284226574), (0.4747474747474749, 0.22538516477910434, 3.176091364798171), (0.49494949494949503, 0.2449750025507602, 2.9255222854809873), (0.5151515151515154, 0.26538108356290196, 2.521830059285107), (0.5353535353535355, 0.2866034078155292, 2.76614758084879), (0.5555555555555556, 0.308641975308642, 3.113186821798692), (0.5757575757575759, 0.33149678604224075, 2.8350267811542094), (0.595959595959596, 0.35516784001632495, 3.0955911140381915), (0.6161616161616164, 0.37965513723089506, 3.1298546973305643), (0.6363636363636365, 0.40495867768595056, 3.7266907178499564), (0.6565656565656568, 0.431078461381492, 3.646989943420811), (0.6767676767676769, 0.4580144883175188, 3.877998892714587), (0.696969696969697, 0.4857667584940313, 3.696876907978021), (0.7171717171717173, 0.5143352719110298, 3.9462618822759756), (0.7373737373737375, 0.5437200285685135, 3.7434804372523267), (0.7575757575757578, 0.5739210284664833, 4.195568369186754), (0.7777777777777779, 0.6049382716049385, 5.124815595543399), (0.7979797979797982, 0.6367717579838796, 4.668744424688631), (0.8181818181818183, 0.669421487603306, 5.474379896186333), (0.8383838383838385, 0.7028874604632181, 4.686319653957263), (0.8585858585858588, 0.7371696765636163, 5.056197433601986), (0.8787878787878789, 0.7722681359044997, 4.780126804220858), (0.8989898989898992, 0.8081828384858692, 6.042577328547753), (0.9191919191919193, 0.844913784307724, 5.4965671937789855), (0.9393939393939394, 0.8824609733700643, 5.679425235639919), (0.9595959595959598, 0.9208244056728909, 5.640208774097429), (0.9797979797979799, 0.9600040812162026, 5.942467073517611), (1.0, 1.0, 5.94399814522471)]\n",
            "dataset_train.shape = (80, 3)\n",
            "dataset_test.shape = (20, 3)\n"
          ],
          "name": "stdout"
        }
      ]
    },
    {
      "cell_type": "code",
      "metadata": {
        "colab": {
          "base_uri": "https://localhost:8080/"
        },
        "id": "APhlzOh_Zv29",
        "outputId": "6fec4023-d863-4652-b70c-cd507fe4fd2c"
      },
      "source": [
        "#\n",
        "# Build a model with a single neuron which takes 2 features as (2) inputs\n",
        "#\n",
        "\n",
        "FEATURES_COUNT = 2\n",
        "\n",
        "model = tf.keras.Sequential([\n",
        "    layers.Dense(input_shape=(FEATURES_COUNT,), units=1)\n",
        "])\n",
        "\n",
        "model.summary()"
      ],
      "execution_count": 13,
      "outputs": [
        {
          "output_type": "stream",
          "text": [
            "Model: \"sequential_1\"\n",
            "_________________________________________________________________\n",
            "Layer (type)                 Output Shape              Param #   \n",
            "=================================================================\n",
            "dense_1 (Dense)              (None, 1)                 3         \n",
            "=================================================================\n",
            "Total params: 3\n",
            "Trainable params: 3\n",
            "Non-trainable params: 0\n",
            "_________________________________________________________________\n"
          ],
          "name": "stdout"
        }
      ]
    },
    {
      "cell_type": "code",
      "metadata": {
        "id": "P-N-d3n7aiBD"
      },
      "source": [
        "#\n",
        "# Compile the model\n",
        "# We'll use the same learning_rate and optimizer as before\n",
        "#\n",
        " \n",
        "model.compile(\n",
        "    optimizer=optimizer,\n",
        "    loss='mean_absolute_error')"
      ],
      "execution_count": 14,
      "outputs": []
    },
    {
      "cell_type": "code",
      "metadata": {
        "colab": {
          "base_uri": "https://localhost:8080/"
        },
        "id": "g9QFu89XRMy-",
        "outputId": "ca51988f-70bb-451f-cba9-34a256370100"
      },
      "source": [
        "# https://stackoverflow.com/questions/44747343/keras-input-explanation-input-shape-units-batch-size-dim-etc\n",
        "\n",
        "# tensor_input = list(zip(x, x2))\n",
        "\n",
        "# Input layer of our model expects input_shape=(2,) which means a 2-element tuple (x and x^2).\n",
        "# Let's merge x and x2 into a numpy matrix:\n",
        "tensor_input = np.array([dataset_train['x'], dataset_train['x2']])\n",
        "# tensor_input = tensor_input.T\n",
        "tensor_input.shape"
      ],
      "execution_count": 15,
      "outputs": [
        {
          "output_type": "execute_result",
          "data": {
            "text/plain": [
              "(2, 80)"
            ]
          },
          "metadata": {
            "tags": []
          },
          "execution_count": 15
        }
      ]
    },
    {
      "cell_type": "code",
      "metadata": {
        "colab": {
          "base_uri": "https://localhost:8080/"
        },
        "id": "5-m8MUZnYaBw",
        "outputId": "c4739c46-db82-4f09-9dd7-c02822f49bab"
      },
      "source": [
        "tensor_input = np.stack((dataset_train['x'], dataset_train['x2']), axis=-1)\n",
        "tensor_input.shape"
      ],
      "execution_count": 16,
      "outputs": [
        {
          "output_type": "execute_result",
          "data": {
            "text/plain": [
              "(80, 2)"
            ]
          },
          "metadata": {
            "tags": []
          },
          "execution_count": 16
        }
      ]
    },
    {
      "cell_type": "code",
      "metadata": {
        "colab": {
          "base_uri": "https://localhost:8080/"
        },
        "id": "TF8QJ-quav-6",
        "outputId": "4654e6c5-5469-4fbb-b6de-b43cf995f1fb"
      },
      "source": [
        "#\n",
        "# Train the model\n",
        "#\n",
        "\n",
        "%%time\n",
        "history = model.fit(\n",
        "    tensor_input, dataset_train['y'],\n",
        "    epochs=100,\n",
        "    # suppress logging\n",
        "    verbose=0,\n",
        "    # Calculate validation results on 20% of the training data\n",
        "    validation_split = 0.2)"
      ],
      "execution_count": 17,
      "outputs": [
        {
          "output_type": "stream",
          "text": [
            "CPU times: user 2.32 s, sys: 102 ms, total: 2.42 s\n",
            "Wall time: 2.54 s\n"
          ],
          "name": "stdout"
        }
      ]
    },
    {
      "cell_type": "code",
      "metadata": {
        "colab": {
          "base_uri": "https://localhost:8080/",
          "height": 279
        },
        "id": "_SgLv8K4YxfR",
        "outputId": "792398da-6a83-4ef2-c34c-6b3ce2c10f98"
      },
      "source": [
        "# \n",
        "# Plot the final function approximation\n",
        "#\n",
        "y = model.predict(np.stack((dataset_x, dataset_x**2), axis=-1))\n",
        "plot_fn(dataset_x, dataset_y, dataset_x, y)"
      ],
      "execution_count": 18,
      "outputs": [
        {
          "output_type": "display_data",
          "data": {
            "image/png": "[encoded data removed]",
            "text/plain": [
              "<Figure size 432x288 with 1 Axes>"
            ]
          },
          "metadata": {
            "tags": [],
            "needs_background": "light"
          }
        }
      ]
    },
    {
      "cell_type": "code",
      "metadata": {
        "colab": {
          "base_uri": "https://localhost:8080/"
        },
        "id": "gRv7It4jGAWI",
        "outputId": "fba1e13c-b064-4724-d792-40a8affe9cce"
      },
      "source": [
        "#\n",
        "# Print the values of learned and original model parameters.\n",
        "#\n",
        "\n",
        "# Check out the weights' values of the trained model\n",
        "for layer in model.layers: print(layer.get_config(), layer.get_weights())\n",
        "\n",
        "first_layer_weights = model.layers[0].get_weights()[0]\n",
        "first_layer_biases  = model.layers[0].get_weights()[1]\n",
        "\n",
        "print(f'Learned 1st degree coefficient is {first_layer_weights[0]} while original is {K1}')\n",
        "print(f'Learned 2nd degree coefficient is {first_layer_weights[1]} while original is {K2}')\n",
        "print(f'Learned intercept is {first_layer_biases[0]} while original is {B}')"
      ],
      "execution_count": 20,
      "outputs": [
        {
          "output_type": "stream",
          "text": [
            "{'name': 'dense_1', 'trainable': True, 'batch_input_shape': (None, 2), 'dtype': 'float32', 'units': 1, 'activation': 'linear', 'use_bias': True, 'kernel_initializer': {'class_name': 'GlorotUniform', 'config': {'seed': None}}, 'bias_initializer': {'class_name': 'Zeros', 'config': {}}, 'kernel_regularizer': None, 'bias_regularizer': None, 'activity_regularizer': None, 'kernel_constraint': None, 'bias_constraint': None} [array([[1.939015 ],\n",
            "       [3.1628537]], dtype=float32), array([0.94044065], dtype=float32)]\n",
            "Learned 1st degree coefficient is [1.939015] while original is 2\n",
            "Learned 2nd degree coefficient is [3.1628537] while original is 3\n",
            "Learned intercept is 0.9404406547546387 while original is 1\n"
          ],
          "name": "stdout"
        }
      ]
    }
  ]
}