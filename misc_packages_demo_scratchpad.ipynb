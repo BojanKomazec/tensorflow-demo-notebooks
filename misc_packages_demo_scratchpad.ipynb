{
  "nbformat": 4,
  "nbformat_minor": 0,
  "metadata": {
    "colab": {
      "name": "misc-packages-demo-scratchpad.ipynb",
      "provenance": [],
      "collapsed_sections": [
        "quYMzJfs_XV7",
        "6owL9ars_Tgx"
      ],
      "authorship_tag": "ABX9TyOr8jkOSsTol3+We7i8KB65",
      "include_colab_link": true
    },
    "kernelspec": {
      "name": "python3",
      "display_name": "Python 3"
    },
    "language_info": {
      "name": "python"
    }
  },
  "cells": [
    {
      "cell_type": "markdown",
      "metadata": {
        "id": "view-in-github",
        "colab_type": "text"
      },
      "source": [
        "<a href=\"https://colab.research.google.com/github/BojanKomazec/tensorflow-demo-notebooks/blob/main/misc_packages_demo_scratchpad.ipynb\" target=\"_parent\"><img src=\"https://colab.research.google.com/assets/colab-badge.svg\" alt=\"Open In Colab\"/></a>"
      ]
    },
    {
      "cell_type": "markdown",
      "metadata": {
        "id": "quYMzJfs_XV7"
      },
      "source": [
        "#Google Colab basics (Python)"
      ]
    },
    {
      "cell_type": "code",
      "metadata": {
        "id": "e5o8HyZztQvP",
        "colab": {
          "base_uri": "https://localhost:8080/"
        },
        "outputId": "55c74fe5-a355-4afa-a8d7-8e9a1e3614df"
      },
      "source": [
        "print('Hello, world!')"
      ],
      "execution_count": 64,
      "outputs": [
        {
          "output_type": "stream",
          "text": [
            "Hello, world!\n"
          ],
          "name": "stdout"
        }
      ]
    },
    {
      "cell_type": "code",
      "metadata": {
        "colab": {
          "base_uri": "https://localhost:8080/",
          "height": 52
        },
        "id": "YW7dG1YlTDzK",
        "outputId": "a58b8b3e-853a-464e-e759-1e2e9406ddab"
      },
      "source": [
        "message = 'Hello, world!'\n",
        "print(type(message))\n",
        "message"
      ],
      "execution_count": 65,
      "outputs": [
        {
          "output_type": "stream",
          "text": [
            "<class 'str'>\n"
          ],
          "name": "stdout"
        },
        {
          "output_type": "execute_result",
          "data": {
            "application/vnd.google.colaboratory.intrinsic+json": {
              "type": "string"
            },
            "text/plain": [
              "'Hello, world!'"
            ]
          },
          "metadata": {
            "tags": []
          },
          "execution_count": 65
        }
      ]
    },
    {
      "cell_type": "markdown",
      "metadata": {
        "id": "6owL9ars_Tgx"
      },
      "source": [
        "#Tensorflow"
      ]
    },
    {
      "cell_type": "code",
      "metadata": {
        "id": "IfFCQy3QUo3i"
      },
      "source": [
        "import tensorflow as tf"
      ],
      "execution_count": 66,
      "outputs": []
    },
    {
      "cell_type": "code",
      "metadata": {
        "colab": {
          "base_uri": "https://localhost:8080/"
        },
        "id": "-rAjLkEBUyXj",
        "outputId": "079f6c99-6abc-4c0c-a2df-5cba4fd2a915"
      },
      "source": [
        "print(tf.__version__)"
      ],
      "execution_count": 67,
      "outputs": [
        {
          "output_type": "stream",
          "text": [
            "2.5.0\n"
          ],
          "name": "stdout"
        }
      ]
    },
    {
      "cell_type": "code",
      "metadata": {
        "colab": {
          "base_uri": "https://localhost:8080/"
        },
        "id": "2dIniwVvVHzW",
        "outputId": "70b55871-f46a-4b57-cc5c-f83c20d44386"
      },
      "source": [
        "x1 = tf.constant([1, 2, 3, 4])\n",
        "x2 = tf.constant([5, 6, 7, 8])\n",
        "\n",
        "print(type(x1))\n",
        "x1"
      ],
      "execution_count": 68,
      "outputs": [
        {
          "output_type": "stream",
          "text": [
            "<class 'tensorflow.python.framework.ops.EagerTensor'>\n"
          ],
          "name": "stdout"
        },
        {
          "output_type": "execute_result",
          "data": {
            "text/plain": [
              "<tf.Tensor: shape=(4,), dtype=int32, numpy=array([1, 2, 3, 4], dtype=int32)>"
            ]
          },
          "metadata": {
            "tags": []
          },
          "execution_count": 68
        }
      ]
    },
    {
      "cell_type": "code",
      "metadata": {
        "colab": {
          "base_uri": "https://localhost:8080/"
        },
        "id": "aIckXlcrV_2k",
        "outputId": "287ecab0-2b22-4c9a-de2b-bb2b2036171e"
      },
      "source": [
        "res = tf.multiply(x1, x2)\n",
        "print(res)\n",
        "tf.print(res)\n",
        "res"
      ],
      "execution_count": 69,
      "outputs": [
        {
          "output_type": "stream",
          "text": [
            "tf.Tensor([ 5 12 21 32], shape=(4,), dtype=int32)\n",
            "[5 12 21 32]\n"
          ],
          "name": "stdout"
        },
        {
          "output_type": "execute_result",
          "data": {
            "text/plain": [
              "<tf.Tensor: shape=(4,), dtype=int32, numpy=array([ 5, 12, 21, 32], dtype=int32)>"
            ]
          },
          "metadata": {
            "tags": []
          },
          "execution_count": 69
        }
      ]
    },
    {
      "cell_type": "code",
      "metadata": {
        "colab": {
          "base_uri": "https://localhost:8080/"
        },
        "id": "ybvtYZAYWale",
        "outputId": "81966c94-215e-456d-b942-bea0e4602d57"
      },
      "source": [
        "result2 = x1 * x2\n",
        "result2"
      ],
      "execution_count": 70,
      "outputs": [
        {
          "output_type": "execute_result",
          "data": {
            "text/plain": [
              "<tf.Tensor: shape=(4,), dtype=int32, numpy=array([ 5, 12, 21, 32], dtype=int32)>"
            ]
          },
          "metadata": {
            "tags": []
          },
          "execution_count": 70
        }
      ]
    },
    {
      "cell_type": "markdown",
      "metadata": {
        "id": "PohE3hbZ_PC3"
      },
      "source": [
        "#NumPy"
      ]
    },
    {
      "cell_type": "code",
      "metadata": {
        "id": "C_WU0uAKBCDk"
      },
      "source": [
        "import numpy as np"
      ],
      "execution_count": 71,
      "outputs": []
    },
    {
      "cell_type": "code",
      "metadata": {
        "colab": {
          "base_uri": "https://localhost:8080/"
        },
        "id": "elCt6-HbQ6nU",
        "outputId": "8bd6c2a7-4ae7-4f67-e757-c70271d7c32b"
      },
      "source": [
        "#\n",
        "# Create 0-D array (An array which contains a single scalar)\n",
        "#\n",
        "\n",
        "arr = np.array(123)\n",
        "print(type(arr))\n",
        "print(arr.shape)\n",
        "print(arr[None])\n",
        "print(arr)\n",
        "print(arr + 123)\n",
        "arr\n"
      ],
      "execution_count": 72,
      "outputs": [
        {
          "output_type": "stream",
          "text": [
            "<class 'numpy.ndarray'>\n",
            "()\n",
            "[123]\n",
            "123\n",
            "246\n"
          ],
          "name": "stdout"
        },
        {
          "output_type": "execute_result",
          "data": {
            "text/plain": [
              "array(123)"
            ]
          },
          "metadata": {
            "tags": []
          },
          "execution_count": 72
        }
      ]
    },
    {
      "cell_type": "code",
      "metadata": {
        "colab": {
          "base_uri": "https://localhost:8080/"
        },
        "id": "DVgHOsdNBHCz",
        "outputId": "a8242686-ed77-4caa-f6f3-87726771df21"
      },
      "source": [
        "#\n",
        "# Create 1-D ndarray from Python list\n",
        "#\n",
        "\n",
        "arr = np.array([1, 2, 3, 5, 8, 13])\n",
        "arr"
      ],
      "execution_count": 73,
      "outputs": [
        {
          "output_type": "execute_result",
          "data": {
            "text/plain": [
              "array([ 1,  2,  3,  5,  8, 13])"
            ]
          },
          "metadata": {
            "tags": []
          },
          "execution_count": 73
        }
      ]
    },
    {
      "cell_type": "code",
      "metadata": {
        "colab": {
          "base_uri": "https://localhost:8080/"
        },
        "id": "dfP36yG6PuXS",
        "outputId": "9f501766-47f3-43b5-b72a-73a49ce4bf27"
      },
      "source": [
        "#\n",
        "# Create ndarray from tuple\n",
        "#\n",
        "\n",
        "arr = np.array((15, 17, 20, 24))\n",
        "arr"
      ],
      "execution_count": 74,
      "outputs": [
        {
          "output_type": "execute_result",
          "data": {
            "text/plain": [
              "array([15, 17, 20, 24])"
            ]
          },
          "metadata": {
            "tags": []
          },
          "execution_count": 74
        }
      ]
    },
    {
      "cell_type": "code",
      "metadata": {
        "colab": {
          "base_uri": "https://localhost:8080/"
        },
        "id": "S0xeRxAWBYUU",
        "outputId": "9ff194e9-bfb9-47fe-a6fc-0240510e8944"
      },
      "source": [
        "#\n",
        "# Print various information about ndarray\n",
        "#\n",
        "\n",
        "print(type(arr))\n",
        "print(arr.shape)\n",
        "print(len(arr))\n",
        "print(type(arr[2]))\n",
        "print(arr[2])"
      ],
      "execution_count": 75,
      "outputs": [
        {
          "output_type": "stream",
          "text": [
            "<class 'numpy.ndarray'>\n",
            "(4,)\n",
            "4\n",
            "<class 'numpy.int64'>\n",
            "20\n"
          ],
          "name": "stdout"
        }
      ]
    },
    {
      "cell_type": "code",
      "metadata": {
        "colab": {
          "base_uri": "https://localhost:8080/"
        },
        "id": "78KhQIbCSI1b",
        "outputId": "e9a7db34-bc25-4b64-fb93-7f94425ebd26"
      },
      "source": [
        "#\n",
        "# Create 2-D ndarray\n",
        "#\n",
        "\n",
        "arr = np.array([[1, 2, 3], [4, 5, 6]])\n",
        "arr"
      ],
      "execution_count": 100,
      "outputs": [
        {
          "output_type": "execute_result",
          "data": {
            "text/plain": [
              "array([[1, 2, 3],\n",
              "       [4, 5, 6]])"
            ]
          },
          "metadata": {
            "tags": []
          },
          "execution_count": 100
        }
      ]
    },
    {
      "cell_type": "code",
      "metadata": {
        "colab": {
          "base_uri": "https://localhost:8080/"
        },
        "id": "43CDCGmdUuob",
        "outputId": "5f9eef65-d125-4d73-fa86-38dcc45d22b4"
      },
      "source": [
        "#\n",
        "# Indexing 2-D array\n",
        "#\n",
        "# axis 0 are rows, axis 1 are columns\n",
        "#\n",
        "print('2nd element on 1st dim: ', arr[0, 1])"
      ],
      "execution_count": 94,
      "outputs": [
        {
          "output_type": "stream",
          "text": [
            "2nd element on 1st dim:  2\n"
          ],
          "name": "stdout"
        }
      ]
    },
    {
      "cell_type": "code",
      "metadata": {
        "colab": {
          "base_uri": "https://localhost:8080/"
        },
        "id": "5cF36mO6WLJF",
        "outputId": "e67b78ec-b9d0-44c7-f41d-e815981e9aad"
      },
      "source": [
        "#\n",
        "# Negative indexing\n",
        "#\n",
        "# Use negative indexing to access an array from the end.\n",
        "#\n",
        "print('Last element from 2nd dimension: ', arr[1, -1])"
      ],
      "execution_count": 99,
      "outputs": [
        {
          "output_type": "stream",
          "text": [
            "Last element from 2nd dimension:  6\n"
          ],
          "name": "stdout"
        }
      ]
    },
    {
      "cell_type": "code",
      "metadata": {
        "colab": {
          "base_uri": "https://localhost:8080/"
        },
        "id": "Nf9ULvapZtPT",
        "outputId": "7284ff86-b92f-4148-d523-69080e79a4d9"
      },
      "source": [
        "#\n",
        "# Slicing\n",
        "#\n",
        "\n",
        "# first row in 2-D array: \n",
        "print(f'arr[0] = {arr[0]}')\n",
        "\n",
        "# first column in 2-D array: \n",
        "print(f'arr[:,0] = {arr[:,0]}')\n",
        "\n",
        "# last row in 2-D array: a[:, -1] \n",
        "print(f'arr[-1, :] = {arr[-1, :]}')\n",
        "\n",
        "# last column in 2d array: a[]\n",
        "print(f'arr[:, -1] = {arr[:, -1]}')"
      ],
      "execution_count": 107,
      "outputs": [
        {
          "output_type": "stream",
          "text": [
            "arr[0] = [1 2 3]\n",
            "arr[:,0] = [1 4]\n",
            "arr[-1, :] = [4 5 6]\n",
            "arr[:, -1] = [3 6]\n"
          ],
          "name": "stdout"
        }
      ]
    },
    {
      "cell_type": "code",
      "metadata": {
        "colab": {
          "base_uri": "https://localhost:8080/"
        },
        "id": "Jo8OOxI5SM26",
        "outputId": "3a06e8e9-bc26-42ea-81f2-e6e1c993f90f"
      },
      "source": [
        "#\n",
        "# Create 3-D ndarray\n",
        "#\n",
        "\n",
        "# an array of 2 arrays of 2 arrays where each array has 3 elements\n",
        "arr = np.array([[[1, 2, 3], [4, 5, 6]], [[7, 8, 9], [10, 11, 12]]])\n",
        "arr"
      ],
      "execution_count": 95,
      "outputs": [
        {
          "output_type": "execute_result",
          "data": {
            "text/plain": [
              "array([[[ 1,  2,  3],\n",
              "        [ 4,  5,  6]],\n",
              "\n",
              "       [[ 7,  8,  9],\n",
              "        [10, 11, 12]]])"
            ]
          },
          "metadata": {
            "tags": []
          },
          "execution_count": 95
        }
      ]
    },
    {
      "cell_type": "code",
      "metadata": {
        "colab": {
          "base_uri": "https://localhost:8080/"
        },
        "id": "QvSL89hLVPQG",
        "outputId": "9e7d83e8-618b-49df-cddb-6136d81f79bc"
      },
      "source": [
        "#\n",
        "# Indexing 3-D array\n",
        "#\n",
        "\n",
        "# Access the third element of the second array of the first array:\n",
        "print(arr[0, 1, 2])"
      ],
      "execution_count": 96,
      "outputs": [
        {
          "output_type": "stream",
          "text": [
            "6\n"
          ],
          "name": "stdout"
        }
      ]
    },
    {
      "cell_type": "code",
      "metadata": {
        "colab": {
          "base_uri": "https://localhost:8080/"
        },
        "id": "xzsOxorOSm_2",
        "outputId": "9ce9891b-f524-412e-89e9-5dd3b6408054"
      },
      "source": [
        "#\n",
        "# Check dimension of ndarray\n",
        "#\n",
        "\n",
        "arr.ndim"
      ],
      "execution_count": 78,
      "outputs": [
        {
          "output_type": "execute_result",
          "data": {
            "text/plain": [
              "3"
            ]
          },
          "metadata": {
            "tags": []
          },
          "execution_count": 78
        }
      ]
    },
    {
      "cell_type": "code",
      "metadata": {
        "id": "xkJctM_CUf9c"
      },
      "source": [
        "a = arr[]"
      ],
      "execution_count": null,
      "outputs": []
    },
    {
      "cell_type": "code",
      "metadata": {
        "colab": {
          "base_uri": "https://localhost:8080/"
        },
        "id": "1atjPfdqC7yj",
        "outputId": "78e2e66b-54bb-4b06-9bca-ec5e99de7257"
      },
      "source": [
        "#\n",
        "# Create 2-D ndarray (without copying)\n",
        "#\n",
        "\n",
        "# numpy.asarray is similar to np.array. np.array has copy=True by default while \n",
        "# np.asarray has copy=False. np.array (by default) will make a copy of the \n",
        "# object, while asarray will not.\n",
        "#\n",
        "# Specifying dtype enforces underlying type to be float (instead of default int64)\n",
        "arr2 = np.asarray([[-1,0,1],\n",
        "                   [0,1,2]], dtype=np.float)\n",
        "arr2"
      ],
      "execution_count": 79,
      "outputs": [
        {
          "output_type": "execute_result",
          "data": {
            "text/plain": [
              "array([[-1.,  0.,  1.],\n",
              "       [ 0.,  1.,  2.]])"
            ]
          },
          "metadata": {
            "tags": []
          },
          "execution_count": 79
        }
      ]
    },
    {
      "cell_type": "code",
      "metadata": {
        "colab": {
          "base_uri": "https://localhost:8080/"
        },
        "id": "4lNrTMc5Dz9q",
        "outputId": "f2c227cd-bd20-4e32-a5ca-9c152b9d2ea0"
      },
      "source": [
        "#\n",
        "# Calculate the square of ndarray (element-wise)\n",
        "#\n",
        "\n",
        "arr2_squared = arr2 ** 2\n",
        "arr2_squared"
      ],
      "execution_count": 80,
      "outputs": [
        {
          "output_type": "execute_result",
          "data": {
            "text/plain": [
              "array([[1., 0., 1.],\n",
              "       [0., 1., 4.]])"
            ]
          },
          "metadata": {
            "tags": []
          },
          "execution_count": 80
        }
      ]
    },
    {
      "cell_type": "code",
      "metadata": {
        "id": "d4iUGhGrSDsj"
      },
      "source": [
        ""
      ],
      "execution_count": 80,
      "outputs": []
    },
    {
      "cell_type": "code",
      "metadata": {
        "colab": {
          "base_uri": "https://localhost:8080/"
        },
        "id": "VL1VS6-tD87J",
        "outputId": "dec1ebc0-1f47-46d9-fc61-b0a4fd733161"
      },
      "source": [
        "#\n",
        "# Sum over the rows.\n",
        "#\n",
        "# axis=1 runs across columns (operation is done for each row)\n",
        "arr2_squared_sum_rows = np.sum(arr2_squared, axis=1)\n",
        "arr2_squared_sum_rows"
      ],
      "execution_count": 81,
      "outputs": [
        {
          "output_type": "execute_result",
          "data": {
            "text/plain": [
              "array([2., 5.])"
            ]
          },
          "metadata": {
            "tags": []
          },
          "execution_count": 81
        }
      ]
    },
    {
      "cell_type": "code",
      "metadata": {
        "colab": {
          "base_uri": "https://localhost:8080/"
        },
        "id": "K6qtad0JEHJo",
        "outputId": "8e73af9b-9fa0-4aaa-b98a-1bc1c005e4e6"
      },
      "source": [
        "#\n",
        "# Sum over the columns.\n",
        "#\n",
        "# axis=0 runs across rows (operation is done for each column)\n",
        "arr2_squared_sum_columns = np.sum(arr2_squared, axis=0)\n",
        "arr2_squared_sum_columns"
      ],
      "execution_count": 82,
      "outputs": [
        {
          "output_type": "execute_result",
          "data": {
            "text/plain": [
              "array([1., 1., 5.])"
            ]
          },
          "metadata": {
            "tags": []
          },
          "execution_count": 82
        }
      ]
    },
    {
      "cell_type": "code",
      "metadata": {
        "colab": {
          "base_uri": "https://localhost:8080/"
        },
        "id": "i9l1PVOoEZfw",
        "outputId": "6c6332cd-1eff-4f26-8576-ac4e50b3a9fa"
      },
      "source": [
        "# Absolute value of all elements/features.\n",
        "arr2_abs = np.abs(arr2)\n",
        "arr2_abs"
      ],
      "execution_count": 83,
      "outputs": [
        {
          "output_type": "execute_result",
          "data": {
            "text/plain": [
              "array([[1., 0., 1.],\n",
              "       [0., 1., 2.]])"
            ]
          },
          "metadata": {
            "tags": []
          },
          "execution_count": 83
        }
      ]
    },
    {
      "cell_type": "code",
      "metadata": {
        "colab": {
          "base_uri": "https://localhost:8080/"
        },
        "id": "xM5ssCxFIfUP",
        "outputId": "ce87063b-94da-490c-9731-361da0fecd62"
      },
      "source": [
        "#\n",
        "# Return evenly spaced values within a given interval.\n",
        "#\n",
        "# numpy.arange([start, ]stop, [step, ]dtype=None, *, like=None)\n",
        "#   start - Start of interval. The interval includes this value. This is an \n",
        "#   optional  argument. The default start value is 0.\n",
        "#   stop - End of interval. The interval does not include this value\n",
        "#\n",
        "arr3 = np.arange(10) \n",
        "arr3"
      ],
      "execution_count": 84,
      "outputs": [
        {
          "output_type": "execute_result",
          "data": {
            "text/plain": [
              "array([0, 1, 2, 3, 4, 5, 6, 7, 8, 9])"
            ]
          },
          "metadata": {
            "tags": []
          },
          "execution_count": 84
        }
      ]
    },
    {
      "cell_type": "code",
      "metadata": {
        "colab": {
          "base_uri": "https://localhost:8080/"
        },
        "id": "FwpHYZJfIpyT",
        "outputId": "aff5be1f-e376-4ea2-f3dd-6987f823a727"
      },
      "source": [
        "#\n",
        "# Create an array with four equally spaced points starting with 0 and ending with 2.\n",
        "#\n",
        "np.linspace(0, 2, 4) "
      ],
      "execution_count": 85,
      "outputs": [
        {
          "output_type": "execute_result",
          "data": {
            "text/plain": [
              "array([0.        , 0.66666667, 1.33333333, 2.        ])"
            ]
          },
          "metadata": {
            "tags": []
          },
          "execution_count": 85
        }
      ]
    },
    {
      "cell_type": "code",
      "metadata": {
        "colab": {
          "base_uri": "https://localhost:8080/"
        },
        "id": "Afe8L_-ZK-67",
        "outputId": "d289d481-04b4-487f-8b02-63773f8df9a2"
      },
      "source": [
        "#\n",
        "# List all scalar types in NumPy\n",
        "#\n",
        "\n",
        "np.ScalarType"
      ],
      "execution_count": 86,
      "outputs": [
        {
          "output_type": "execute_result",
          "data": {
            "text/plain": [
              "(int,\n",
              " float,\n",
              " complex,\n",
              " int,\n",
              " bool,\n",
              " bytes,\n",
              " str,\n",
              " memoryview,\n",
              " numpy.object_,\n",
              " numpy.datetime64,\n",
              " numpy.ulonglong,\n",
              " numpy.longlong,\n",
              " numpy.void,\n",
              " numpy.complex256,\n",
              " numpy.float128,\n",
              " numpy.uint64,\n",
              " numpy.int64,\n",
              " numpy.str_,\n",
              " numpy.complex128,\n",
              " numpy.float64,\n",
              " numpy.uint32,\n",
              " numpy.int32,\n",
              " numpy.bytes_,\n",
              " numpy.complex64,\n",
              " numpy.float32,\n",
              " numpy.uint16,\n",
              " numpy.int16,\n",
              " numpy.bool_,\n",
              " numpy.timedelta64,\n",
              " numpy.float16,\n",
              " numpy.uint8,\n",
              " numpy.int8)"
            ]
          },
          "metadata": {
            "tags": []
          },
          "execution_count": 86
        }
      ]
    },
    {
      "cell_type": "code",
      "metadata": {
        "colab": {
          "base_uri": "https://localhost:8080/"
        },
        "id": "djALwvdZLUFW",
        "outputId": "7077aabc-2d86-479a-fe86-95fb336c8ab4"
      },
      "source": [
        "#\n",
        "# Matrix transpose (Linear Algebra)\n",
        "#\n",
        "# numpy.transpose(a, axes=None)\n",
        "# Reverse or permute the axes of an array; returns the modified array.\n",
        "# For an array a with two axes, transpose(a) gives the matrix transpose.\n",
        "#\n",
        "\n",
        "arr4 = np.array([[1, 2, 3], [4, 5.4, 6.7], [7.1, 8.2, 9]])\n",
        "print(arr4)\n",
        "arr4_transposed = arr4.transpose()\n",
        "print(arr4_transposed)"
      ],
      "execution_count": 87,
      "outputs": [
        {
          "output_type": "stream",
          "text": [
            "[[1.  2.  3. ]\n",
            " [4.  5.4 6.7]\n",
            " [7.1 8.2 9. ]]\n",
            "[[1.  4.  7.1]\n",
            " [2.  5.4 8.2]\n",
            " [3.  6.7 9. ]]\n"
          ],
          "name": "stdout"
        }
      ]
    },
    {
      "cell_type": "code",
      "metadata": {
        "colab": {
          "base_uri": "https://localhost:8080/"
        },
        "id": "HceywYSELUA-",
        "outputId": "44c85096-9528-4108-c0b3-09381e9d422e"
      },
      "source": [
        "#\n",
        "# Inverse matrix (Linear Algebra)\n",
        "# \n",
        "from numpy.linalg import inv\n",
        "\n",
        "arr4_inversed = inv(arr4)\n",
        "print(arr4_inversed)"
      ],
      "execution_count": 88,
      "outputs": [
        {
          "output_type": "stream",
          "text": [
            "[[-35.22222222  36.66666667 -15.55555556]\n",
            " [ 64.27777778 -68.33333333  29.44444444]\n",
            " [-30.77777778  33.33333333 -14.44444444]]\n"
          ],
          "name": "stdout"
        }
      ]
    },
    {
      "cell_type": "code",
      "metadata": {
        "colab": {
          "base_uri": "https://localhost:8080/"
        },
        "id": "hO3RNDXWMX74",
        "outputId": "b0cbde00-e53e-44be-d725-6683a2d4c293"
      },
      "source": [
        "#\n",
        "# create a 4x3 random matrix of values within [0,1] scaled by 25\n",
        "#\n",
        "\n",
        "from numpy.random import rand\n",
        "\n",
        "arr5 = rand(4, 3) * 25\n",
        "print(arr5)"
      ],
      "execution_count": 89,
      "outputs": [
        {
          "output_type": "stream",
          "text": [
            "[[ 6.94729902 14.03097203 11.88652777]\n",
            " [21.2995683  17.64488244  9.45472235]\n",
            " [ 5.98191292  1.5458851  16.71945378]\n",
            " [23.90383824  1.4153216  11.81955031]]\n"
          ],
          "name": "stdout"
        }
      ]
    },
    {
      "cell_type": "code",
      "metadata": {
        "colab": {
          "base_uri": "https://localhost:8080/"
        },
        "id": "eVi5p3xwMuXR",
        "outputId": "f63cf61b-5ad2-4249-c064-0f4b90124f12"
      },
      "source": [
        "#\n",
        "# Matrix multiplication\n",
        "#\n",
        "\n",
        "arr6 = rand(3, 4) * 10\n",
        "arr7 = np.dot(arr5, arr6)\n",
        "print(arr7)"
      ],
      "execution_count": 90,
      "outputs": [
        {
          "output_type": "stream",
          "text": [
            "[[229.14505924 175.00756896 224.24712353  24.20792544]\n",
            " [325.88996947 225.50562696 333.43876933  49.02590853]\n",
            " [153.00787013  91.49897522 168.79003974  20.01831528]\n",
            " [224.37609796 109.79736455 261.67838756  48.07366548]]\n"
          ],
          "name": "stdout"
        }
      ]
    },
    {
      "cell_type": "code",
      "metadata": {
        "colab": {
          "base_uri": "https://localhost:8080/"
        },
        "id": "iaWvCLQ9NZDh",
        "outputId": "fff21dbb-fab8-4d10-c90e-b962d1e22b2f"
      },
      "source": [
        "#\n",
        "# Tensors\n",
        "#\n",
        "\n",
        "tensor_ones = np.ones(shape=(2, 3, 4, 5, 7))\n",
        "print(tensor_ones.shape)\n",
        "print(tensor_ones)"
      ],
      "execution_count": 91,
      "outputs": [
        {
          "output_type": "stream",
          "text": [
            "(2, 3, 4, 5, 7)\n",
            "[[[[[1. 1. 1. 1. 1. 1. 1.]\n",
            "    [1. 1. 1. 1. 1. 1. 1.]\n",
            "    [1. 1. 1. 1. 1. 1. 1.]\n",
            "    [1. 1. 1. 1. 1. 1. 1.]\n",
            "    [1. 1. 1. 1. 1. 1. 1.]]\n",
            "\n",
            "   [[1. 1. 1. 1. 1. 1. 1.]\n",
            "    [1. 1. 1. 1. 1. 1. 1.]\n",
            "    [1. 1. 1. 1. 1. 1. 1.]\n",
            "    [1. 1. 1. 1. 1. 1. 1.]\n",
            "    [1. 1. 1. 1. 1. 1. 1.]]\n",
            "\n",
            "   [[1. 1. 1. 1. 1. 1. 1.]\n",
            "    [1. 1. 1. 1. 1. 1. 1.]\n",
            "    [1. 1. 1. 1. 1. 1. 1.]\n",
            "    [1. 1. 1. 1. 1. 1. 1.]\n",
            "    [1. 1. 1. 1. 1. 1. 1.]]\n",
            "\n",
            "   [[1. 1. 1. 1. 1. 1. 1.]\n",
            "    [1. 1. 1. 1. 1. 1. 1.]\n",
            "    [1. 1. 1. 1. 1. 1. 1.]\n",
            "    [1. 1. 1. 1. 1. 1. 1.]\n",
            "    [1. 1. 1. 1. 1. 1. 1.]]]\n",
            "\n",
            "\n",
            "  [[[1. 1. 1. 1. 1. 1. 1.]\n",
            "    [1. 1. 1. 1. 1. 1. 1.]\n",
            "    [1. 1. 1. 1. 1. 1. 1.]\n",
            "    [1. 1. 1. 1. 1. 1. 1.]\n",
            "    [1. 1. 1. 1. 1. 1. 1.]]\n",
            "\n",
            "   [[1. 1. 1. 1. 1. 1. 1.]\n",
            "    [1. 1. 1. 1. 1. 1. 1.]\n",
            "    [1. 1. 1. 1. 1. 1. 1.]\n",
            "    [1. 1. 1. 1. 1. 1. 1.]\n",
            "    [1. 1. 1. 1. 1. 1. 1.]]\n",
            "\n",
            "   [[1. 1. 1. 1. 1. 1. 1.]\n",
            "    [1. 1. 1. 1. 1. 1. 1.]\n",
            "    [1. 1. 1. 1. 1. 1. 1.]\n",
            "    [1. 1. 1. 1. 1. 1. 1.]\n",
            "    [1. 1. 1. 1. 1. 1. 1.]]\n",
            "\n",
            "   [[1. 1. 1. 1. 1. 1. 1.]\n",
            "    [1. 1. 1. 1. 1. 1. 1.]\n",
            "    [1. 1. 1. 1. 1. 1. 1.]\n",
            "    [1. 1. 1. 1. 1. 1. 1.]\n",
            "    [1. 1. 1. 1. 1. 1. 1.]]]\n",
            "\n",
            "\n",
            "  [[[1. 1. 1. 1. 1. 1. 1.]\n",
            "    [1. 1. 1. 1. 1. 1. 1.]\n",
            "    [1. 1. 1. 1. 1. 1. 1.]\n",
            "    [1. 1. 1. 1. 1. 1. 1.]\n",
            "    [1. 1. 1. 1. 1. 1. 1.]]\n",
            "\n",
            "   [[1. 1. 1. 1. 1. 1. 1.]\n",
            "    [1. 1. 1. 1. 1. 1. 1.]\n",
            "    [1. 1. 1. 1. 1. 1. 1.]\n",
            "    [1. 1. 1. 1. 1. 1. 1.]\n",
            "    [1. 1. 1. 1. 1. 1. 1.]]\n",
            "\n",
            "   [[1. 1. 1. 1. 1. 1. 1.]\n",
            "    [1. 1. 1. 1. 1. 1. 1.]\n",
            "    [1. 1. 1. 1. 1. 1. 1.]\n",
            "    [1. 1. 1. 1. 1. 1. 1.]\n",
            "    [1. 1. 1. 1. 1. 1. 1.]]\n",
            "\n",
            "   [[1. 1. 1. 1. 1. 1. 1.]\n",
            "    [1. 1. 1. 1. 1. 1. 1.]\n",
            "    [1. 1. 1. 1. 1. 1. 1.]\n",
            "    [1. 1. 1. 1. 1. 1. 1.]\n",
            "    [1. 1. 1. 1. 1. 1. 1.]]]]\n",
            "\n",
            "\n",
            "\n",
            " [[[[1. 1. 1. 1. 1. 1. 1.]\n",
            "    [1. 1. 1. 1. 1. 1. 1.]\n",
            "    [1. 1. 1. 1. 1. 1. 1.]\n",
            "    [1. 1. 1. 1. 1. 1. 1.]\n",
            "    [1. 1. 1. 1. 1. 1. 1.]]\n",
            "\n",
            "   [[1. 1. 1. 1. 1. 1. 1.]\n",
            "    [1. 1. 1. 1. 1. 1. 1.]\n",
            "    [1. 1. 1. 1. 1. 1. 1.]\n",
            "    [1. 1. 1. 1. 1. 1. 1.]\n",
            "    [1. 1. 1. 1. 1. 1. 1.]]\n",
            "\n",
            "   [[1. 1. 1. 1. 1. 1. 1.]\n",
            "    [1. 1. 1. 1. 1. 1. 1.]\n",
            "    [1. 1. 1. 1. 1. 1. 1.]\n",
            "    [1. 1. 1. 1. 1. 1. 1.]\n",
            "    [1. 1. 1. 1. 1. 1. 1.]]\n",
            "\n",
            "   [[1. 1. 1. 1. 1. 1. 1.]\n",
            "    [1. 1. 1. 1. 1. 1. 1.]\n",
            "    [1. 1. 1. 1. 1. 1. 1.]\n",
            "    [1. 1. 1. 1. 1. 1. 1.]\n",
            "    [1. 1. 1. 1. 1. 1. 1.]]]\n",
            "\n",
            "\n",
            "  [[[1. 1. 1. 1. 1. 1. 1.]\n",
            "    [1. 1. 1. 1. 1. 1. 1.]\n",
            "    [1. 1. 1. 1. 1. 1. 1.]\n",
            "    [1. 1. 1. 1. 1. 1. 1.]\n",
            "    [1. 1. 1. 1. 1. 1. 1.]]\n",
            "\n",
            "   [[1. 1. 1. 1. 1. 1. 1.]\n",
            "    [1. 1. 1. 1. 1. 1. 1.]\n",
            "    [1. 1. 1. 1. 1. 1. 1.]\n",
            "    [1. 1. 1. 1. 1. 1. 1.]\n",
            "    [1. 1. 1. 1. 1. 1. 1.]]\n",
            "\n",
            "   [[1. 1. 1. 1. 1. 1. 1.]\n",
            "    [1. 1. 1. 1. 1. 1. 1.]\n",
            "    [1. 1. 1. 1. 1. 1. 1.]\n",
            "    [1. 1. 1. 1. 1. 1. 1.]\n",
            "    [1. 1. 1. 1. 1. 1. 1.]]\n",
            "\n",
            "   [[1. 1. 1. 1. 1. 1. 1.]\n",
            "    [1. 1. 1. 1. 1. 1. 1.]\n",
            "    [1. 1. 1. 1. 1. 1. 1.]\n",
            "    [1. 1. 1. 1. 1. 1. 1.]\n",
            "    [1. 1. 1. 1. 1. 1. 1.]]]\n",
            "\n",
            "\n",
            "  [[[1. 1. 1. 1. 1. 1. 1.]\n",
            "    [1. 1. 1. 1. 1. 1. 1.]\n",
            "    [1. 1. 1. 1. 1. 1. 1.]\n",
            "    [1. 1. 1. 1. 1. 1. 1.]\n",
            "    [1. 1. 1. 1. 1. 1. 1.]]\n",
            "\n",
            "   [[1. 1. 1. 1. 1. 1. 1.]\n",
            "    [1. 1. 1. 1. 1. 1. 1.]\n",
            "    [1. 1. 1. 1. 1. 1. 1.]\n",
            "    [1. 1. 1. 1. 1. 1. 1.]\n",
            "    [1. 1. 1. 1. 1. 1. 1.]]\n",
            "\n",
            "   [[1. 1. 1. 1. 1. 1. 1.]\n",
            "    [1. 1. 1. 1. 1. 1. 1.]\n",
            "    [1. 1. 1. 1. 1. 1. 1.]\n",
            "    [1. 1. 1. 1. 1. 1. 1.]\n",
            "    [1. 1. 1. 1. 1. 1. 1.]]\n",
            "\n",
            "   [[1. 1. 1. 1. 1. 1. 1.]\n",
            "    [1. 1. 1. 1. 1. 1. 1.]\n",
            "    [1. 1. 1. 1. 1. 1. 1.]\n",
            "    [1. 1. 1. 1. 1. 1. 1.]\n",
            "    [1. 1. 1. 1. 1. 1. 1.]]]]]\n"
          ],
          "name": "stdout"
        }
      ]
    },
    {
      "cell_type": "markdown",
      "metadata": {
        "id": "HtVSHpiM_IeJ"
      },
      "source": [
        "#Matplotlib"
      ]
    },
    {
      "cell_type": "code",
      "metadata": {
        "id": "KM2a0I9kNo_d"
      },
      "source": [
        "#\n",
        "# Matplotlib\n",
        "#\n",
        "\n",
        "import matplotlib.pyplot as plt"
      ],
      "execution_count": 108,
      "outputs": []
    },
    {
      "cell_type": "code",
      "metadata": {
        "id": "rIVKinBZkAec"
      },
      "source": [
        "#\n",
        "# Create a dataset (data points that will be visualized)\n",
        "#\n",
        "\n",
        "x = np.arange(20)\n",
        "y = [x_i + np.random.randn(1) for x_i in x]"
      ],
      "execution_count": 109,
      "outputs": []
    },
    {
      "cell_type": "code",
      "metadata": {
        "colab": {
          "base_uri": "https://localhost:8080/",
          "height": 265
        },
        "id": "BattUDUhizrd",
        "outputId": "28bf85f9-0c77-43d5-a9d1-588568868049"
      },
      "source": [
        "plt.scatter(x, y)\n",
        "plt.show()"
      ],
      "execution_count": 110,
      "outputs": [
        {
          "output_type": "display_data",
          "data": {
            "image/png": "[encoded data removed]",
            "text/plain": [
              "<Figure size 432x288 with 1 Axes>"
            ]
          },
          "metadata": {
            "tags": [],
            "needs_background": "light"
          }
        }
      ]
    },
    {
      "cell_type": "code",
      "metadata": {
        "colab": {
          "base_uri": "https://localhost:8080/",
          "height": 265
        },
        "id": "0_dFYCWTjBGY",
        "outputId": "6c06b819-14a8-408c-e4c2-c29479dd9fbe"
      },
      "source": [
        "# Plot y versus x as lines and/or markers.\n",
        "# Plot x and y using blue circle markers\n",
        "plt.plot(x, y, 'bo')\n",
        "plt.show()"
      ],
      "execution_count": 112,
      "outputs": [
        {
          "output_type": "display_data",
          "data": {
            "image/png": "[encoded data removed]",
            "text/plain": [
              "<Figure size 432x288 with 1 Axes>"
            ]
          },
          "metadata": {
            "tags": [],
            "needs_background": "light"
          }
        }
      ]
    },
    {
      "cell_type": "code",
      "metadata": {
        "colab": {
          "base_uri": "https://localhost:8080/",
          "height": 265
        },
        "id": "pKlrgTmukMPA",
        "outputId": "a1db3f38-8ab1-4510-b4aa-21e5ee1d648f"
      },
      "source": [
        "plt.plot(x, y)\n",
        "plt.show()"
      ],
      "execution_count": 113,
      "outputs": [
        {
          "output_type": "display_data",
          "data": {
            "image/png": "[encoded data removed]",
            "text/plain": [
              "<Figure size 432x288 with 1 Axes>"
            ]
          },
          "metadata": {
            "tags": [],
            "needs_background": "light"
          }
        }
      ]
    },
    {
      "cell_type": "code",
      "metadata": {
        "colab": {
          "base_uri": "https://localhost:8080/",
          "height": 265
        },
        "id": "5exoCCSDkVmk",
        "outputId": "d88034d3-4f87-4595-9c4a-97d7523eb186"
      },
      "source": [
        "color='k' # black\n",
        "plt.plot(x, y, color = color)\n",
        "plt.show()"
      ],
      "execution_count": 114,
      "outputs": [
        {
          "output_type": "display_data",
          "data": {
            "image/png": "[encoded data removed]",
            "text/plain": [
              "<Figure size 432x288 with 1 Axes>"
            ]
          },
          "metadata": {
            "tags": [],
            "needs_background": "light"
          }
        }
      ]
    },
    {
      "cell_type": "code",
      "metadata": {
        "id": "S-roHz_Y0ytf"
      },
      "source": [
        "# Create some data\n",
        "rng = np.random.RandomState(0)\n",
        "x = np.linspace(0, 10, 500)\n",
        "y = np.cumsum(rng.randn(500, 6), 0)"
      ],
      "execution_count": 115,
      "outputs": []
    },
    {
      "cell_type": "code",
      "metadata": {
        "colab": {
          "base_uri": "https://localhost:8080/",
          "height": 265
        },
        "id": "-y8Ky1tn01Cg",
        "outputId": "98e4a28b-1037-4b38-8399-20981a9f6178"
      },
      "source": [
        "# Plot the data with Matplotlib defaults\n",
        "plt.plot(x, y)\n",
        "plt.legend('ABCDEF', ncol=2, loc='upper left');"
      ],
      "execution_count": 116,
      "outputs": [
        {
          "output_type": "display_data",
          "data": {
            "image/png": "[encoded data removed]",
            "text/plain": [
              "<Figure size 432x288 with 1 Axes>"
            ]
          },
          "metadata": {
            "tags": [],
            "needs_background": "light"
          }
        }
      ]
    },
    {
      "cell_type": "markdown",
      "metadata": {
        "id": "h6Fk6U9k_BLF"
      },
      "source": [
        "#Pandas"
      ]
    },
    {
      "cell_type": "code",
      "metadata": {
        "id": "HOE56Sxn_FYN"
      },
      "source": [
        "import pandas as pd\n",
        "import numpy as np"
      ],
      "execution_count": 22,
      "outputs": []
    },
    {
      "cell_type": "code",
      "metadata": {
        "id": "eDEURIcE_5NX"
      },
      "source": [
        "# dictionary\n",
        "contestants={\n",
        "    'person': ['Anna','Bojan','Claire','Donovan'], \n",
        "    'age':[28,43,42,32], \n",
        "    'score':[9.2,7.6,3.5,9.9]\n",
        "}"
      ],
      "execution_count": 14,
      "outputs": []
    },
    {
      "cell_type": "code",
      "metadata": {
        "colab": {
          "base_uri": "https://localhost:8080/",
          "height": 173
        },
        "id": "gixKLCdWAsVJ",
        "outputId": "ec4559b2-d11a-4e36-8a72-d5657e49bd8a"
      },
      "source": [
        "#\n",
        "# Creating a DataFrame from a dictionary\n",
        "#\n",
        "contestants_df = pd.DataFrame(contestants)\n",
        "contestants_df"
      ],
      "execution_count": 15,
      "outputs": [
        {
          "output_type": "execute_result",
          "data": {
            "text/html": [
              "<div>\n",
              "<style scoped>\n",
              "    .dataframe tbody tr th:only-of-type {\n",
              "        vertical-align: middle;\n",
              "    }\n",
              "\n",
              "    .dataframe tbody tr th {\n",
              "        vertical-align: top;\n",
              "    }\n",
              "\n",
              "    .dataframe thead th {\n",
              "        text-align: right;\n",
              "    }\n",
              "</style>\n",
              "<table border=\"1\" class=\"dataframe\">\n",
              "  <thead>\n",
              "    <tr style=\"text-align: right;\">\n",
              "      <th></th>\n",
              "      <th>person</th>\n",
              "      <th>age</th>\n",
              "      <th>score</th>\n",
              "    </tr>\n",
              "  </thead>\n",
              "  <tbody>\n",
              "    <tr>\n",
              "      <th>0</th>\n",
              "      <td>Anna</td>\n",
              "      <td>28</td>\n",
              "      <td>9.2</td>\n",
              "    </tr>\n",
              "    <tr>\n",
              "      <th>1</th>\n",
              "      <td>Bojan</td>\n",
              "      <td>43</td>\n",
              "      <td>7.6</td>\n",
              "    </tr>\n",
              "    <tr>\n",
              "      <th>2</th>\n",
              "      <td>Claire</td>\n",
              "      <td>42</td>\n",
              "      <td>3.5</td>\n",
              "    </tr>\n",
              "    <tr>\n",
              "      <th>3</th>\n",
              "      <td>Donovan</td>\n",
              "      <td>32</td>\n",
              "      <td>9.9</td>\n",
              "    </tr>\n",
              "  </tbody>\n",
              "</table>\n",
              "</div>"
            ],
            "text/plain": [
              "    person  age  score\n",
              "0     Anna   28    9.2\n",
              "1    Bojan   43    7.6\n",
              "2   Claire   42    3.5\n",
              "3  Donovan   32    9.9"
            ]
          },
          "metadata": {
            "tags": []
          },
          "execution_count": 15
        }
      ]
    },
    {
      "cell_type": "code",
      "metadata": {
        "colab": {
          "base_uri": "https://localhost:8080/",
          "height": 111
        },
        "id": "nFxOiruHBMxS",
        "outputId": "8edb0798-63ce-4664-cd82-e4dd2c8a1a29"
      },
      "source": [
        "#\n",
        "# Display first N rows\n",
        "#\n",
        "\n",
        "contestants_df.head(2)"
      ],
      "execution_count": 16,
      "outputs": [
        {
          "output_type": "execute_result",
          "data": {
            "text/html": [
              "<div>\n",
              "<style scoped>\n",
              "    .dataframe tbody tr th:only-of-type {\n",
              "        vertical-align: middle;\n",
              "    }\n",
              "\n",
              "    .dataframe tbody tr th {\n",
              "        vertical-align: top;\n",
              "    }\n",
              "\n",
              "    .dataframe thead th {\n",
              "        text-align: right;\n",
              "    }\n",
              "</style>\n",
              "<table border=\"1\" class=\"dataframe\">\n",
              "  <thead>\n",
              "    <tr style=\"text-align: right;\">\n",
              "      <th></th>\n",
              "      <th>person</th>\n",
              "      <th>age</th>\n",
              "      <th>score</th>\n",
              "    </tr>\n",
              "  </thead>\n",
              "  <tbody>\n",
              "    <tr>\n",
              "      <th>0</th>\n",
              "      <td>Anna</td>\n",
              "      <td>28</td>\n",
              "      <td>9.2</td>\n",
              "    </tr>\n",
              "    <tr>\n",
              "      <th>1</th>\n",
              "      <td>Bojan</td>\n",
              "      <td>43</td>\n",
              "      <td>7.6</td>\n",
              "    </tr>\n",
              "  </tbody>\n",
              "</table>\n",
              "</div>"
            ],
            "text/plain": [
              "  person  age  score\n",
              "0   Anna   28    9.2\n",
              "1  Bojan   43    7.6"
            ]
          },
          "metadata": {
            "tags": []
          },
          "execution_count": 16
        }
      ]
    },
    {
      "cell_type": "code",
      "metadata": {
        "colab": {
          "base_uri": "https://localhost:8080/",
          "height": 111
        },
        "id": "kETEO2vHBcU9",
        "outputId": "a374639c-4884-4872-c47c-41863f2b8333"
      },
      "source": [
        "#\n",
        "# Display last N rows\n",
        "#\n",
        "\n",
        "contestants_df.tail(2)"
      ],
      "execution_count": 17,
      "outputs": [
        {
          "output_type": "execute_result",
          "data": {
            "text/html": [
              "<div>\n",
              "<style scoped>\n",
              "    .dataframe tbody tr th:only-of-type {\n",
              "        vertical-align: middle;\n",
              "    }\n",
              "\n",
              "    .dataframe tbody tr th {\n",
              "        vertical-align: top;\n",
              "    }\n",
              "\n",
              "    .dataframe thead th {\n",
              "        text-align: right;\n",
              "    }\n",
              "</style>\n",
              "<table border=\"1\" class=\"dataframe\">\n",
              "  <thead>\n",
              "    <tr style=\"text-align: right;\">\n",
              "      <th></th>\n",
              "      <th>person</th>\n",
              "      <th>age</th>\n",
              "      <th>score</th>\n",
              "    </tr>\n",
              "  </thead>\n",
              "  <tbody>\n",
              "    <tr>\n",
              "      <th>2</th>\n",
              "      <td>Claire</td>\n",
              "      <td>42</td>\n",
              "      <td>3.5</td>\n",
              "    </tr>\n",
              "    <tr>\n",
              "      <th>3</th>\n",
              "      <td>Donovan</td>\n",
              "      <td>32</td>\n",
              "      <td>9.9</td>\n",
              "    </tr>\n",
              "  </tbody>\n",
              "</table>\n",
              "</div>"
            ],
            "text/plain": [
              "    person  age  score\n",
              "2   Claire   42    3.5\n",
              "3  Donovan   32    9.9"
            ]
          },
          "metadata": {
            "tags": []
          },
          "execution_count": 17
        }
      ]
    },
    {
      "cell_type": "code",
      "metadata": {
        "colab": {
          "base_uri": "https://localhost:8080/",
          "height": 173
        },
        "id": "JnuxAnnPBSdU",
        "outputId": "5bebe75d-5269-42a7-b458-7d6e71d5d177"
      },
      "source": [
        "#\n",
        "# Change the order of columns\n",
        "#\n",
        "\n",
        "contestants_df = pd.DataFrame(contestants, columns=['person','score','age'])\n",
        "contestants_df"
      ],
      "execution_count": 18,
      "outputs": [
        {
          "output_type": "execute_result",
          "data": {
            "text/html": [
              "<div>\n",
              "<style scoped>\n",
              "    .dataframe tbody tr th:only-of-type {\n",
              "        vertical-align: middle;\n",
              "    }\n",
              "\n",
              "    .dataframe tbody tr th {\n",
              "        vertical-align: top;\n",
              "    }\n",
              "\n",
              "    .dataframe thead th {\n",
              "        text-align: right;\n",
              "    }\n",
              "</style>\n",
              "<table border=\"1\" class=\"dataframe\">\n",
              "  <thead>\n",
              "    <tr style=\"text-align: right;\">\n",
              "      <th></th>\n",
              "      <th>person</th>\n",
              "      <th>score</th>\n",
              "      <th>age</th>\n",
              "    </tr>\n",
              "  </thead>\n",
              "  <tbody>\n",
              "    <tr>\n",
              "      <th>0</th>\n",
              "      <td>Anna</td>\n",
              "      <td>9.2</td>\n",
              "      <td>28</td>\n",
              "    </tr>\n",
              "    <tr>\n",
              "      <th>1</th>\n",
              "      <td>Bojan</td>\n",
              "      <td>7.6</td>\n",
              "      <td>43</td>\n",
              "    </tr>\n",
              "    <tr>\n",
              "      <th>2</th>\n",
              "      <td>Claire</td>\n",
              "      <td>3.5</td>\n",
              "      <td>42</td>\n",
              "    </tr>\n",
              "    <tr>\n",
              "      <th>3</th>\n",
              "      <td>Donovan</td>\n",
              "      <td>9.9</td>\n",
              "      <td>32</td>\n",
              "    </tr>\n",
              "  </tbody>\n",
              "</table>\n",
              "</div>"
            ],
            "text/plain": [
              "    person  score  age\n",
              "0     Anna    9.2   28\n",
              "1    Bojan    7.6   43\n",
              "2   Claire    3.5   42\n",
              "3  Donovan    9.9   32"
            ]
          },
          "metadata": {
            "tags": []
          },
          "execution_count": 18
        }
      ]
    },
    {
      "cell_type": "code",
      "metadata": {
        "colab": {
          "base_uri": "https://localhost:8080/"
        },
        "id": "jXd2Bj7yCAPs",
        "outputId": "b0844a52-062f-4d9b-893c-f496fe246785"
      },
      "source": [
        "#\n",
        "# Accessing a column\n",
        "#\n",
        "\n",
        "# 1st approach - via index\n",
        "contestants_df['age']"
      ],
      "execution_count": 19,
      "outputs": [
        {
          "output_type": "execute_result",
          "data": {
            "text/plain": [
              "0    28\n",
              "1    43\n",
              "2    42\n",
              "3    32\n",
              "Name: age, dtype: int64"
            ]
          },
          "metadata": {
            "tags": []
          },
          "execution_count": 19
        }
      ]
    },
    {
      "cell_type": "code",
      "metadata": {
        "colab": {
          "base_uri": "https://localhost:8080/"
        },
        "id": "K-j37RBqCK5Y",
        "outputId": "54c70ef4-3240-4626-a829-b70bff1c6fdc"
      },
      "source": [
        "#\n",
        "# Accessing a column\n",
        "#\n",
        "\n",
        "# 2nd approach - via attribute\n",
        "contestants_df.age"
      ],
      "execution_count": 20,
      "outputs": [
        {
          "output_type": "execute_result",
          "data": {
            "text/plain": [
              "0    28\n",
              "1    43\n",
              "2    42\n",
              "3    32\n",
              "Name: age, dtype: int64"
            ]
          },
          "metadata": {
            "tags": []
          },
          "execution_count": 20
        }
      ]
    },
    {
      "cell_type": "markdown",
      "metadata": {
        "id": "NpyaQCyUEN82"
      },
      "source": [
        "##Splitting a dataset "
      ]
    },
    {
      "cell_type": "code",
      "metadata": {
        "colab": {
          "base_uri": "https://localhost:8080/",
          "height": 1000
        },
        "id": "cieQLi7PCRDx",
        "outputId": "2ba9428b-1416-4b6b-bd2a-3e6c4710ace4"
      },
      "source": [
        "dataset_x = np.arange(20)\n",
        "dataset_y = [x_i + np.random.randn(1) for x_i in dataset_x]\n",
        "\n",
        "dataset = list(zip(dataset_x, dataset_y)) # list of (x, y) tuples\n",
        "\n",
        "#\n",
        "# Creating Pandas dataframe from a sequence of tuples\n",
        "#\n",
        "df_dataset = pd.DataFrame.from_records(dataset, columns = ['x', 'y'] )\n",
        "\n",
        "\n",
        "# pick randomly 80% of tuples and set it as a training set\n",
        "dataset_train = df_dataset.sample(frac=0.8, random_state=0)\n",
        "# remove training set elements and whatever is left (20% of random elements) set as training set\n",
        "dataset_test = df_dataset.drop(dataset_train.index)\n",
        "\n",
        "print(dataset_train)\n",
        "display(dataset_train)\n",
        "\n",
        "print(dataset_test)\n",
        "display(dataset_test)\n",
        "\n",
        "#train_features = dataset_train.copy()\n",
        "#test_features = dataset_test.copy()\n",
        "\n",
        "# train_labels = train_features.pop('y')\n",
        "# test_labels = test_features.pop('y')"
      ],
      "execution_count": 26,
      "outputs": [
        {
          "output_type": "stream",
          "text": [
            "     x                     y\n",
            "18  18  [18.235596474032043]\n",
            "1    1  [0.8876537880821994]\n",
            "19  19  [18.874930976603306]\n",
            "8    8   [7.466713867037005]\n",
            "10  10    [9.60581699595097]\n",
            "17  17    [17.6666892537844]\n",
            "6    6  [5.9433898996642505]\n",
            "13  13  [11.499343017464897]\n",
            "4    4   [4.945899979050934]\n",
            "2    2  [1.0982613585189078]\n",
            "5    5   [4.480934868386634]\n",
            "14  14  [16.632968264402674]\n",
            "9    9   [8.293790140430303]\n",
            "7    7    [7.92817195305956]\n",
            "16  16  [16.722382672007324]\n",
            "11  11  [11.309737542609481]\n"
          ],
          "name": "stdout"
        },
        {
          "output_type": "display_data",
          "data": {
            "text/html": [
              "<div>\n",
              "<style scoped>\n",
              "    .dataframe tbody tr th:only-of-type {\n",
              "        vertical-align: middle;\n",
              "    }\n",
              "\n",
              "    .dataframe tbody tr th {\n",
              "        vertical-align: top;\n",
              "    }\n",
              "\n",
              "    .dataframe thead th {\n",
              "        text-align: right;\n",
              "    }\n",
              "</style>\n",
              "<table border=\"1\" class=\"dataframe\">\n",
              "  <thead>\n",
              "    <tr style=\"text-align: right;\">\n",
              "      <th></th>\n",
              "      <th>x</th>\n",
              "      <th>y</th>\n",
              "    </tr>\n",
              "  </thead>\n",
              "  <tbody>\n",
              "    <tr>\n",
              "      <th>18</th>\n",
              "      <td>18</td>\n",
              "      <td>[18.235596474032043]</td>\n",
              "    </tr>\n",
              "    <tr>\n",
              "      <th>1</th>\n",
              "      <td>1</td>\n",
              "      <td>[0.8876537880821994]</td>\n",
              "    </tr>\n",
              "    <tr>\n",
              "      <th>19</th>\n",
              "      <td>19</td>\n",
              "      <td>[18.874930976603306]</td>\n",
              "    </tr>\n",
              "    <tr>\n",
              "      <th>8</th>\n",
              "      <td>8</td>\n",
              "      <td>[7.466713867037005]</td>\n",
              "    </tr>\n",
              "    <tr>\n",
              "      <th>10</th>\n",
              "      <td>10</td>\n",
              "      <td>[9.60581699595097]</td>\n",
              "    </tr>\n",
              "    <tr>\n",
              "      <th>17</th>\n",
              "      <td>17</td>\n",
              "      <td>[17.6666892537844]</td>\n",
              "    </tr>\n",
              "    <tr>\n",
              "      <th>6</th>\n",
              "      <td>6</td>\n",
              "      <td>[5.9433898996642505]</td>\n",
              "    </tr>\n",
              "    <tr>\n",
              "      <th>13</th>\n",
              "      <td>13</td>\n",
              "      <td>[11.499343017464897]</td>\n",
              "    </tr>\n",
              "    <tr>\n",
              "      <th>4</th>\n",
              "      <td>4</td>\n",
              "      <td>[4.945899979050934]</td>\n",
              "    </tr>\n",
              "    <tr>\n",
              "      <th>2</th>\n",
              "      <td>2</td>\n",
              "      <td>[1.0982613585189078]</td>\n",
              "    </tr>\n",
              "    <tr>\n",
              "      <th>5</th>\n",
              "      <td>5</td>\n",
              "      <td>[4.480934868386634]</td>\n",
              "    </tr>\n",
              "    <tr>\n",
              "      <th>14</th>\n",
              "      <td>14</td>\n",
              "      <td>[16.632968264402674]</td>\n",
              "    </tr>\n",
              "    <tr>\n",
              "      <th>9</th>\n",
              "      <td>9</td>\n",
              "      <td>[8.293790140430303]</td>\n",
              "    </tr>\n",
              "    <tr>\n",
              "      <th>7</th>\n",
              "      <td>7</td>\n",
              "      <td>[7.92817195305956]</td>\n",
              "    </tr>\n",
              "    <tr>\n",
              "      <th>16</th>\n",
              "      <td>16</td>\n",
              "      <td>[16.722382672007324]</td>\n",
              "    </tr>\n",
              "    <tr>\n",
              "      <th>11</th>\n",
              "      <td>11</td>\n",
              "      <td>[11.309737542609481]</td>\n",
              "    </tr>\n",
              "  </tbody>\n",
              "</table>\n",
              "</div>"
            ],
            "text/plain": [
              "     x                     y\n",
              "18  18  [18.235596474032043]\n",
              "1    1  [0.8876537880821994]\n",
              "19  19  [18.874930976603306]\n",
              "8    8   [7.466713867037005]\n",
              "10  10    [9.60581699595097]\n",
              "17  17    [17.6666892537844]\n",
              "6    6  [5.9433898996642505]\n",
              "13  13  [11.499343017464897]\n",
              "4    4   [4.945899979050934]\n",
              "2    2  [1.0982613585189078]\n",
              "5    5   [4.480934868386634]\n",
              "14  14  [16.632968264402674]\n",
              "9    9   [8.293790140430303]\n",
              "7    7    [7.92817195305956]\n",
              "16  16  [16.722382672007324]\n",
              "11  11  [11.309737542609481]"
            ]
          },
          "metadata": {
            "tags": []
          }
        },
        {
          "output_type": "stream",
          "text": [
            "     x                       y\n",
            "0    0  [-0.35286174167810064]\n",
            "3    3    [0.9321370864712062]\n",
            "12  12     [12.39925854127909]\n",
            "15  15    [14.445443081958983]\n"
          ],
          "name": "stdout"
        },
        {
          "output_type": "display_data",
          "data": {
            "text/html": [
              "<div>\n",
              "<style scoped>\n",
              "    .dataframe tbody tr th:only-of-type {\n",
              "        vertical-align: middle;\n",
              "    }\n",
              "\n",
              "    .dataframe tbody tr th {\n",
              "        vertical-align: top;\n",
              "    }\n",
              "\n",
              "    .dataframe thead th {\n",
              "        text-align: right;\n",
              "    }\n",
              "</style>\n",
              "<table border=\"1\" class=\"dataframe\">\n",
              "  <thead>\n",
              "    <tr style=\"text-align: right;\">\n",
              "      <th></th>\n",
              "      <th>x</th>\n",
              "      <th>y</th>\n",
              "    </tr>\n",
              "  </thead>\n",
              "  <tbody>\n",
              "    <tr>\n",
              "      <th>0</th>\n",
              "      <td>0</td>\n",
              "      <td>[-0.35286174167810064]</td>\n",
              "    </tr>\n",
              "    <tr>\n",
              "      <th>3</th>\n",
              "      <td>3</td>\n",
              "      <td>[0.9321370864712062]</td>\n",
              "    </tr>\n",
              "    <tr>\n",
              "      <th>12</th>\n",
              "      <td>12</td>\n",
              "      <td>[12.39925854127909]</td>\n",
              "    </tr>\n",
              "    <tr>\n",
              "      <th>15</th>\n",
              "      <td>15</td>\n",
              "      <td>[14.445443081958983]</td>\n",
              "    </tr>\n",
              "  </tbody>\n",
              "</table>\n",
              "</div>"
            ],
            "text/plain": [
              "     x                       y\n",
              "0    0  [-0.35286174167810064]\n",
              "3    3    [0.9321370864712062]\n",
              "12  12     [12.39925854127909]\n",
              "15  15    [14.445443081958983]"
            ]
          },
          "metadata": {
            "tags": []
          }
        }
      ]
    }
  ]
}