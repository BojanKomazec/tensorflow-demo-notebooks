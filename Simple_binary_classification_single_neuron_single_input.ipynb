{
  "nbformat": 4,
  "nbformat_minor": 0,
  "metadata": {
    "colab": {
      "name": "Simple-binary-classification--single-neuron-single-input.ipynb",
      "provenance": [],
      "collapsed_sections": [],
      "authorship_tag": "ABX9TyOLm2XOLoBnhRNanN5Q4XaP",
      "include_colab_link": true
    },
    "kernelspec": {
      "name": "python3",
      "display_name": "Python 3"
    },
    "language_info": {
      "name": "python"
    }
  },
  "cells": [
    {
      "cell_type": "markdown",
      "metadata": {
        "id": "view-in-github",
        "colab_type": "text"
      },
      "source": [
        "<a href=\"https://colab.research.google.com/github/BojanKomazec/tensorflow-demo-notebooks/blob/main/Simple_binary_classification_single_neuron_single_input.ipynb\" target=\"_parent\"><img src=\"https://colab.research.google.com/assets/colab-badge.svg\" alt=\"Open In Colab\"/></a>"
      ]
    },
    {
      "cell_type": "markdown",
      "metadata": {
        "id": "OyDHRlx1nYYk"
      },
      "source": [
        "Simple Linear Regression with ANN with single neuron\n",
        "https://www.tensorflow.org/tutorials/keras/regression#linear_regression"
      ]
    },
    {
      "cell_type": "code",
      "metadata": {
        "id": "xjFJQp_ctEQ6"
      },
      "source": [
        "import numpy as np\n",
        "import matplotlib.pyplot as plt\n",
        "import pandas as pd\n",
        "\n",
        "import tensorflow as tf\n",
        "from tensorflow import keras\n",
        "from tensorflow.keras import layers"
      ],
      "execution_count": 1,
      "outputs": []
    },
    {
      "cell_type": "code",
      "metadata": {
        "colab": {
          "base_uri": "https://localhost:8080/"
        },
        "id": "2I-56Fkftepo",
        "outputId": "91bf8c9f-6b92-4673-bef1-01235bc34ccb"
      },
      "source": [
        "dataset_xa = np.linspace(1, 2, 50)\n",
        "print(f'dataset_xa.shape = {dataset_xa.shape}')\n",
        "dataset_ya = np.full(50, 0)\n",
        "\n",
        "dataset_xb = np.linspace(2, 3, 50)\n",
        "print(f'dataset_xb.shape = {dataset_xb.shape}')\n",
        "dataset_yb = np.full(50, 1)\n",
        "\n",
        "dataset_x = np.concatenate((dataset_xa, dataset_xb))\n",
        "dataset_y = np.concatenate((dataset_ya, dataset_yb))"
      ],
      "execution_count": 2,
      "outputs": [
        {
          "output_type": "stream",
          "text": [
            "dataset_xa.shape = (50,)\n",
            "dataset_xb.shape = (50,)\n"
          ],
          "name": "stdout"
        }
      ]
    },
    {
      "cell_type": "code",
      "metadata": {
        "colab": {
          "base_uri": "https://localhost:8080/",
          "height": 265
        },
        "id": "eddpnggSuBG9",
        "outputId": "a458e4d5-1880-4fb9-aa02-29f24d9eb066"
      },
      "source": [
        "plt.scatter(dataset_x, dataset_y)\n",
        "plt.show()"
      ],
      "execution_count": 3,
      "outputs": [
        {
          "output_type": "display_data",
          "data": {
            "image/png": "[encoded data removed]",
            "text/plain": [
              "<Figure size 432x288 with 1 Axes>"
            ]
          },
          "metadata": {
            "tags": [],
            "needs_background": "light"
          }
        }
      ]
    },
    {
      "cell_type": "code",
      "metadata": {
        "id": "rbDm6BM4vPqS",
        "colab": {
          "base_uri": "https://localhost:8080/"
        },
        "outputId": "209fd800-b1e1-4da8-f028-8fb325f2f14e"
      },
      "source": [
        "dataset = list(zip(dataset_x, dataset_y))\n",
        "print(f'dataset = {dataset}') # list of (x, y) tuples\n",
        "\n",
        "# Pandas dataframe\n",
        "df_dataset =  pd.DataFrame.from_records(dataset, columns = ['x', 'y'] )\n",
        "\n",
        "dataset_train = df_dataset.sample(frac=0.8, random_state=0)\n",
        "print(f'dataset_train.shape = {dataset_train.shape}')\n",
        "dataset_test = df_dataset.drop(dataset_train.index)\n",
        "print(f'dataset_test.shape = {dataset_test.shape}')"
      ],
      "execution_count": 4,
      "outputs": [
        {
          "output_type": "stream",
          "text": [
            "dataset = [(1.0, 0), (1.0204081632653061, 0), (1.0408163265306123, 0), (1.0612244897959184, 0), (1.0816326530612246, 0), (1.1020408163265305, 0), (1.1224489795918366, 0), (1.1428571428571428, 0), (1.163265306122449, 0), (1.183673469387755, 0), (1.2040816326530612, 0), (1.2244897959183674, 0), (1.2448979591836735, 0), (1.2653061224489797, 0), (1.2857142857142856, 0), (1.3061224489795917, 0), (1.3265306122448979, 0), (1.346938775510204, 0), (1.3673469387755102, 0), (1.3877551020408163, 0), (1.4081632653061225, 0), (1.4285714285714286, 0), (1.4489795918367347, 0), (1.4693877551020407, 0), (1.489795918367347, 0), (1.510204081632653, 0), (1.530612244897959, 0), (1.5510204081632653, 0), (1.5714285714285714, 0), (1.5918367346938775, 0), (1.6122448979591835, 0), (1.6326530612244898, 0), (1.6530612244897958, 0), (1.6734693877551021, 0), (1.693877551020408, 0), (1.7142857142857142, 0), (1.7346938775510203, 0), (1.7551020408163265, 0), (1.7755102040816326, 0), (1.7959183673469385, 0), (1.816326530612245, 0), (1.8367346938775508, 0), (1.8571428571428572, 0), (1.8775510204081631, 0), (1.8979591836734693, 0), (1.9183673469387754, 0), (1.9387755102040816, 0), (1.9591836734693877, 0), (1.9795918367346939, 0), (2.0, 0), (2.0, 1), (2.020408163265306, 1), (2.0408163265306123, 1), (2.061224489795918, 1), (2.0816326530612246, 1), (2.1020408163265305, 1), (2.122448979591837, 1), (2.142857142857143, 1), (2.163265306122449, 1), (2.183673469387755, 1), (2.204081632653061, 1), (2.2244897959183674, 1), (2.2448979591836733, 1), (2.2653061224489797, 1), (2.2857142857142856, 1), (2.306122448979592, 1), (2.326530612244898, 1), (2.3469387755102042, 1), (2.36734693877551, 1), (2.387755102040816, 1), (2.4081632653061225, 1), (2.4285714285714284, 1), (2.4489795918367347, 1), (2.4693877551020407, 1), (2.489795918367347, 1), (2.510204081632653, 1), (2.5306122448979593, 1), (2.5510204081632653, 1), (2.571428571428571, 1), (2.5918367346938775, 1), (2.6122448979591835, 1), (2.63265306122449, 1), (2.6530612244897958, 1), (2.673469387755102, 1), (2.693877551020408, 1), (2.7142857142857144, 1), (2.7346938775510203, 1), (2.7551020408163263, 1), (2.7755102040816326, 1), (2.7959183673469385, 1), (2.816326530612245, 1), (2.836734693877551, 1), (2.857142857142857, 1), (2.877551020408163, 1), (2.8979591836734695, 1), (2.9183673469387754, 1), (2.9387755102040813, 1), (2.9591836734693877, 1), (2.979591836734694, 1), (3.0, 1)]\n",
            "dataset_train.shape = (80, 2)\n",
            "dataset_test.shape = (20, 2)\n"
          ],
          "name": "stdout"
        }
      ]
    },
    {
      "cell_type": "code",
      "metadata": {
        "id": "wd7kQVJTao0j"
      },
      "source": [
        "train_features = dataset_train.copy()\n",
        "test_features = dataset_test.copy()\n",
        "\n",
        "train_labels = train_features.pop('y')\n",
        "test_labels = test_features.pop('y')\n",
        "\n",
        "x = np.array(train_features['x'])"
      ],
      "execution_count": 5,
      "outputs": []
    },
    {
      "cell_type": "code",
      "metadata": {
        "colab": {
          "base_uri": "https://localhost:8080/"
        },
        "id": "HGEQQSrQbWXS",
        "outputId": "23123f06-a57b-480b-bfec-1bfaabebfdc2"
      },
      "source": [
        "# model with a single neuron which has a single input\n",
        "# a(x) = kx + b\n",
        "activation_1 = None\n",
        "\n",
        "num_of_classes = 2 # 0 and 1\n",
        "model = tf.keras.Sequential([\n",
        "    layers.Dense(input_shape=[1,], units=1, activation=activation_1),\n",
        "])\n",
        "\n",
        "model.summary()"
      ],
      "execution_count": 42,
      "outputs": [
        {
          "output_type": "stream",
          "text": [
            "Model: \"sequential_5\"\n",
            "_________________________________________________________________\n",
            "Layer (type)                 Output Shape              Param #   \n",
            "=================================================================\n",
            "dense_7 (Dense)              (None, 1)                 2         \n",
            "=================================================================\n",
            "Total params: 2\n",
            "Trainable params: 2\n",
            "Non-trainable params: 0\n",
            "_________________________________________________________________\n"
          ],
          "name": "stdout"
        }
      ]
    },
    {
      "cell_type": "code",
      "metadata": {
        "colab": {
          "base_uri": "https://localhost:8080/"
        },
        "id": "5V0D6Im5bhoe",
        "outputId": "17f5c790-0c93-429a-9790-8fe5cf94e7f6"
      },
      "source": [
        "model.predict(x[:10])"
      ],
      "execution_count": 7,
      "outputs": [
        {
          "output_type": "execute_result",
          "data": {
            "text/plain": [
              "array([[0.7865789 , 0.21342112],\n",
              "       [0.8026489 , 0.19735108],\n",
              "       [0.76679164, 0.23320831],\n",
              "       [0.7976453 , 0.20235473],\n",
              "       [0.80139375, 0.19860631],\n",
              "       [0.8032484 , 0.19675164],\n",
              "       [0.7798626 , 0.22013742],\n",
              "       [0.80111504, 0.19888493],\n",
              "       [0.79739   , 0.20261006],\n",
              "       [0.80339664, 0.19660336]], dtype=float32)"
            ]
          },
          "metadata": {
            "tags": []
          },
          "execution_count": 7
        }
      ]
    },
    {
      "cell_type": "code",
      "metadata": {
        "id": "3CuJw9B2clph"
      },
      "source": [
        "learning_rate = 0.1\n",
        "optimizer=tf.optimizers.Adam(learning_rate=learning_rate)\n",
        "# optimizer=tf.optimizers.SGD(learning_rate=learning_rate)\n",
        "\n",
        "# loss = 'binary_crossentropy'\n",
        "loss = 'mean_squared_error'\n",
        "\n",
        "model.compile(\n",
        "    optimizer=optimizer,\n",
        "    loss=loss,\n",
        "    metrics=['binary_accuracy'])"
      ],
      "execution_count": 44,
      "outputs": []
    },
    {
      "cell_type": "code",
      "metadata": {
        "colab": {
          "base_uri": "https://localhost:8080/"
        },
        "id": "7ph0QQicjENJ",
        "outputId": "bd5054a7-ca79-436a-f827-ad4d9542484f"
      },
      "source": [
        "%%time\n",
        "history = model.fit(\n",
        "    train_features['x'], train_labels,\n",
        "    epochs=100,\n",
        "    # suppress logging\n",
        "    verbose=0,\n",
        "    # Calculate validation results on 20% of the training data\n",
        "    validation_split = 0.2)"
      ],
      "execution_count": 45,
      "outputs": [
        {
          "output_type": "stream",
          "text": [
            "CPU times: user 6.85 s, sys: 107 ms, total: 6.95 s\n",
            "Wall time: 6.88 s\n"
          ],
          "name": "stdout"
        }
      ]
    },
    {
      "cell_type": "code",
      "metadata": {
        "colab": {
          "base_uri": "https://localhost:8080/",
          "height": 299
        },
        "id": "0G_qc6b_49LK",
        "outputId": "de43b253-cb29-49e8-e6f1-1355be85ec4a"
      },
      "source": [
        "weights = model.layers[0].get_weights()\n",
        "print(weights)\n",
        "learned_coefficient = weights[0][0]\n",
        "learned_bias = weights[1][0]\n",
        "\n",
        "x = np.linspace(1, 3, 101)\n",
        "y = learned_coefficient * x + learned_bias\n",
        "plt.scatter(train_features['x'], train_labels, label='Data')\n",
        "plt.plot(x, y, color='k', label='y=kx+b')"
      ],
      "execution_count": 46,
      "outputs": [
        {
          "output_type": "stream",
          "text": [
            "[array([[0.7479443]], dtype=float32), array([-0.9443264], dtype=float32)]\n"
          ],
          "name": "stdout"
        },
        {
          "output_type": "execute_result",
          "data": {
            "text/plain": [
              "[<matplotlib.lines.Line2D at 0x7f4f1faab710>]"
            ]
          },
          "metadata": {
            "tags": []
          },
          "execution_count": 46
        },
        {
          "output_type": "display_data",
          "data": {
            "image/png": "[encoded data removed]",
            "text/plain": [
              "<Figure size 432x288 with 1 Axes>"
            ]
          },
          "metadata": {
            "tags": [],
            "needs_background": "light"
          }
        }
      ]
    },
    {
      "cell_type": "code",
      "metadata": {
        "id": "tapArsXU679O"
      },
      "source": [
        ""
      ],
      "execution_count": 10,
      "outputs": []
    },
    {
      "cell_type": "code",
      "metadata": {
        "id": "wpWAxwcEGgNN",
        "colab": {
          "base_uri": "https://localhost:8080/",
          "height": 204
        },
        "outputId": "d91ec307-a514-4d5e-e62d-882bb45ad494"
      },
      "source": [
        "hist = pd.DataFrame(history.history)\n",
        "hist['epoch'] = history.epoch\n",
        "hist.tail()"
      ],
      "execution_count": 11,
      "outputs": [
        {
          "output_type": "execute_result",
          "data": {
            "text/html": [
              "<div>\n",
              "<style scoped>\n",
              "    .dataframe tbody tr th:only-of-type {\n",
              "        vertical-align: middle;\n",
              "    }\n",
              "\n",
              "    .dataframe tbody tr th {\n",
              "        vertical-align: top;\n",
              "    }\n",
              "\n",
              "    .dataframe thead th {\n",
              "        text-align: right;\n",
              "    }\n",
              "</style>\n",
              "<table border=\"1\" class=\"dataframe\">\n",
              "  <thead>\n",
              "    <tr style=\"text-align: right;\">\n",
              "      <th></th>\n",
              "      <th>loss</th>\n",
              "      <th>binary_accuracy</th>\n",
              "      <th>val_loss</th>\n",
              "      <th>val_binary_accuracy</th>\n",
              "      <th>epoch</th>\n",
              "    </tr>\n",
              "  </thead>\n",
              "  <tbody>\n",
              "    <tr>\n",
              "      <th>95</th>\n",
              "      <td>0.250016</td>\n",
              "      <td>0.5</td>\n",
              "      <td>0.250014</td>\n",
              "      <td>0.5</td>\n",
              "      <td>95</td>\n",
              "    </tr>\n",
              "    <tr>\n",
              "      <th>96</th>\n",
              "      <td>0.250016</td>\n",
              "      <td>0.5</td>\n",
              "      <td>0.250013</td>\n",
              "      <td>0.5</td>\n",
              "      <td>96</td>\n",
              "    </tr>\n",
              "    <tr>\n",
              "      <th>97</th>\n",
              "      <td>0.250015</td>\n",
              "      <td>0.5</td>\n",
              "      <td>0.250012</td>\n",
              "      <td>0.5</td>\n",
              "      <td>97</td>\n",
              "    </tr>\n",
              "    <tr>\n",
              "      <th>98</th>\n",
              "      <td>0.250015</td>\n",
              "      <td>0.5</td>\n",
              "      <td>0.250011</td>\n",
              "      <td>0.5</td>\n",
              "      <td>98</td>\n",
              "    </tr>\n",
              "    <tr>\n",
              "      <th>99</th>\n",
              "      <td>0.250015</td>\n",
              "      <td>0.5</td>\n",
              "      <td>0.250011</td>\n",
              "      <td>0.5</td>\n",
              "      <td>99</td>\n",
              "    </tr>\n",
              "  </tbody>\n",
              "</table>\n",
              "</div>"
            ],
            "text/plain": [
              "        loss  binary_accuracy  val_loss  val_binary_accuracy  epoch\n",
              "95  0.250016              0.5  0.250014                  0.5     95\n",
              "96  0.250016              0.5  0.250013                  0.5     96\n",
              "97  0.250015              0.5  0.250012                  0.5     97\n",
              "98  0.250015              0.5  0.250011                  0.5     98\n",
              "99  0.250015              0.5  0.250011                  0.5     99"
            ]
          },
          "metadata": {
            "tags": []
          },
          "execution_count": 11
        }
      ]
    },
    {
      "cell_type": "code",
      "metadata": {
        "id": "t79Q_mB0Gjf4"
      },
      "source": [
        "def plot_loss(history):\n",
        "  plt.plot(history.history['loss'], label='loss')\n",
        "  plt.plot(history.history['val_loss'], label='val_loss')\n",
        "  plt.ylim([0, 10])\n",
        "  plt.xlabel('Epoch')\n",
        "  plt.ylabel('Error [MPG]')\n",
        "  plt.legend()\n",
        "  plt.grid(True)"
      ],
      "execution_count": 12,
      "outputs": []
    },
    {
      "cell_type": "code",
      "metadata": {
        "colab": {
          "base_uri": "https://localhost:8080/",
          "height": 283
        },
        "id": "1GTLrJfUJiT9",
        "outputId": "49e4c3ec-4fa3-44dd-9490-b12e76e48c00"
      },
      "source": [
        "plot_loss(history)"
      ],
      "execution_count": 13,
      "outputs": [
        {
          "output_type": "display_data",
          "data": {
            "image/png": "[encoded data removed]",
            "text/plain": [
              "<Figure size 432x288 with 1 Axes>"
            ]
          },
          "metadata": {
            "tags": [],
            "needs_background": "light"
          }
        }
      ]
    },
    {
      "cell_type": "code",
      "metadata": {
        "id": "cskGv-QukVUg",
        "colab": {
          "base_uri": "https://localhost:8080/"
        },
        "outputId": "bf9ec4f5-339d-40f1-df0a-8fc69b6f3dc9"
      },
      "source": [
        "x = np.linspace(1, 3, 101)\n",
        "y = model.predict(x)\n",
        "print(f'type(y) = {type(y)}') # numpy.ndarray\n",
        "print(f'y.shape = {y.shape}')"
      ],
      "execution_count": 47,
      "outputs": [
        {
          "output_type": "stream",
          "text": [
            "type(y) = <class 'numpy.ndarray'>\n",
            "y.shape = (101, 1)\n"
          ],
          "name": "stdout"
        }
      ]
    },
    {
      "cell_type": "code",
      "metadata": {
        "id": "4HOYwle1lXe5"
      },
      "source": [
        "def plot_fn(x, y):\n",
        "  plt.scatter(train_features['x'], train_labels, label='Data')\n",
        "  plt.plot(x, y, color='k', label='Predictions')\n",
        "  plt.xlabel('x')\n",
        "  plt.ylabel('y')\n",
        "  plt.legend()"
      ],
      "execution_count": 48,
      "outputs": []
    },
    {
      "cell_type": "code",
      "metadata": {
        "colab": {
          "base_uri": "https://localhost:8080/",
          "height": 279
        },
        "id": "tu5VNBQElpS4",
        "outputId": "72d1df8e-63ba-40b7-d843-82462f053c2f"
      },
      "source": [
        "plot_fn(x,y)"
      ],
      "execution_count": 49,
      "outputs": [
        {
          "output_type": "display_data",
          "data": {
            "image/png": "[encoded data removed]",
            "text/plain": [
              "<Figure size 432x288 with 1 Axes>"
            ]
          },
          "metadata": {
            "tags": [],
            "needs_background": "light"
          }
        }
      ]
    },
    {
      "cell_type": "code",
      "metadata": {
        "colab": {
          "base_uri": "https://localhost:8080/"
        },
        "id": "l6WlMuO61Opz",
        "outputId": "cb5fccd8-533d-4d21-9f04-a2a854f0142c"
      },
      "source": [
        "# model with a single neuron which has a single input\n",
        "# a(x) = kx + b\n",
        "\n",
        "activation_1 = tf.nn.sigmoid # (case 3)\n",
        "\n",
        "num_of_classes = 2 # 0 and 1\n",
        "model = tf.keras.Sequential([\n",
        "    layers.Dense(input_shape=[1,], units=1, activation=activation_1), \n",
        "])\n",
        "\n",
        "model.summary()"
      ],
      "execution_count": 50,
      "outputs": [
        {
          "output_type": "stream",
          "text": [
            "Model: \"sequential_6\"\n",
            "_________________________________________________________________\n",
            "Layer (type)                 Output Shape              Param #   \n",
            "=================================================================\n",
            "dense_8 (Dense)              (None, 1)                 2         \n",
            "=================================================================\n",
            "Total params: 2\n",
            "Trainable params: 2\n",
            "Non-trainable params: 0\n",
            "_________________________________________________________________\n"
          ],
          "name": "stdout"
        }
      ]
    },
    {
      "cell_type": "code",
      "metadata": {
        "colab": {
          "base_uri": "https://localhost:8080/",
          "height": 279
        },
        "id": "Aau4tc242VOK",
        "outputId": "98bc4299-ffa3-4332-e6f3-8bb5b8320a99"
      },
      "source": [
        "learning_rate = 0.1\n",
        "optimizer=tf.optimizers.Adam(learning_rate=learning_rate)\n",
        "# optimizer=tf.optimizers.SGD(learning_rate=learning_rate)\n",
        "\n",
        "# loss = 'binary_crossentropy'\n",
        "loss = 'mean_squared_error'\n",
        "\n",
        "model.compile(\n",
        "    optimizer=optimizer,\n",
        "    loss=loss,\n",
        "    metrics=['binary_accuracy'])\n",
        "\n",
        "# %%time\n",
        "history = model.fit(\n",
        "    train_features['x'], train_labels,\n",
        "    epochs=100,\n",
        "    # suppress logging\n",
        "    verbose=0,\n",
        "    # Calculate validation results on 20% of the training data\n",
        "    validation_split = 0.2)\n",
        "\n",
        "x = np.linspace(1, 3, 101)\n",
        "y = model.predict(x)\n",
        "\n",
        "plot_fn(x,y)"
      ],
      "execution_count": 52,
      "outputs": [
        {
          "output_type": "display_data",
          "data": {
            "image/png": "[encoded data removed]",
            "text/plain": [
              "<Figure size 432x288 with 1 Axes>"
            ]
          },
          "metadata": {
            "tags": [],
            "needs_background": "light"
          }
        }
      ]
    },
    {
      "cell_type": "code",
      "metadata": {
        "colab": {
          "base_uri": "https://localhost:8080/"
        },
        "id": "2-ZpJ2T31SLG",
        "outputId": "594df38d-1c29-4bf2-afc1-5e75dc514f41"
      },
      "source": [
        "# model with a single neuron which has a single input\n",
        "# a(x) = kx + b\n",
        "activation_1 = None\n",
        "activation_2 = tf.nn.sigmoid\n",
        "\n",
        "num_of_classes = 2 # 0 and 1\n",
        "model = tf.keras.Sequential([\n",
        "    layers.Dense(input_shape=[1,], units=1, activation=activation_1), \n",
        "    layers.Dense(units=num_of_classes, activation=activation_2),\n",
        "])\n",
        "\n",
        "model.summary()"
      ],
      "execution_count": 53,
      "outputs": [
        {
          "output_type": "stream",
          "text": [
            "Model: \"sequential_7\"\n",
            "_________________________________________________________________\n",
            "Layer (type)                 Output Shape              Param #   \n",
            "=================================================================\n",
            "dense_9 (Dense)              (None, 1)                 2         \n",
            "_________________________________________________________________\n",
            "dense_10 (Dense)             (None, 2)                 4         \n",
            "=================================================================\n",
            "Total params: 6\n",
            "Trainable params: 6\n",
            "Non-trainable params: 0\n",
            "_________________________________________________________________\n"
          ],
          "name": "stdout"
        }
      ]
    },
    {
      "cell_type": "code",
      "metadata": {
        "colab": {
          "base_uri": "https://localhost:8080/",
          "height": 279
        },
        "id": "_SBj1u0p2XOb",
        "outputId": "2698d971-8959-48ac-d51b-2e7d70c37f03"
      },
      "source": [
        "learning_rate = 0.1\n",
        "optimizer=tf.optimizers.Adam(learning_rate=learning_rate)\n",
        "# optimizer=tf.optimizers.SGD(learning_rate=learning_rate)\n",
        "\n",
        "# loss = 'binary_crossentropy'\n",
        "loss = 'mean_squared_error'\n",
        "\n",
        "model.compile(\n",
        "    optimizer=optimizer,\n",
        "    loss=loss,\n",
        "    metrics=['binary_accuracy'])\n",
        "\n",
        "# %%time\n",
        "history = model.fit(\n",
        "    train_features['x'], train_labels,\n",
        "    epochs=100,\n",
        "    # suppress logging\n",
        "    verbose=0,\n",
        "    # Calculate validation results on 20% of the training data\n",
        "    validation_split = 0.2)\n",
        "\n",
        "\n",
        "x = np.linspace(1, 3, 101)\n",
        "y = model.predict(x)\n",
        "\n",
        "plot_fn(x,y)"
      ],
      "execution_count": 54,
      "outputs": [
        {
          "output_type": "display_data",
          "data": {
            "image/png": "[encoded data removed]",
            "text/plain": [
              "<Figure size 432x288 with 1 Axes>"
            ]
          },
          "metadata": {
            "tags": [],
            "needs_background": "light"
          }
        }
      ]
    }
  ]
}