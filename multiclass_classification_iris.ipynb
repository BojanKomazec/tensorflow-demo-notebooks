{
  "nbformat": 4,
  "nbformat_minor": 0,
  "metadata": {
    "colab": {
      "name": "multiclass-classification-iris.ipynb",
      "provenance": [],
      "collapsed_sections": [],
      "authorship_tag": "ABX9TyMTv1JP5EfWUMdzb+vGdDIA",
      "include_colab_link": true
    },
    "kernelspec": {
      "name": "python3",
      "display_name": "Python 3"
    },
    "language_info": {
      "name": "python"
    }
  },
  "cells": [
    {
      "cell_type": "markdown",
      "metadata": {
        "id": "view-in-github",
        "colab_type": "text"
      },
      "source": [
        "<a href=\"https://colab.research.google.com/github/BojanKomazec/tensorflow-demo-notebooks/blob/main/multiclass_classification_iris.ipynb\" target=\"_parent\"><img src=\"https://colab.research.google.com/assets/colab-badge.svg\" alt=\"Open In Colab\"/></a>"
      ]
    },
    {
      "cell_type": "code",
      "metadata": {
        "id": "w2zvvMuLE_dR"
      },
      "source": [
        "import matplotlib.pyplot as plt\n",
        "import numpy as np\n",
        "import pandas as pd\n",
        "import tensorflow as tf\n",
        "\n",
        "from tensorflow import keras\n",
        "from keras import layers"
      ],
      "execution_count": 1,
      "outputs": []
    },
    {
      "cell_type": "code",
      "metadata": {
        "id": "ANQHHB_xCtjl"
      },
      "source": [
        "#\n",
        "# Load data\n",
        "#\n",
        "\n",
        "# The original dataset and dataset description:\n",
        "# https://archive.ics.uci.edu/ml/datasets/Iris\n",
        "#\n",
        "# This csv file only uses different (shorter) label names and also contains \n",
        "# column names (headers).\n",
        "#\n",
        "url_dataset = 'https://raw.githubusercontent.com/BojanKomazec/tensorflow-demo-notebooks/main/data/iris.csv'\n",
        "df_dataset = pd.read_csv(url_dataset)"
      ],
      "execution_count": 2,
      "outputs": []
    },
    {
      "cell_type": "code",
      "metadata": {
        "colab": {
          "base_uri": "https://localhost:8080/",
          "height": 419
        },
        "id": "sFodo_XNFHWU",
        "outputId": "108ad2ea-d6bb-48cf-c026-ebfb0db3fafe"
      },
      "source": [
        "#\n",
        "# Exploratory Analasys\n",
        "#\n",
        "\n",
        "#\n",
        "# Show dataframe with dataset in order to identify features and labels.\n",
        "#\n",
        "# By looking the columns we can identify:\n",
        "# - Input features (predictors): sepal_length, sepal_width, petal_length, petal_width\n",
        "# - Output labels (responses): species\n",
        "display(df_dataset)"
      ],
      "execution_count": 3,
      "outputs": [
        {
          "output_type": "display_data",
          "data": {
            "text/html": [
              "<div>\n",
              "<style scoped>\n",
              "    .dataframe tbody tr th:only-of-type {\n",
              "        vertical-align: middle;\n",
              "    }\n",
              "\n",
              "    .dataframe tbody tr th {\n",
              "        vertical-align: top;\n",
              "    }\n",
              "\n",
              "    .dataframe thead th {\n",
              "        text-align: right;\n",
              "    }\n",
              "</style>\n",
              "<table border=\"1\" class=\"dataframe\">\n",
              "  <thead>\n",
              "    <tr style=\"text-align: right;\">\n",
              "      <th></th>\n",
              "      <th>sepal_length</th>\n",
              "      <th>sepal_width</th>\n",
              "      <th>petal_length</th>\n",
              "      <th>petal_width</th>\n",
              "      <th>species</th>\n",
              "    </tr>\n",
              "  </thead>\n",
              "  <tbody>\n",
              "    <tr>\n",
              "      <th>0</th>\n",
              "      <td>5.1</td>\n",
              "      <td>3.5</td>\n",
              "      <td>1.4</td>\n",
              "      <td>0.2</td>\n",
              "      <td>setosa</td>\n",
              "    </tr>\n",
              "    <tr>\n",
              "      <th>1</th>\n",
              "      <td>4.9</td>\n",
              "      <td>3.0</td>\n",
              "      <td>1.4</td>\n",
              "      <td>0.2</td>\n",
              "      <td>setosa</td>\n",
              "    </tr>\n",
              "    <tr>\n",
              "      <th>2</th>\n",
              "      <td>4.7</td>\n",
              "      <td>3.2</td>\n",
              "      <td>1.3</td>\n",
              "      <td>0.2</td>\n",
              "      <td>setosa</td>\n",
              "    </tr>\n",
              "    <tr>\n",
              "      <th>3</th>\n",
              "      <td>4.6</td>\n",
              "      <td>3.1</td>\n",
              "      <td>1.5</td>\n",
              "      <td>0.2</td>\n",
              "      <td>setosa</td>\n",
              "    </tr>\n",
              "    <tr>\n",
              "      <th>4</th>\n",
              "      <td>5.0</td>\n",
              "      <td>3.6</td>\n",
              "      <td>1.4</td>\n",
              "      <td>0.2</td>\n",
              "      <td>setosa</td>\n",
              "    </tr>\n",
              "    <tr>\n",
              "      <th>...</th>\n",
              "      <td>...</td>\n",
              "      <td>...</td>\n",
              "      <td>...</td>\n",
              "      <td>...</td>\n",
              "      <td>...</td>\n",
              "    </tr>\n",
              "    <tr>\n",
              "      <th>145</th>\n",
              "      <td>6.7</td>\n",
              "      <td>3.0</td>\n",
              "      <td>5.2</td>\n",
              "      <td>2.3</td>\n",
              "      <td>virginica</td>\n",
              "    </tr>\n",
              "    <tr>\n",
              "      <th>146</th>\n",
              "      <td>6.3</td>\n",
              "      <td>2.5</td>\n",
              "      <td>5.0</td>\n",
              "      <td>1.9</td>\n",
              "      <td>virginica</td>\n",
              "    </tr>\n",
              "    <tr>\n",
              "      <th>147</th>\n",
              "      <td>6.5</td>\n",
              "      <td>3.0</td>\n",
              "      <td>5.2</td>\n",
              "      <td>2.0</td>\n",
              "      <td>virginica</td>\n",
              "    </tr>\n",
              "    <tr>\n",
              "      <th>148</th>\n",
              "      <td>6.2</td>\n",
              "      <td>3.4</td>\n",
              "      <td>5.4</td>\n",
              "      <td>2.3</td>\n",
              "      <td>virginica</td>\n",
              "    </tr>\n",
              "    <tr>\n",
              "      <th>149</th>\n",
              "      <td>5.9</td>\n",
              "      <td>3.0</td>\n",
              "      <td>5.1</td>\n",
              "      <td>1.8</td>\n",
              "      <td>virginica</td>\n",
              "    </tr>\n",
              "  </tbody>\n",
              "</table>\n",
              "<p>150 rows × 5 columns</p>\n",
              "</div>"
            ],
            "text/plain": [
              "     sepal_length  sepal_width  petal_length  petal_width    species\n",
              "0             5.1          3.5           1.4          0.2     setosa\n",
              "1             4.9          3.0           1.4          0.2     setosa\n",
              "2             4.7          3.2           1.3          0.2     setosa\n",
              "3             4.6          3.1           1.5          0.2     setosa\n",
              "4             5.0          3.6           1.4          0.2     setosa\n",
              "..            ...          ...           ...          ...        ...\n",
              "145           6.7          3.0           5.2          2.3  virginica\n",
              "146           6.3          2.5           5.0          1.9  virginica\n",
              "147           6.5          3.0           5.2          2.0  virginica\n",
              "148           6.2          3.4           5.4          2.3  virginica\n",
              "149           5.9          3.0           5.1          1.8  virginica\n",
              "\n",
              "[150 rows x 5 columns]"
            ]
          },
          "metadata": {
            "tags": []
          }
        }
      ]
    },
    {
      "cell_type": "code",
      "metadata": {
        "colab": {
          "base_uri": "https://localhost:8080/"
        },
        "id": "BiDwT8pqJms7",
        "outputId": "38fee8ce-d919-42de-c830-ffd94c460485"
      },
      "source": [
        "#\n",
        "# Exploratory Analasys\n",
        "#\n",
        "\n",
        "# Let's check if dataset is balanced in terms of labels (do we have similar \n",
        "# number of examples for each class)\n",
        "df_dataset['species'].value_counts()"
      ],
      "execution_count": 4,
      "outputs": [
        {
          "output_type": "execute_result",
          "data": {
            "text/plain": [
              "versicolor    50\n",
              "virginica     50\n",
              "setosa        50\n",
              "Name: species, dtype: int64"
            ]
          },
          "metadata": {
            "tags": []
          },
          "execution_count": 4
        }
      ]
    },
    {
      "cell_type": "code",
      "metadata": {
        "colab": {
          "base_uri": "https://localhost:8080/",
          "height": 546
        },
        "id": "Czl8WptAHao-",
        "outputId": "e1849efc-4ce8-4390-b08b-1e657aac8c61"
      },
      "source": [
        "#\n",
        "# Exploratory Analasys\n",
        "#\n",
        "\n",
        "df_setosa = df_dataset.loc[df_dataset['species'] == 'setosa']\n",
        "df_versicolor = df_dataset.loc[df_dataset['species'] == 'versicolor']\n",
        "df_virginica = df_dataset.loc[df_dataset['species'] == 'virginica']\n",
        "\n",
        "def plot_features(length, width):\n",
        "  setosa = plt.scatter(df_setosa[length], df_setosa[width], c='b')\n",
        "  versicolor = plt.scatter(df_versicolor[length], df_versicolor[width], c='c')\n",
        "  virginica = plt.scatter(df_virginica[length], df_virginica[width], c='g')\n",
        "  plt.xlabel(length)\n",
        "  plt.ylabel(width)\n",
        "  plt.legend([setosa, versicolor, virginica], ['setosa', 'versicolor', 'virginica'])\n",
        "  plt.show()\n",
        "\n",
        "plot_features('sepal_length', 'sepal_width')\n",
        "plot_features('petal_length', 'petal_width')\n",
        "\n",
        "# From these two diagrams we can get some data insights on how features \n",
        "# determine the class:\n",
        "#\n",
        "# Setosas have the smallest petal length and petal width.\n",
        "# Versicolors have the average petal length and petal width.\n",
        "# Virginicas have the largest petal length and petal width."
      ],
      "execution_count": 5,
      "outputs": [
        {
          "output_type": "display_data",
          "data": {
            "image/png": "[encoded data removed]",
            "text/plain": [
              "<Figure size 432x288 with 1 Axes>"
            ]
          },
          "metadata": {
            "tags": [],
            "needs_background": "light"
          }
        },
        {
          "output_type": "display_data",
          "data": {
            "image/png": "[encoded data removed]",
            "text/plain": [
              "<Figure size 432x288 with 1 Axes>"
            ]
          },
          "metadata": {
            "tags": [],
            "needs_background": "light"
          }
        }
      ]
    },
    {
      "cell_type": "code",
      "metadata": {
        "colab": {
          "base_uri": "https://localhost:8080/",
          "height": 419
        },
        "id": "ok21QOa3UN80",
        "outputId": "78464afa-921e-4bd7-b4ff-f2c788deb9ed"
      },
      "source": [
        "#\n",
        "# Preparing the training set (labels)\n",
        "#\n",
        "\n",
        "# Labels in our training set are strings. In a training phase they will be used\n",
        "# for error estimation (loss function calculation) and so they will be compared\n",
        "# to actual network outputs which are numbers. Therefore they need to be \n",
        "# converted to numbers as well. So the next step is to perform string to number \n",
        "# mapping.\n",
        "#\n",
        "# We have 3 label strings: 'setosa', 'versicolor', 'virginica'\n",
        "# They can be mapped into numbers in multiple ways.\n",
        "# Numbers we want to use should be binary for the sigmoid output of nodes in the \n",
        "# last layer of the network. \n",
        "#\n",
        "# So we can perform minimal binary encoding:\n",
        "#\n",
        "# 'setosa' -> 00 (both neurons are zeros)\n",
        "# 'versicolor' -> 01 (first neuron is 0, second is 1)\n",
        "# 'virginica' -> 10 (first neuron is 1, second is 0)\n",
        "#\n",
        "# In this case we need to have 2 output neurons.\n",
        "#\n",
        "# Another option is called \"One hot encoding\" for the number of neurons in the\n",
        "# output layer matches the number of classes and for each input only one neuron\n",
        "# would fire (will have value 1, will be \"hot\"; this term comes from \n",
        "# electronics) and the other will be zeros.\n",
        "#\n",
        "# So \"One hot encoding\" can look like:\n",
        "#\n",
        "# 'setosa' -> 100 (1st neuron is 1, others are 0s)\n",
        "# 'versicolor' -> 010 (2nd neuron is 1, others are 0s)\n",
        "# 'virginica' -> 001 (3rd neuron is 1, others are 0s)\n",
        "\n",
        "categories = df_dataset['species'].unique()\n",
        "categories.sort()\n",
        "#print(type(categories))\n",
        "#print(categories)\n",
        "#print(type(df_dataset['species']))\n",
        "\n",
        "# List Comprehension\n",
        "f = lambda species: np.argwhere(categories == species)[0][0]\n",
        "# Numeric encoding: output is a list of categories values in numeric form\n",
        "categories_numeric = [f(species) for species in df_dataset['species']]\n",
        "\n",
        "#\n",
        "# one hot encoding\n",
        "#\n",
        "\n",
        "# 1st option: keras.utils.to_categorical()\n",
        "categories_ohe = keras.utils.to_categorical(categories_numeric)\n",
        "#print(categories_ohe)\n",
        "\n",
        "# 2nd option: tf.one_hot()\n",
        "inputs = tf.one_hot(categories_numeric, len(categories))\n",
        "#print(inputs.numpy())\n",
        "\n",
        "# 3rd option: pandas.get_dummies()\n",
        "df_dataset = df_dataset.join(pd.get_dummies(df_dataset.species))\n",
        "df_dataset"
      ],
      "execution_count": 6,
      "outputs": [
        {
          "output_type": "execute_result",
          "data": {
            "text/html": [
              "<div>\n",
              "<style scoped>\n",
              "    .dataframe tbody tr th:only-of-type {\n",
              "        vertical-align: middle;\n",
              "    }\n",
              "\n",
              "    .dataframe tbody tr th {\n",
              "        vertical-align: top;\n",
              "    }\n",
              "\n",
              "    .dataframe thead th {\n",
              "        text-align: right;\n",
              "    }\n",
              "</style>\n",
              "<table border=\"1\" class=\"dataframe\">\n",
              "  <thead>\n",
              "    <tr style=\"text-align: right;\">\n",
              "      <th></th>\n",
              "      <th>sepal_length</th>\n",
              "      <th>sepal_width</th>\n",
              "      <th>petal_length</th>\n",
              "      <th>petal_width</th>\n",
              "      <th>species</th>\n",
              "      <th>setosa</th>\n",
              "      <th>versicolor</th>\n",
              "      <th>virginica</th>\n",
              "    </tr>\n",
              "  </thead>\n",
              "  <tbody>\n",
              "    <tr>\n",
              "      <th>0</th>\n",
              "      <td>5.1</td>\n",
              "      <td>3.5</td>\n",
              "      <td>1.4</td>\n",
              "      <td>0.2</td>\n",
              "      <td>setosa</td>\n",
              "      <td>1</td>\n",
              "      <td>0</td>\n",
              "      <td>0</td>\n",
              "    </tr>\n",
              "    <tr>\n",
              "      <th>1</th>\n",
              "      <td>4.9</td>\n",
              "      <td>3.0</td>\n",
              "      <td>1.4</td>\n",
              "      <td>0.2</td>\n",
              "      <td>setosa</td>\n",
              "      <td>1</td>\n",
              "      <td>0</td>\n",
              "      <td>0</td>\n",
              "    </tr>\n",
              "    <tr>\n",
              "      <th>2</th>\n",
              "      <td>4.7</td>\n",
              "      <td>3.2</td>\n",
              "      <td>1.3</td>\n",
              "      <td>0.2</td>\n",
              "      <td>setosa</td>\n",
              "      <td>1</td>\n",
              "      <td>0</td>\n",
              "      <td>0</td>\n",
              "    </tr>\n",
              "    <tr>\n",
              "      <th>3</th>\n",
              "      <td>4.6</td>\n",
              "      <td>3.1</td>\n",
              "      <td>1.5</td>\n",
              "      <td>0.2</td>\n",
              "      <td>setosa</td>\n",
              "      <td>1</td>\n",
              "      <td>0</td>\n",
              "      <td>0</td>\n",
              "    </tr>\n",
              "    <tr>\n",
              "      <th>4</th>\n",
              "      <td>5.0</td>\n",
              "      <td>3.6</td>\n",
              "      <td>1.4</td>\n",
              "      <td>0.2</td>\n",
              "      <td>setosa</td>\n",
              "      <td>1</td>\n",
              "      <td>0</td>\n",
              "      <td>0</td>\n",
              "    </tr>\n",
              "    <tr>\n",
              "      <th>...</th>\n",
              "      <td>...</td>\n",
              "      <td>...</td>\n",
              "      <td>...</td>\n",
              "      <td>...</td>\n",
              "      <td>...</td>\n",
              "      <td>...</td>\n",
              "      <td>...</td>\n",
              "      <td>...</td>\n",
              "    </tr>\n",
              "    <tr>\n",
              "      <th>145</th>\n",
              "      <td>6.7</td>\n",
              "      <td>3.0</td>\n",
              "      <td>5.2</td>\n",
              "      <td>2.3</td>\n",
              "      <td>virginica</td>\n",
              "      <td>0</td>\n",
              "      <td>0</td>\n",
              "      <td>1</td>\n",
              "    </tr>\n",
              "    <tr>\n",
              "      <th>146</th>\n",
              "      <td>6.3</td>\n",
              "      <td>2.5</td>\n",
              "      <td>5.0</td>\n",
              "      <td>1.9</td>\n",
              "      <td>virginica</td>\n",
              "      <td>0</td>\n",
              "      <td>0</td>\n",
              "      <td>1</td>\n",
              "    </tr>\n",
              "    <tr>\n",
              "      <th>147</th>\n",
              "      <td>6.5</td>\n",
              "      <td>3.0</td>\n",
              "      <td>5.2</td>\n",
              "      <td>2.0</td>\n",
              "      <td>virginica</td>\n",
              "      <td>0</td>\n",
              "      <td>0</td>\n",
              "      <td>1</td>\n",
              "    </tr>\n",
              "    <tr>\n",
              "      <th>148</th>\n",
              "      <td>6.2</td>\n",
              "      <td>3.4</td>\n",
              "      <td>5.4</td>\n",
              "      <td>2.3</td>\n",
              "      <td>virginica</td>\n",
              "      <td>0</td>\n",
              "      <td>0</td>\n",
              "      <td>1</td>\n",
              "    </tr>\n",
              "    <tr>\n",
              "      <th>149</th>\n",
              "      <td>5.9</td>\n",
              "      <td>3.0</td>\n",
              "      <td>5.1</td>\n",
              "      <td>1.8</td>\n",
              "      <td>virginica</td>\n",
              "      <td>0</td>\n",
              "      <td>0</td>\n",
              "      <td>1</td>\n",
              "    </tr>\n",
              "  </tbody>\n",
              "</table>\n",
              "<p>150 rows × 8 columns</p>\n",
              "</div>"
            ],
            "text/plain": [
              "     sepal_length  sepal_width  petal_length  ...  setosa versicolor  virginica\n",
              "0             5.1          3.5           1.4  ...       1          0          0\n",
              "1             4.9          3.0           1.4  ...       1          0          0\n",
              "2             4.7          3.2           1.3  ...       1          0          0\n",
              "3             4.6          3.1           1.5  ...       1          0          0\n",
              "4             5.0          3.6           1.4  ...       1          0          0\n",
              "..            ...          ...           ...  ...     ...        ...        ...\n",
              "145           6.7          3.0           5.2  ...       0          0          1\n",
              "146           6.3          2.5           5.0  ...       0          0          1\n",
              "147           6.5          3.0           5.2  ...       0          0          1\n",
              "148           6.2          3.4           5.4  ...       0          0          1\n",
              "149           5.9          3.0           5.1  ...       0          0          1\n",
              "\n",
              "[150 rows x 8 columns]"
            ]
          },
          "metadata": {
            "tags": []
          },
          "execution_count": 6
        }
      ]
    },
    {
      "cell_type": "code",
      "metadata": {
        "colab": {
          "base_uri": "https://localhost:8080/",
          "height": 419
        },
        "id": "skQ8yQovGD79",
        "outputId": "85ac5c45-efde-4b00-cab0-4ce05d606d4e"
      },
      "source": [
        "#\n",
        "# shuffle dataframe in-place and reset the index\n",
        "# drop=True prevents .reset_index from creating a column containing the old\n",
        "# index entries\n",
        "#\n",
        "df_dataset = df_dataset.sample(frac=1).reset_index(drop=True)\n",
        "df_dataset"
      ],
      "execution_count": 7,
      "outputs": [
        {
          "output_type": "execute_result",
          "data": {
            "text/html": [
              "<div>\n",
              "<style scoped>\n",
              "    .dataframe tbody tr th:only-of-type {\n",
              "        vertical-align: middle;\n",
              "    }\n",
              "\n",
              "    .dataframe tbody tr th {\n",
              "        vertical-align: top;\n",
              "    }\n",
              "\n",
              "    .dataframe thead th {\n",
              "        text-align: right;\n",
              "    }\n",
              "</style>\n",
              "<table border=\"1\" class=\"dataframe\">\n",
              "  <thead>\n",
              "    <tr style=\"text-align: right;\">\n",
              "      <th></th>\n",
              "      <th>sepal_length</th>\n",
              "      <th>sepal_width</th>\n",
              "      <th>petal_length</th>\n",
              "      <th>petal_width</th>\n",
              "      <th>species</th>\n",
              "      <th>setosa</th>\n",
              "      <th>versicolor</th>\n",
              "      <th>virginica</th>\n",
              "    </tr>\n",
              "  </thead>\n",
              "  <tbody>\n",
              "    <tr>\n",
              "      <th>0</th>\n",
              "      <td>6.6</td>\n",
              "      <td>2.9</td>\n",
              "      <td>4.6</td>\n",
              "      <td>1.3</td>\n",
              "      <td>versicolor</td>\n",
              "      <td>0</td>\n",
              "      <td>1</td>\n",
              "      <td>0</td>\n",
              "    </tr>\n",
              "    <tr>\n",
              "      <th>1</th>\n",
              "      <td>5.1</td>\n",
              "      <td>3.7</td>\n",
              "      <td>1.5</td>\n",
              "      <td>0.4</td>\n",
              "      <td>setosa</td>\n",
              "      <td>1</td>\n",
              "      <td>0</td>\n",
              "      <td>0</td>\n",
              "    </tr>\n",
              "    <tr>\n",
              "      <th>2</th>\n",
              "      <td>5.7</td>\n",
              "      <td>2.6</td>\n",
              "      <td>3.5</td>\n",
              "      <td>1.0</td>\n",
              "      <td>versicolor</td>\n",
              "      <td>0</td>\n",
              "      <td>1</td>\n",
              "      <td>0</td>\n",
              "    </tr>\n",
              "    <tr>\n",
              "      <th>3</th>\n",
              "      <td>5.0</td>\n",
              "      <td>3.6</td>\n",
              "      <td>1.4</td>\n",
              "      <td>0.2</td>\n",
              "      <td>setosa</td>\n",
              "      <td>1</td>\n",
              "      <td>0</td>\n",
              "      <td>0</td>\n",
              "    </tr>\n",
              "    <tr>\n",
              "      <th>4</th>\n",
              "      <td>6.7</td>\n",
              "      <td>3.1</td>\n",
              "      <td>5.6</td>\n",
              "      <td>2.4</td>\n",
              "      <td>virginica</td>\n",
              "      <td>0</td>\n",
              "      <td>0</td>\n",
              "      <td>1</td>\n",
              "    </tr>\n",
              "    <tr>\n",
              "      <th>...</th>\n",
              "      <td>...</td>\n",
              "      <td>...</td>\n",
              "      <td>...</td>\n",
              "      <td>...</td>\n",
              "      <td>...</td>\n",
              "      <td>...</td>\n",
              "      <td>...</td>\n",
              "      <td>...</td>\n",
              "    </tr>\n",
              "    <tr>\n",
              "      <th>145</th>\n",
              "      <td>6.3</td>\n",
              "      <td>3.4</td>\n",
              "      <td>5.6</td>\n",
              "      <td>2.4</td>\n",
              "      <td>virginica</td>\n",
              "      <td>0</td>\n",
              "      <td>0</td>\n",
              "      <td>1</td>\n",
              "    </tr>\n",
              "    <tr>\n",
              "      <th>146</th>\n",
              "      <td>6.4</td>\n",
              "      <td>3.2</td>\n",
              "      <td>5.3</td>\n",
              "      <td>2.3</td>\n",
              "      <td>virginica</td>\n",
              "      <td>0</td>\n",
              "      <td>0</td>\n",
              "      <td>1</td>\n",
              "    </tr>\n",
              "    <tr>\n",
              "      <th>147</th>\n",
              "      <td>5.8</td>\n",
              "      <td>2.7</td>\n",
              "      <td>3.9</td>\n",
              "      <td>1.2</td>\n",
              "      <td>versicolor</td>\n",
              "      <td>0</td>\n",
              "      <td>1</td>\n",
              "      <td>0</td>\n",
              "    </tr>\n",
              "    <tr>\n",
              "      <th>148</th>\n",
              "      <td>6.5</td>\n",
              "      <td>2.8</td>\n",
              "      <td>4.6</td>\n",
              "      <td>1.5</td>\n",
              "      <td>versicolor</td>\n",
              "      <td>0</td>\n",
              "      <td>1</td>\n",
              "      <td>0</td>\n",
              "    </tr>\n",
              "    <tr>\n",
              "      <th>149</th>\n",
              "      <td>6.1</td>\n",
              "      <td>3.0</td>\n",
              "      <td>4.9</td>\n",
              "      <td>1.8</td>\n",
              "      <td>virginica</td>\n",
              "      <td>0</td>\n",
              "      <td>0</td>\n",
              "      <td>1</td>\n",
              "    </tr>\n",
              "  </tbody>\n",
              "</table>\n",
              "<p>150 rows × 8 columns</p>\n",
              "</div>"
            ],
            "text/plain": [
              "     sepal_length  sepal_width  petal_length  ...  setosa versicolor  virginica\n",
              "0             6.6          2.9           4.6  ...       0          1          0\n",
              "1             5.1          3.7           1.5  ...       1          0          0\n",
              "2             5.7          2.6           3.5  ...       0          1          0\n",
              "3             5.0          3.6           1.4  ...       1          0          0\n",
              "4             6.7          3.1           5.6  ...       0          0          1\n",
              "..            ...          ...           ...  ...     ...        ...        ...\n",
              "145           6.3          3.4           5.6  ...       0          0          1\n",
              "146           6.4          3.2           5.3  ...       0          0          1\n",
              "147           5.8          2.7           3.9  ...       0          1          0\n",
              "148           6.5          2.8           4.6  ...       0          1          0\n",
              "149           6.1          3.0           4.9  ...       0          0          1\n",
              "\n",
              "[150 rows x 8 columns]"
            ]
          },
          "metadata": {
            "tags": []
          },
          "execution_count": 7
        }
      ]
    },
    {
      "cell_type": "code",
      "metadata": {
        "colab": {
          "base_uri": "https://localhost:8080/"
        },
        "id": "99dlC6vzcn78",
        "outputId": "23f8eefe-2e85-4fdb-c00e-96c0251bef7f"
      },
      "source": [
        "  dataset_train = df_dataset.sample(frac=0.8, random_state=0)\n",
        "  print(f'dataset_train.shape = {dataset_train.shape}')\n",
        "  dataset_test = df_dataset.drop(dataset_train.index)\n",
        "  print(f'dataset_test.shape = {dataset_test.shape}')"
      ],
      "execution_count": 8,
      "outputs": [
        {
          "output_type": "stream",
          "text": [
            "dataset_train.shape = (120, 8)\n",
            "dataset_test.shape = (30, 8)\n"
          ],
          "name": "stdout"
        }
      ]
    },
    {
      "cell_type": "code",
      "metadata": {
        "colab": {
          "base_uri": "https://localhost:8080/"
        },
        "id": "u43Sm4aNPFAP",
        "outputId": "7c309cb6-774c-4d78-a70f-4dbed03fb047"
      },
      "source": [
        "# Extract dataset with training features and labels\n",
        "datasest_train_features = dataset_train.iloc[:, 0:-4]\n",
        "dataset_train_labels = dataset_train.iloc[:, -3:]\n",
        "\n",
        "print(datasest_train_features.head())\n",
        "print(dataset_train_labels.head())\n",
        "print(datasest_train_features.shape)\n",
        "print(dataset_train_labels.shape)\n",
        "\n",
        "datasest_test_features = dataset_test.iloc[:, 0:-4]\n",
        "dataset_test_labels = dataset_test.iloc[:, -3:]\n",
        "\n",
        "print(datasest_test_features.head())\n",
        "print(dataset_test_labels.head())\n",
        "print(datasest_test_features.shape)\n",
        "print(dataset_test_labels.shape)"
      ],
      "execution_count": 9,
      "outputs": [
        {
          "output_type": "stream",
          "text": [
            "     sepal_length  sepal_width  petal_length  petal_width\n",
            "114           5.1          3.5           1.4          0.3\n",
            "62            5.4          3.7           1.5          0.2\n",
            "33            6.7          3.1           4.7          1.5\n",
            "107           5.2          3.4           1.4          0.2\n",
            "7             6.0          2.9           4.5          1.5\n",
            "     setosa  versicolor  virginica\n",
            "114       1           0          0\n",
            "62        1           0          0\n",
            "33        0           1          0\n",
            "107       1           0          0\n",
            "7         0           1          0\n",
            "(120, 4)\n",
            "(120, 3)\n",
            "    sepal_length  sepal_width  petal_length  petal_width\n",
            "9            4.9          3.1           1.5          0.1\n",
            "14           6.3          2.5           5.0          1.9\n",
            "19           4.3          3.0           1.1          0.1\n",
            "21           5.4          3.4           1.5          0.4\n",
            "25           6.2          3.4           5.4          2.3\n",
            "    setosa  versicolor  virginica\n",
            "9        1           0          0\n",
            "14       0           0          1\n",
            "19       1           0          0\n",
            "21       1           0          0\n",
            "25       0           0          1\n",
            "(30, 4)\n",
            "(30, 3)\n"
          ],
          "name": "stdout"
        }
      ]
    },
    {
      "cell_type": "code",
      "metadata": {
        "colab": {
          "base_uri": "https://localhost:8080/"
        },
        "id": "9xcMolPbKf7g",
        "outputId": "8887e470-b8dd-4bbd-d426-ca45c57dd2a3"
      },
      "source": [
        "#\n",
        "# Build a model with 3 neurons\n",
        "#\n",
        "\n",
        "FEATURES_COUNT = datasest_train_features.shape[1]\n",
        "print(f'FEATURES_COUNT = {FEATURES_COUNT}')\n",
        "\n",
        "HIDDEN_LAYER_UNITS_NUMBER = 0\n",
        "OUTPUT_LAYER_UNITS_NUMBER = dataset_train_labels.shape[1]\n",
        "ACTIVATION = tf.keras.activations.softmax\n",
        "\n",
        "model = tf.keras.Sequential([\n",
        "    layers.Dense(input_shape=(FEATURES_COUNT,),\n",
        "                 units=OUTPUT_LAYER_UNITS_NUMBER,\n",
        "                 activation=ACTIVATION\n",
        "    )\n",
        "])\n",
        "\n",
        "\n",
        "model.build(datasest_train_features.shape)\n",
        "model.summary()"
      ],
      "execution_count": 18,
      "outputs": [
        {
          "output_type": "stream",
          "text": [
            "FEATURES_COUNT = 4\n",
            "Model: \"sequential_2\"\n",
            "_________________________________________________________________\n",
            "Layer (type)                 Output Shape              Param #   \n",
            "=================================================================\n",
            "module_wrapper_2 (ModuleWrap (120, 3)                  15        \n",
            "=================================================================\n",
            "Total params: 15\n",
            "Trainable params: 15\n",
            "Non-trainable params: 0\n",
            "_________________________________________________________________\n"
          ],
          "name": "stdout"
        }
      ]
    },
    {
      "cell_type": "code",
      "metadata": {
        "id": "fsMMK5GbWd0h"
      },
      "source": [
        "# The binary_crossentropy binary cross entropy used in the previous Logistic \n",
        "# regression for two classifications, where categorical_crossentropy is used for \n",
        "# multi-classification\n",
        "\n",
        "LOSS = tf.keras.losses.CategoricalCrossentropy()\n",
        "\n",
        "# Note that the target data must be one-hot encoded, only use this to calculate \n",
        "# the softmax cross entropy\n",
        "#\n",
        "# From Keras documentation:\n",
        "# tf.keras.losses.CategoricalCrossentropy - Use this crossentropy loss function \n",
        "# when there are two or more label classes. We expect labels to be provided in a\n",
        "# one_hot representation. If you want to provide labels as integers, please use \n",
        "# SparseCategoricalCrossentropy loss. \n",
        "#\n",
        "model.compile(optimizer='adam', loss=LOSS,  metrics=['acc'])"
      ],
      "execution_count": 19,
      "outputs": []
    },
    {
      "cell_type": "code",
      "metadata": {
        "id": "pqXDYcpfWm0e"
      },
      "source": [
        "EPOCHS = 500\n",
        "history = model.fit(\n",
        "    datasest_train_features,\n",
        "    dataset_train_labels,\n",
        "    epochs=EPOCHS,\n",
        "    verbose=0)"
      ],
      "execution_count": 20,
      "outputs": []
    },
    {
      "cell_type": "code",
      "metadata": {
        "colab": {
          "base_uri": "https://localhost:8080/",
          "height": 282
        },
        "id": "Tp9NfbyJWyPR",
        "outputId": "8cdcdb16-4791-4f25-f30f-e9b0b64afb78"
      },
      "source": [
        "plt.plot(range(EPOCHS),history.history.get('loss'))"
      ],
      "execution_count": 21,
      "outputs": [
        {
          "output_type": "execute_result",
          "data": {
            "text/plain": [
              "[<matplotlib.lines.Line2D at 0x7f69f873dbd0>]"
            ]
          },
          "metadata": {
            "tags": []
          },
          "execution_count": 21
        },
        {
          "output_type": "display_data",
          "data": {
            "image/png": "[encoded data removed]",
            "text/plain": [
              "<Figure size 432x288 with 1 Axes>"
            ]
          },
          "metadata": {
            "tags": [],
            "needs_background": "light"
          }
        }
      ]
    },
    {
      "cell_type": "code",
      "metadata": {
        "colab": {
          "base_uri": "https://localhost:8080/",
          "height": 282
        },
        "id": "XxxNa3JRW5zE",
        "outputId": "6db5b27d-b864-4dfa-b9c2-a464e4e4ce5e"
      },
      "source": [
        "plt.plot(range(EPOCHS),history.history.get('acc'))"
      ],
      "execution_count": 23,
      "outputs": [
        {
          "output_type": "execute_result",
          "data": {
            "text/plain": [
              "[<matplotlib.lines.Line2D at 0x7f69f7e0c110>]"
            ]
          },
          "metadata": {
            "tags": []
          },
          "execution_count": 23
        },
        {
          "output_type": "display_data",
          "data": {
            "image/png": "[encoded data removed]",
            "text/plain": [
              "<Figure size 432x288 with 1 Axes>"
            ]
          },
          "metadata": {
            "tags": [],
            "needs_background": "light"
          }
        }
      ]
    },
    {
      "cell_type": "code",
      "metadata": {
        "colab": {
          "base_uri": "https://localhost:8080/"
        },
        "id": "We1xTTSAXOCs",
        "outputId": "c8c6043b-6299-48e4-b030-f2c3fe87ed76"
      },
      "source": [
        "predictions = model.predict(datasest_test_features)\n",
        "print(predictions.shape)\n",
        "print(predictions[0])\n",
        "print(type(predictions[0]))\n",
        "\n",
        "# \n",
        "# Let's verify that the sum of predictions for each test example is 1:\n",
        "#\n",
        "print(np.sum(predictions[0]))\n",
        "print(np.sum(predictions[1]))\n",
        "print(np.sum(predictions[29]))\n",
        "\n",
        "print(predictions)"
      ],
      "execution_count": 24,
      "outputs": [
        {
          "output_type": "stream",
          "text": [
            "(30, 3)\n",
            "[0.692372   0.19453493 0.11309302]\n",
            "<class 'numpy.ndarray'>\n",
            "1.0\n",
            "1.0\n",
            "1.0\n",
            "[[0.692372   0.19453493 0.11309302]\n",
            " [0.05082449 0.43778956 0.511386  ]\n",
            " [0.7503472  0.13256027 0.11709249]\n",
            " [0.72956395 0.1489665  0.12146954]\n",
            " [0.07145709 0.15180777 0.7767352 ]\n",
            " [0.05097154 0.34827173 0.60075676]\n",
            " [0.17766131 0.45070606 0.37163267]\n",
            " [0.11155351 0.4526263  0.4358202 ]\n",
            " [0.08069261 0.6968008  0.22250657]\n",
            " [0.692372   0.19453493 0.11309302]\n",
            " [0.8826666  0.05367194 0.06366141]\n",
            " [0.7477642  0.14777417 0.10446161]\n",
            " [0.0437756  0.28955892 0.66666543]\n",
            " [0.187533   0.3343174  0.47814962]\n",
            " [0.75951326 0.11341329 0.12707342]\n",
            " [0.04342125 0.33980522 0.61677355]\n",
            " [0.1821087  0.38470364 0.4331876 ]\n",
            " [0.6777281  0.18083653 0.14143538]\n",
            " [0.15474722 0.38539213 0.45986062]\n",
            " [0.0627133  0.35316232 0.5841244 ]\n",
            " [0.8862755  0.04318415 0.07054028]\n",
            " [0.1596013  0.30485472 0.5355439 ]\n",
            " [0.08598708 0.45573333 0.45827958]\n",
            " [0.7522515  0.14048086 0.10726766]\n",
            " [0.02425907 0.55113685 0.42460406]\n",
            " [0.04033684 0.1480879  0.8115753 ]\n",
            " [0.7526015  0.12645255 0.12094594]\n",
            " [0.06129427 0.3065924  0.63211334]\n",
            " [0.16096139 0.3826525  0.45638618]\n",
            " [0.05944904 0.14722697 0.793324  ]]\n"
          ],
          "name": "stdout"
        }
      ]
    }
  ]
}