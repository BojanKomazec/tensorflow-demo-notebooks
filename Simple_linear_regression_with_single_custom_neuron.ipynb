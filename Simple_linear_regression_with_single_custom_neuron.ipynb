{
  "nbformat": 4,
  "nbformat_minor": 0,
  "metadata": {
    "colab": {
      "name": "Simple-linear-regression-with-single-custom-neuron.ipynb",
      "provenance": [],
      "collapsed_sections": [],
      "authorship_tag": "ABX9TyPnxmbdmkJsU/7n7KMpFyVC",
      "include_colab_link": true
    },
    "kernelspec": {
      "name": "python3",
      "display_name": "Python 3"
    },
    "language_info": {
      "name": "python"
    }
  },
  "cells": [
    {
      "cell_type": "markdown",
      "metadata": {
        "id": "view-in-github",
        "colab_type": "text"
      },
      "source": [
        "<a href=\"https://colab.research.google.com/github/BojanKomazec/tensorflow-demo-notebooks/blob/main/Simple_linear_regression_with_single_custom_neuron.ipynb\" target=\"_parent\"><img src=\"https://colab.research.google.com/assets/colab-badge.svg\" alt=\"Open In Colab\"/></a>"
      ]
    },
    {
      "cell_type": "code",
      "metadata": {
        "id": "xjFJQp_ctEQ6"
      },
      "source": [
        "import numpy as np\n",
        "import matplotlib.pyplot as plt\n",
        "import pandas as pd"
      ],
      "execution_count": 26,
      "outputs": []
    },
    {
      "cell_type": "code",
      "metadata": {
        "colab": {
          "base_uri": "https://localhost:8080/"
        },
        "id": "2I-56Fkftepo",
        "outputId": "b9c58a55-1f73-4909-9675-44daeffdb5af"
      },
      "source": [
        "#\n",
        "# Create x and y values for datapoints\n",
        "#\n",
        "\n",
        "dataset_x = np.linspace(-1, 1, 100)\n",
        "print(f'dataset_x.shape = {dataset_x.shape}')\n",
        "\n",
        "# Our model will need to learn these values\n",
        "SLOPE = 2\n",
        "INTERCEPT = -1\n",
        "\n",
        "rng = np.random.default_rng()\n",
        "dataset_y = ((SLOPE * dataset_x) + INTERCEPT) + rng.standard_normal(*dataset_x.shape) * 0.33"
      ],
      "execution_count": 27,
      "outputs": [
        {
          "output_type": "stream",
          "text": [
            "dataset_x.shape = (100,)\n"
          ],
          "name": "stdout"
        }
      ]
    },
    {
      "cell_type": "code",
      "metadata": {
        "colab": {
          "base_uri": "https://localhost:8080/",
          "height": 265
        },
        "id": "eddpnggSuBG9",
        "outputId": "4aff2df2-d7f3-423d-892d-b89ae899453a"
      },
      "source": [
        "#\n",
        "# (Optional) Plot data points\n",
        "#\n",
        "\n",
        "plt.plot(dataset_x, dataset_y, 'bo')\n",
        "plt.show()"
      ],
      "execution_count": 28,
      "outputs": [
        {
          "output_type": "display_data",
          "data": {
            "image/png": "[encoded data removed]",
            "text/plain": [
              "<Figure size 432x288 with 1 Axes>"
            ]
          },
          "metadata": {
            "tags": [],
            "needs_background": "light"
          }
        }
      ]
    },
    {
      "cell_type": "code",
      "metadata": {
        "id": "rbDm6BM4vPqS",
        "colab": {
          "base_uri": "https://localhost:8080/"
        },
        "outputId": "9e896294-31eb-431e-92a5-439c2e9c2895"
      },
      "source": [
        "#\n",
        "# Create a training and test datasets\n",
        "#\n",
        "\n",
        "dataset = list(zip(dataset_x, dataset_y))\n",
        "print(f'dataset = {dataset}') # list of (x, y) tuples\n",
        "\n",
        "# Pandas dataframe\n",
        "df_dataset = pd.DataFrame.from_records(dataset, columns = ['x', 'y'] )\n",
        "\n",
        "dataset_train = df_dataset.sample(frac=0.8, random_state=0)\n",
        "print(f'dataset_train.shape = {dataset_train.shape}')\n",
        "dataset_test = df_dataset.drop(dataset_train.index)\n",
        "print(f'dataset_test.shape = {dataset_test.shape}')"
      ],
      "execution_count": 29,
      "outputs": [
        {
          "output_type": "stream",
          "text": [
            "dataset = [(-1.0, -2.7404509465774405), (-0.9797979797979798, -3.110676063968065), (-0.9595959595959596, -3.223234911887613), (-0.9393939393939394, -3.1394478827538417), (-0.9191919191919192, -2.665599786262668), (-0.898989898989899, -2.6823975980739196), (-0.8787878787878788, -2.7423465596747305), (-0.8585858585858586, -2.465658889803021), (-0.8383838383838383, -2.4104942179324764), (-0.8181818181818181, -3.080601518092509), (-0.797979797979798, -2.6511060625326803), (-0.7777777777777778, -3.056574846850676), (-0.7575757575757576, -2.092848164590285), (-0.7373737373737373, -2.2465191081674707), (-0.7171717171717171, -2.088851588181697), (-0.696969696969697, -2.2006989103362544), (-0.6767676767676767, -2.4610716690484553), (-0.6565656565656566, -1.8679240368524146), (-0.6363636363636364, -2.0458533537134804), (-0.6161616161616161, -2.314413751939998), (-0.5959595959595959, -1.9496765192948284), (-0.5757575757575757, -2.164380577831649), (-0.5555555555555556, -1.826992418267759), (-0.5353535353535352, -2.052304927820258), (-0.5151515151515151, -2.2756240162913075), (-0.4949494949494949, -2.1728495108155865), (-0.4747474747474747, -2.38990968812137), (-0.4545454545454545, -1.687181702577751), (-0.43434343434343425, -2.2917775802730684), (-0.41414141414141414, -1.64513969300438), (-0.3939393939393939, -1.3898139850364368), (-0.3737373737373737, -1.9575972573606681), (-0.3535353535353535, -1.2536379886974607), (-0.33333333333333326, -1.7870499103041346), (-0.31313131313131304, -1.7789543202991915), (-0.2929292929292928, -1.4028137365451276), (-0.2727272727272727, -1.6570637947106457), (-0.2525252525252525, -1.147443749389814), (-0.23232323232323226, -1.4124372018363358), (-0.21212121212121204, -1.6581221071237482), (-0.19191919191919182, -1.1635306199234956), (-0.1717171717171716, -1.6563728219976719), (-0.1515151515151515, -1.3346427056661008), (-0.13131313131313127, -1.3581551982187667), (-0.11111111111111105, -1.0807446109819678), (-0.09090909090909083, -1.7443701266587568), (-0.07070707070707061, -1.4893739456894233), (-0.050505050505050386, -1.8126277190827744), (-0.030303030303030276, -0.8493642951393631), (-0.010101010101010055, -1.3242201093111434), (0.010101010101010166, -1.0422507642733718), (0.030303030303030498, -0.4232971120353247), (0.05050505050505061, -0.7210394703898789), (0.07070707070707072, -1.0555632478443076), (0.09090909090909105, -0.20701871544058836), (0.11111111111111116, -1.060201147771243), (0.1313131313131315, -0.6143834494708866), (0.1515151515151516, -0.6160312055617913), (0.1717171717171717, -0.7299326845432201), (0.19191919191919204, -0.21528949184356883), (0.21212121212121215, -0.632214417574314), (0.2323232323232325, -0.2434871003206736), (0.2525252525252526, -0.2340690921957077), (0.27272727272727293, -0.44968755531316035), (0.29292929292929304, -0.7007041447804158), (0.31313131313131315, 0.06957398851481966), (0.3333333333333335, -0.6651504071358659), (0.3535353535353536, -0.21729394367651794), (0.3737373737373739, -0.4779275600056138), (0.39393939393939403, -0.6089894476620195), (0.41414141414141437, 0.3123825963261545), (0.4343434343434345, -0.32203017362159003), (0.4545454545454546, 0.16540838120331208), (0.4747474747474749, 0.26260401573215114), (0.49494949494949503, 0.015271926562959004), (0.5151515151515154, -0.2854570431421483), (0.5353535353535355, 0.07453620815733984), (0.5555555555555556, 0.3957093421752579), (0.5757575757575759, 0.6103542397831554), (0.595959595959596, -0.014306855312827743), (0.6161616161616164, 0.4572515062177426), (0.6363636363636365, -0.35401034354071637), (0.6565656565656568, 0.5219159894028648), (0.6767676767676769, 0.5687192965157023), (0.696969696969697, 0.942406646712875), (0.7171717171717173, 0.817046188463755), (0.7373737373737375, 0.5012747295833699), (0.7575757575757578, 0.2813526797780649), (0.7777777777777779, -0.020950740548388525), (0.7979797979797982, 0.938197038699585), (0.8181818181818183, 0.6665859613685348), (0.8383838383838385, 0.6451687631626325), (0.8585858585858588, 0.42148231239746664), (0.8787878787878789, 0.6721534577575022), (0.8989898989898992, 0.8838996809705081), (0.9191919191919193, 0.37520288986415634), (0.9393939393939394, 0.78757734289896), (0.9595959595959598, 1.0582865117146825), (0.9797979797979799, 1.4140412305685373), (1.0, 0.9349849316849878)]\n",
            "dataset_train.shape = (80, 2)\n",
            "dataset_test.shape = (20, 2)\n"
          ],
          "name": "stdout"
        }
      ]
    },
    {
      "cell_type": "code",
      "metadata": {
        "id": "tqYu3EruxcLM"
      },
      "source": [
        "#\n",
        "# Define function which plots a scatter graph of dataset datapoints and a line\n",
        "# defined with its (x, y) datapoints.\n",
        "#\n",
        "\n",
        "def plot_fn(dataset_x, dataset_y, x, y):\n",
        "  plt.plot(dataset_x, dataset_y, 'bo', label='Data')\n",
        "  plt.plot(x, y, color='k', label='Predictions')\n",
        "  plt.xlabel('x')\n",
        "  plt.ylabel('y')\n",
        "  plt.legend()\n",
        "  plt.show()"
      ],
      "execution_count": 30,
      "outputs": []
    },
    {
      "cell_type": "code",
      "metadata": {
        "id": "VtQdAjWSHePY"
      },
      "source": [
        "#\n",
        "# Define custom artificial neuron\n",
        "#\n",
        "\n",
        "# Note: this is not a true perceptron for its activation function is an identity\n",
        "# function (there is no activation function; no non-linearity on output)\n",
        "class Perceptron:\n",
        "  # c-tor\n",
        "  def __init__(self):\n",
        "    self.__w = 0\n",
        "    self.__b = 0\n",
        "\n",
        "  @property\n",
        "  def w(self):\n",
        "    return self.__w\n",
        "\n",
        "  @property\n",
        "  def b(self):\n",
        "    return self.__b\n",
        "\n",
        "  def fit(self, training_set_data, training_set_labels, epochs, learning_rate):\n",
        "    n = training_set_data.shape[0]\n",
        "    print(f'Number of examples in training dataset: {n}')\n",
        "\n",
        "    # Plot training set\n",
        "    plt.plot(training_set_data, training_set_labels, 'bo', label='Data')\n",
        "\n",
        "    # Gradient Descent iterations\n",
        "    for i in range(epochs):\n",
        "        # current predicted value of y (hypothesis)\n",
        "        h = self.__w * training_set_data + self.__b  \n",
        "        dw = (1/n) * sum((h - training_set_labels) * training_set_data)\n",
        "        db = (1/n) * sum(h - training_set_labels) \n",
        "        self.__w = self.__w - learning_rate * dw \n",
        "        self.__b = self.__b - learning_rate * db\n",
        "\n",
        "        if i % 10 == 0:\n",
        "          y = self.__w * training_set_data + self.__b\n",
        "          # Add to a figure a current function approximation (during learning).\n",
        "          # Observe how it gets closer to the original line.\n",
        "          plt.plot(training_set_data, y, color='k', label='Predictions')\n",
        "\n",
        "          # Calculate the current error (loss).\n",
        "          # Once it starts to converge, we can stop trainging (this is how \n",
        "          # number of epochs is determined - empirically)\n",
        "          LSE = (1/n) * sum(np.square(h - training_set_labels))\n",
        "          print(f'LSE = {LSE}')\n",
        "\n",
        "  # Note that the output is linear as activation function is an identity \n",
        "  # function.\n",
        "  def predict(self, data):\n",
        "    return self.__w * data + self.__b"
      ],
      "execution_count": 31,
      "outputs": []
    },
    {
      "cell_type": "code",
      "metadata": {
        "colab": {
          "base_uri": "https://localhost:8080/",
          "height": 279
        },
        "id": "LvrUUNnetKu_",
        "outputId": "569c0960-c4ec-4936-e9ba-0dc5b577cb60"
      },
      "source": [
        "#\n",
        "# Initialize parameters\n",
        "#\n",
        "perceptron = Perceptron()\n",
        "y = 0\n",
        "\n",
        "#\n",
        "# Plot the initial hypothesis\n",
        "# \n",
        "y = perceptron.predict(dataset_x)\n",
        "plot_fn(dataset_x, dataset_y, dataset_x, y)"
      ],
      "execution_count": 32,
      "outputs": [
        {
          "output_type": "display_data",
          "data": {
            "image/png": "[encoded data removed]",
            "text/plain": [
              "<Figure size 432x288 with 1 Axes>"
            ]
          },
          "metadata": {
            "tags": [],
            "needs_background": "light"
          }
        }
      ]
    },
    {
      "cell_type": "code",
      "metadata": {
        "id": "3CuJw9B2clph",
        "colab": {
          "base_uri": "https://localhost:8080/",
          "height": 622
        },
        "outputId": "9a99856d-fd3c-45df-aea6-0cba11f90bc7"
      },
      "source": [
        "#\n",
        "# Learn parameters (Gradient Descent algorithm)\n",
        "#\n",
        "\n",
        "learning_rate = 0.1\n",
        "epochs = 200\n",
        "perceptron.fit(dataset_train['x'], dataset_train['y'], epochs, learning_rate)"
      ],
      "execution_count": 33,
      "outputs": [
        {
          "output_type": "stream",
          "text": [
            "Number of examples in training dataset: 80\n",
            "LSE = 2.52272101777016\n",
            "LSE = 0.8822456637546738\n",
            "LSE = 0.4201006810168285\n",
            "LSE = 0.2366566863346337\n",
            "LSE = 0.15273112458486493\n",
            "LSE = 0.11269037683036065\n",
            "LSE = 0.09337570443346756\n",
            "LSE = 0.08403275278354505\n",
            "LSE = 0.07951018077803677\n",
            "LSE = 0.07732058822727005\n",
            "LSE = 0.07626045538787884\n",
            "LSE = 0.0757471662508029\n",
            "LSE = 0.07549864412301308\n",
            "LSE = 0.07537831566389228\n",
            "LSE = 0.0753200554971733\n",
            "LSE = 0.07529184731434382\n",
            "LSE = 0.07527818958502257\n",
            "LSE = 0.07527157683822311\n",
            "LSE = 0.07526837510393518\n",
            "LSE = 0.07526682490055314\n"
          ],
          "name": "stdout"
        },
        {
          "output_type": "display_data",
          "data": {
            "image/png": "[encoded data removed]",
            "text/plain": [
              "<Figure size 432x288 with 1 Axes>"
            ]
          },
          "metadata": {
            "tags": [],
            "needs_background": "light"
          }
        }
      ]
    },
    {
      "cell_type": "code",
      "metadata": {
        "colab": {
          "base_uri": "https://localhost:8080/"
        },
        "id": "PorT1gSNsTJ9",
        "outputId": "4a02c0d5-1053-4c11-c1ef-b50c12f6fcfa"
      },
      "source": [
        "#\n",
        "# Print the values of learned and original model parameters.\n",
        "#\n",
        "\n",
        "print(f'Learned slope is {perceptron.w} while original is {SLOPE}')\n",
        "print(f'Learned intercept is {perceptron.b} while original is {INTERCEPT}')\n",
        "\n",
        "# k and b are approximations and will not completely match SLOPE and INTERCEPT \n",
        "# from the function we used to create a dataset. Increasing epochs numbers can \n",
        "# help up to certain level of accuracy."
      ],
      "execution_count": 34,
      "outputs": [
        {
          "output_type": "stream",
          "text": [
            "Learned slope is 2.0180105973931783 while original is 2\n",
            "Learned intercept is -0.9536945471509858 while original is -1\n"
          ],
          "name": "stdout"
        }
      ]
    },
    {
      "cell_type": "code",
      "metadata": {
        "colab": {
          "base_uri": "https://localhost:8080/",
          "height": 279
        },
        "id": "t1Tc8IDEyPoB",
        "outputId": "80edf3d9-7842-429a-f9de-bf3e6f5bf5f3"
      },
      "source": [
        "#\n",
        "# \n",
        "# Plot the final function approximation\n",
        "#\n",
        "\n",
        "y = perceptron.predict(dataset_x)\n",
        "plot_fn(dataset_x, dataset_y, dataset_x, y)"
      ],
      "execution_count": 35,
      "outputs": [
        {
          "output_type": "display_data",
          "data": {
            "image/png": "[encoded data removed]",
            "text/plain": [
              "<Figure size 432x288 with 1 Axes>"
            ]
          },
          "metadata": {
            "tags": [],
            "needs_background": "light"
          }
        }
      ]
    },
    {
      "cell_type": "code",
      "metadata": {
        "colab": {
          "base_uri": "https://localhost:8080/",
          "height": 279
        },
        "id": "ue54Sac-yLKw",
        "outputId": "092b9aa3-2acc-498f-c394-dbe5c5a2bfe1"
      },
      "source": [
        "#\n",
        "# Plot the function approximation on test (validation) set\n",
        "#\n",
        "\n",
        "test_y = perceptron.predict(dataset_test['x'])\n",
        "plot_fn(dataset_test['x'], dataset_test['y'], dataset_test['x'], test_y)"
      ],
      "execution_count": 36,
      "outputs": [
        {
          "output_type": "display_data",
          "data": {
            "image/png": "[encoded data removed]",
            "text/plain": [
              "<Figure size 432x288 with 1 Axes>"
            ]
          },
          "metadata": {
            "tags": [],
            "needs_background": "light"
          }
        }
      ]
    },
    {
      "cell_type": "code",
      "metadata": {
        "colab": {
          "base_uri": "https://localhost:8080/"
        },
        "id": "C8TtJLTz7hKT",
        "outputId": "64e075ae-fa61-43a0-f507-c71ab7c48f5c"
      },
      "source": [
        "#\n",
        "# Calculate the loss on validation/test dataset. \n",
        "# If model is well trained (approximation is well fitting the ground truth), \n",
        "# it should be slighly higher to the one calculated at final training iteration.\n",
        "#\n",
        "\n",
        "n = dataset_test.shape[0]\n",
        "print(f'Number of examples in test dataset: {n}')\n",
        "\n",
        "LSE = (1/n) * sum(np.square(test_y - dataset_test['y']))\n",
        "print(f'LSE = {LSE}')"
      ],
      "execution_count": 37,
      "outputs": [
        {
          "output_type": "stream",
          "text": [
            "Number of examples in test dataset: 20\n",
            "LSE = 0.14213602368364225\n"
          ],
          "name": "stdout"
        }
      ]
    }
  ]
}