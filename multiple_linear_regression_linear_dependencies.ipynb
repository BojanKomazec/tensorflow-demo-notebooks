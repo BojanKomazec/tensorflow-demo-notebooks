{
  "nbformat": 4,
  "nbformat_minor": 0,
  "metadata": {
    "colab": {
      "name": "multiple-linear-regression-linear-dependencies.ipynb",
      "provenance": [],
      "collapsed_sections": [],
      "authorship_tag": "ABX9TyPOHfku46tPP+u/KQi2qYS9",
      "include_colab_link": true
    },
    "kernelspec": {
      "name": "python3",
      "display_name": "Python 3"
    },
    "language_info": {
      "name": "python"
    }
  },
  "cells": [
    {
      "cell_type": "markdown",
      "metadata": {
        "id": "view-in-github",
        "colab_type": "text"
      },
      "source": [
        "<a href=\"https://colab.research.google.com/github/BojanKomazec/tensorflow-demo-notebooks/blob/main/multiple_linear_regression_linear_dependencies.ipynb\" target=\"_parent\"><img src=\"https://colab.research.google.com/assets/colab-badge.svg\" alt=\"Open In Colab\"/></a>"
      ]
    },
    {
      "cell_type": "code",
      "metadata": {
        "id": "g97hoGdqsxog"
      },
      "source": [
        "import pandas as pd\n",
        "import matplotlib.pyplot as plt\n",
        "import numpy as np\n",
        "\n",
        "import tensorflow as tf\n",
        "from tensorflow import keras\n",
        "from tensorflow.keras import layers\n",
        "from tensorflow.keras.layers.experimental import preprocessing"
      ],
      "execution_count": 171,
      "outputs": []
    },
    {
      "cell_type": "code",
      "metadata": {
        "id": "J4xFY_Ixz3CK"
      },
      "source": [
        "#\n",
        "# Load data\n",
        "#\n",
        "\n",
        "url_dataset = 'https://raw.githubusercontent.com/BojanKomazec/tensorflow-demo-notebooks/main/data/cars.csv'\n",
        "df_dataset = pd.read_csv(url_dataset)"
      ],
      "execution_count": 172,
      "outputs": []
    },
    {
      "cell_type": "code",
      "metadata": {
        "colab": {
          "base_uri": "https://localhost:8080/",
          "height": 1000
        },
        "id": "7NXi0IlaE3KB",
        "outputId": "c723769d-ac3c-40f5-b4d3-077b35a7e7ae"
      },
      "source": [
        "#\n",
        "# Exploratory Analasys\n",
        "#\n",
        "\n",
        "#\n",
        "# Show dataframe with dataset in order to identify features and labels.\n",
        "#\n",
        "# By looking the columns we can identify:\n",
        "# - Input features (predictors): Volume and Weight\n",
        "# - Output labels (): CO2\n",
        "display(df_dataset)"
      ],
      "execution_count": 173,
      "outputs": [
        {
          "output_type": "display_data",
          "data": {
            "text/html": [
              "<div>\n",
              "<style scoped>\n",
              "    .dataframe tbody tr th:only-of-type {\n",
              "        vertical-align: middle;\n",
              "    }\n",
              "\n",
              "    .dataframe tbody tr th {\n",
              "        vertical-align: top;\n",
              "    }\n",
              "\n",
              "    .dataframe thead th {\n",
              "        text-align: right;\n",
              "    }\n",
              "</style>\n",
              "<table border=\"1\" class=\"dataframe\">\n",
              "  <thead>\n",
              "    <tr style=\"text-align: right;\">\n",
              "      <th></th>\n",
              "      <th>Car</th>\n",
              "      <th>Model</th>\n",
              "      <th>Volume</th>\n",
              "      <th>Weight</th>\n",
              "      <th>CO2</th>\n",
              "    </tr>\n",
              "  </thead>\n",
              "  <tbody>\n",
              "    <tr>\n",
              "      <th>0</th>\n",
              "      <td>Toyota</td>\n",
              "      <td>Aygo</td>\n",
              "      <td>1000</td>\n",
              "      <td>790</td>\n",
              "      <td>99</td>\n",
              "    </tr>\n",
              "    <tr>\n",
              "      <th>1</th>\n",
              "      <td>Mitsubishi</td>\n",
              "      <td>Space Star</td>\n",
              "      <td>1200</td>\n",
              "      <td>1160</td>\n",
              "      <td>95</td>\n",
              "    </tr>\n",
              "    <tr>\n",
              "      <th>2</th>\n",
              "      <td>Skoda</td>\n",
              "      <td>Citigo</td>\n",
              "      <td>1000</td>\n",
              "      <td>929</td>\n",
              "      <td>95</td>\n",
              "    </tr>\n",
              "    <tr>\n",
              "      <th>3</th>\n",
              "      <td>Fiat</td>\n",
              "      <td>500</td>\n",
              "      <td>900</td>\n",
              "      <td>865</td>\n",
              "      <td>90</td>\n",
              "    </tr>\n",
              "    <tr>\n",
              "      <th>4</th>\n",
              "      <td>Mini</td>\n",
              "      <td>Cooper</td>\n",
              "      <td>1500</td>\n",
              "      <td>1140</td>\n",
              "      <td>105</td>\n",
              "    </tr>\n",
              "    <tr>\n",
              "      <th>5</th>\n",
              "      <td>VW</td>\n",
              "      <td>Up!</td>\n",
              "      <td>1000</td>\n",
              "      <td>929</td>\n",
              "      <td>105</td>\n",
              "    </tr>\n",
              "    <tr>\n",
              "      <th>6</th>\n",
              "      <td>Skoda</td>\n",
              "      <td>Fabia</td>\n",
              "      <td>1400</td>\n",
              "      <td>1109</td>\n",
              "      <td>90</td>\n",
              "    </tr>\n",
              "    <tr>\n",
              "      <th>7</th>\n",
              "      <td>Mercedes</td>\n",
              "      <td>A-Class</td>\n",
              "      <td>1500</td>\n",
              "      <td>1365</td>\n",
              "      <td>92</td>\n",
              "    </tr>\n",
              "    <tr>\n",
              "      <th>8</th>\n",
              "      <td>Ford</td>\n",
              "      <td>Fiesta</td>\n",
              "      <td>1500</td>\n",
              "      <td>1112</td>\n",
              "      <td>98</td>\n",
              "    </tr>\n",
              "    <tr>\n",
              "      <th>9</th>\n",
              "      <td>Audi</td>\n",
              "      <td>A1</td>\n",
              "      <td>1600</td>\n",
              "      <td>1150</td>\n",
              "      <td>99</td>\n",
              "    </tr>\n",
              "    <tr>\n",
              "      <th>10</th>\n",
              "      <td>Hyundai</td>\n",
              "      <td>I20</td>\n",
              "      <td>1100</td>\n",
              "      <td>980</td>\n",
              "      <td>99</td>\n",
              "    </tr>\n",
              "    <tr>\n",
              "      <th>11</th>\n",
              "      <td>Suzuki</td>\n",
              "      <td>Swift</td>\n",
              "      <td>1300</td>\n",
              "      <td>990</td>\n",
              "      <td>101</td>\n",
              "    </tr>\n",
              "    <tr>\n",
              "      <th>12</th>\n",
              "      <td>Ford</td>\n",
              "      <td>Fiesta</td>\n",
              "      <td>1000</td>\n",
              "      <td>1112</td>\n",
              "      <td>99</td>\n",
              "    </tr>\n",
              "    <tr>\n",
              "      <th>13</th>\n",
              "      <td>Honda</td>\n",
              "      <td>Civic</td>\n",
              "      <td>1600</td>\n",
              "      <td>1252</td>\n",
              "      <td>94</td>\n",
              "    </tr>\n",
              "    <tr>\n",
              "      <th>14</th>\n",
              "      <td>Hyundai</td>\n",
              "      <td>I30</td>\n",
              "      <td>1600</td>\n",
              "      <td>1326</td>\n",
              "      <td>97</td>\n",
              "    </tr>\n",
              "    <tr>\n",
              "      <th>15</th>\n",
              "      <td>Opel</td>\n",
              "      <td>Astra</td>\n",
              "      <td>1600</td>\n",
              "      <td>1330</td>\n",
              "      <td>97</td>\n",
              "    </tr>\n",
              "    <tr>\n",
              "      <th>16</th>\n",
              "      <td>BMW</td>\n",
              "      <td>1</td>\n",
              "      <td>1600</td>\n",
              "      <td>1365</td>\n",
              "      <td>99</td>\n",
              "    </tr>\n",
              "    <tr>\n",
              "      <th>17</th>\n",
              "      <td>Mazda</td>\n",
              "      <td>3</td>\n",
              "      <td>2200</td>\n",
              "      <td>1280</td>\n",
              "      <td>104</td>\n",
              "    </tr>\n",
              "    <tr>\n",
              "      <th>18</th>\n",
              "      <td>Skoda</td>\n",
              "      <td>Rapid</td>\n",
              "      <td>1600</td>\n",
              "      <td>1119</td>\n",
              "      <td>104</td>\n",
              "    </tr>\n",
              "    <tr>\n",
              "      <th>19</th>\n",
              "      <td>Ford</td>\n",
              "      <td>Focus</td>\n",
              "      <td>2000</td>\n",
              "      <td>1328</td>\n",
              "      <td>105</td>\n",
              "    </tr>\n",
              "    <tr>\n",
              "      <th>20</th>\n",
              "      <td>Ford</td>\n",
              "      <td>Mondeo</td>\n",
              "      <td>1600</td>\n",
              "      <td>1584</td>\n",
              "      <td>94</td>\n",
              "    </tr>\n",
              "    <tr>\n",
              "      <th>21</th>\n",
              "      <td>Opel</td>\n",
              "      <td>Insignia</td>\n",
              "      <td>2000</td>\n",
              "      <td>1428</td>\n",
              "      <td>99</td>\n",
              "    </tr>\n",
              "    <tr>\n",
              "      <th>22</th>\n",
              "      <td>Mercedes</td>\n",
              "      <td>C-Class</td>\n",
              "      <td>2100</td>\n",
              "      <td>1365</td>\n",
              "      <td>99</td>\n",
              "    </tr>\n",
              "    <tr>\n",
              "      <th>23</th>\n",
              "      <td>Skoda</td>\n",
              "      <td>Octavia</td>\n",
              "      <td>1600</td>\n",
              "      <td>1415</td>\n",
              "      <td>99</td>\n",
              "    </tr>\n",
              "    <tr>\n",
              "      <th>24</th>\n",
              "      <td>Volvo</td>\n",
              "      <td>S60</td>\n",
              "      <td>2000</td>\n",
              "      <td>1415</td>\n",
              "      <td>99</td>\n",
              "    </tr>\n",
              "    <tr>\n",
              "      <th>25</th>\n",
              "      <td>Mercedes</td>\n",
              "      <td>CLA</td>\n",
              "      <td>1500</td>\n",
              "      <td>1465</td>\n",
              "      <td>102</td>\n",
              "    </tr>\n",
              "    <tr>\n",
              "      <th>26</th>\n",
              "      <td>Audi</td>\n",
              "      <td>A4</td>\n",
              "      <td>2000</td>\n",
              "      <td>1490</td>\n",
              "      <td>104</td>\n",
              "    </tr>\n",
              "    <tr>\n",
              "      <th>27</th>\n",
              "      <td>Audi</td>\n",
              "      <td>A6</td>\n",
              "      <td>2000</td>\n",
              "      <td>1725</td>\n",
              "      <td>114</td>\n",
              "    </tr>\n",
              "    <tr>\n",
              "      <th>28</th>\n",
              "      <td>Volvo</td>\n",
              "      <td>V70</td>\n",
              "      <td>1600</td>\n",
              "      <td>1523</td>\n",
              "      <td>109</td>\n",
              "    </tr>\n",
              "    <tr>\n",
              "      <th>29</th>\n",
              "      <td>BMW</td>\n",
              "      <td>5</td>\n",
              "      <td>2000</td>\n",
              "      <td>1705</td>\n",
              "      <td>114</td>\n",
              "    </tr>\n",
              "    <tr>\n",
              "      <th>30</th>\n",
              "      <td>Mercedes</td>\n",
              "      <td>E-Class</td>\n",
              "      <td>2100</td>\n",
              "      <td>1605</td>\n",
              "      <td>115</td>\n",
              "    </tr>\n",
              "    <tr>\n",
              "      <th>31</th>\n",
              "      <td>Volvo</td>\n",
              "      <td>XC70</td>\n",
              "      <td>2000</td>\n",
              "      <td>1746</td>\n",
              "      <td>117</td>\n",
              "    </tr>\n",
              "    <tr>\n",
              "      <th>32</th>\n",
              "      <td>Ford</td>\n",
              "      <td>B-Max</td>\n",
              "      <td>1600</td>\n",
              "      <td>1235</td>\n",
              "      <td>104</td>\n",
              "    </tr>\n",
              "    <tr>\n",
              "      <th>33</th>\n",
              "      <td>BMW</td>\n",
              "      <td>216</td>\n",
              "      <td>1600</td>\n",
              "      <td>1390</td>\n",
              "      <td>108</td>\n",
              "    </tr>\n",
              "    <tr>\n",
              "      <th>34</th>\n",
              "      <td>Opel</td>\n",
              "      <td>Zafira</td>\n",
              "      <td>1600</td>\n",
              "      <td>1405</td>\n",
              "      <td>109</td>\n",
              "    </tr>\n",
              "    <tr>\n",
              "      <th>35</th>\n",
              "      <td>Mercedes</td>\n",
              "      <td>SLK</td>\n",
              "      <td>2500</td>\n",
              "      <td>1395</td>\n",
              "      <td>120</td>\n",
              "    </tr>\n",
              "  </tbody>\n",
              "</table>\n",
              "</div>"
            ],
            "text/plain": [
              "           Car       Model  Volume  Weight  CO2\n",
              "0       Toyota        Aygo    1000     790   99\n",
              "1   Mitsubishi  Space Star    1200    1160   95\n",
              "2        Skoda      Citigo    1000     929   95\n",
              "3         Fiat         500     900     865   90\n",
              "4         Mini      Cooper    1500    1140  105\n",
              "5           VW         Up!    1000     929  105\n",
              "6        Skoda       Fabia    1400    1109   90\n",
              "7     Mercedes     A-Class    1500    1365   92\n",
              "8         Ford      Fiesta    1500    1112   98\n",
              "9         Audi          A1    1600    1150   99\n",
              "10     Hyundai         I20    1100     980   99\n",
              "11      Suzuki       Swift    1300     990  101\n",
              "12        Ford      Fiesta    1000    1112   99\n",
              "13       Honda       Civic    1600    1252   94\n",
              "14     Hyundai         I30    1600    1326   97\n",
              "15        Opel       Astra    1600    1330   97\n",
              "16         BMW           1    1600    1365   99\n",
              "17       Mazda           3    2200    1280  104\n",
              "18       Skoda       Rapid    1600    1119  104\n",
              "19        Ford       Focus    2000    1328  105\n",
              "20        Ford      Mondeo    1600    1584   94\n",
              "21        Opel    Insignia    2000    1428   99\n",
              "22    Mercedes     C-Class    2100    1365   99\n",
              "23       Skoda     Octavia    1600    1415   99\n",
              "24       Volvo         S60    2000    1415   99\n",
              "25    Mercedes         CLA    1500    1465  102\n",
              "26        Audi          A4    2000    1490  104\n",
              "27        Audi          A6    2000    1725  114\n",
              "28       Volvo         V70    1600    1523  109\n",
              "29         BMW           5    2000    1705  114\n",
              "30    Mercedes     E-Class    2100    1605  115\n",
              "31       Volvo        XC70    2000    1746  117\n",
              "32        Ford       B-Max    1600    1235  104\n",
              "33         BMW         216    1600    1390  108\n",
              "34        Opel      Zafira    1600    1405  109\n",
              "35    Mercedes         SLK    2500    1395  120"
            ]
          },
          "metadata": {
            "tags": []
          }
        }
      ]
    },
    {
      "cell_type": "code",
      "metadata": {
        "colab": {
          "base_uri": "https://localhost:8080/",
          "height": 541
        },
        "id": "mNbcKbmp2i-8",
        "outputId": "126cbe33-4d93-4115-836e-aed135ef7770"
      },
      "source": [
        "#\n",
        "# Exploratory Analasys\n",
        "#\n",
        "\n",
        "#\n",
        "# To make sure we can apply a hypothesis which is a linear combination of\n",
        "# predictors (h(x1, x2) = b + k1 * x1 + k2 * x2) we need to verify if \n",
        "# y has linear dependency on predictors.\n",
        "#\n",
        "\n",
        "# Verify that there is a linear relationship between the CO2 and Volume\n",
        "# by drawing a plot CO2 = f(Volume)\n",
        "\n",
        "plt.plot(df_dataset['Volume'], df_dataset['CO2'], 'bo')\n",
        "plt.xlabel('Volume')\n",
        "plt.ylabel('CO2')\n",
        "plt.show()\n",
        "\n",
        "# Plot shows that CO2 emissions increase with car engine's Volume\n",
        "\n",
        "# Verify that there is a linear relationship between the CO2 and Weight\n",
        "# by drawing a plot CO2 = f(Weight)\n",
        "\n",
        "plt.plot(df_dataset['Weight'], df_dataset['CO2'], 'bo')\n",
        "plt.xlabel('Weight')\n",
        "plt.ylabel('CO2')\n",
        "plt.show()\n",
        "\n",
        "# Plot shows that CO2 emissions increase with car's Weight"
      ],
      "execution_count": 174,
      "outputs": [
        {
          "output_type": "display_data",
          "data": {
            "image/png": "[encoded data removed]",
            "text/plain": [
              "<Figure size 432x288 with 1 Axes>"
            ]
          },
          "metadata": {
            "tags": [],
            "needs_background": "light"
          }
        },
        {
          "output_type": "display_data",
          "data": {
            "image/png": "[encoded data removed]",
            "text/plain": [
              "<Figure size 432x288 with 1 Axes>"
            ]
          },
          "metadata": {
            "tags": [],
            "needs_background": "light"
          }
        }
      ]
    },
    {
      "cell_type": "code",
      "metadata": {
        "colab": {
          "base_uri": "https://localhost:8080/"
        },
        "id": "3n7mAOEKFDYf",
        "outputId": "9d65c32d-2f1b-486e-8674-8a8ff37406bc"
      },
      "source": [
        "#\n",
        "# Exploratory Analasys\n",
        "#\n",
        "\n",
        "# Check min and max values for each feature.\n",
        "# If features are on different scales we'll need to normalise them.\n",
        "\n",
        "print(f'Weight: min = {df_dataset[\"Weight\"].min()}, max = {df_dataset[\"Weight\"].max()}')\n",
        "print(f'Volume: min = {df_dataset[\"Volume\"].min()}, max = {df_dataset[\"Volume\"].max()}')\n",
        "print(f'CO2: min = {df_dataset[\"CO2\"].min()}, max = {df_dataset[\"CO2\"].max()}')"
      ],
      "execution_count": 175,
      "outputs": [
        {
          "output_type": "stream",
          "text": [
            "Weight: min = 790, max = 1746\n",
            "Volume: min = 900, max = 2500\n",
            "CO2: min = 90, max = 120\n"
          ],
          "name": "stdout"
        }
      ]
    },
    {
      "cell_type": "code",
      "metadata": {
        "colab": {
          "base_uri": "https://localhost:8080/"
        },
        "id": "mwuO-Ngr5HPe",
        "outputId": "993b6309-6b4f-4b1b-d618-a2ae44cd2171"
      },
      "source": [
        "#\n",
        "# Create a training and test datasets\n",
        "#\n",
        "\n",
        "dataset_train = df_dataset.sample(frac=0.8, random_state=0)\n",
        "print(f'dataset_train.shape = {dataset_train.shape}')\n",
        "\n",
        "dataset_test = df_dataset.drop(dataset_train.index)\n",
        "print(f'dataset_test.shape = {dataset_test.shape}')\n",
        "\n",
        "#\n",
        "# Split training and test datasets to features and labels.\n",
        "# This is useful as features might be normalized.\n",
        "#\n",
        "\n",
        "train_features = dataset_train[['Volume', 'Weight']].copy()\n",
        "test_features = dataset_test[['Volume', 'Weight']].copy()\n",
        "\n",
        "print(f'train_features.shape = {train_features.shape}')\n",
        "print(f'test_features.shape = {test_features.shape}')\n",
        "\n",
        "train_labels = dataset_train['CO2'].copy()\n",
        "test_labels = dataset_test['CO2'].copy()\n",
        "\n",
        "print(f'train_labels.shape = {train_labels.shape}') # should be 1D (vector)\n",
        "print(f'test_labels.shape = {test_labels.shape}') # should be 1D (vector)"
      ],
      "execution_count": 176,
      "outputs": [
        {
          "output_type": "stream",
          "text": [
            "dataset_train.shape = (29, 5)\n",
            "dataset_test.shape = (7, 5)\n",
            "train_features.shape = (29, 2)\n",
            "test_features.shape = (7, 2)\n",
            "train_labels.shape = (29,)\n",
            "test_labels.shape = (7,)\n"
          ],
          "name": "stdout"
        }
      ]
    },
    {
      "cell_type": "code",
      "metadata": {
        "id": "h9HAhC2TaR-c"
      },
      "source": [
        "#dataset_train['Volume']"
      ],
      "execution_count": 177,
      "outputs": []
    },
    {
      "cell_type": "code",
      "metadata": {
        "id": "sqN07H1DaXsn"
      },
      "source": [
        "#dataset_train['Weight']"
      ],
      "execution_count": 178,
      "outputs": []
    },
    {
      "cell_type": "code",
      "metadata": {
        "colab": {
          "base_uri": "https://localhost:8080/"
        },
        "id": "eHGdMh9yb7qS",
        "outputId": "e0758801-4949-4ce5-9acf-a7321c0c53c2"
      },
      "source": [
        "#\n",
        "# Feature Normalization (Standardization)\n",
        "# It rescales data to have mean = 0 and standard deviation of 1 (unit variance).\n",
        "#\n",
        "\n",
        "print(f'train_features.mean() = \\n{train_features.mean()}')\n",
        "print(f'train_features.std() = \\n{train_features.std()}')\n",
        "\n",
        "train_features_normalized = (train_features - train_features.mean()) / train_features.std()\n",
        "print(f'train_features_normalized.shape = {train_features_normalized.shape}')\n",
        "print(train_features_normalized)\n",
        "\n",
        "test_features_normalized = (test_features - test_features.mean()) / test_features.std()\n",
        "print(f'test_features_normalized.shape = {test_features_normalized.shape}')\n",
        "print(test_features_normalized)"
      ],
      "execution_count": 179,
      "outputs": [
        {
          "output_type": "stream",
          "text": [
            "train_features.mean() = \n",
            "Volume    1631.034483\n",
            "Weight    1325.413793\n",
            "dtype: float64\n",
            "train_features.std() = \n",
            "Volume    382.756402\n",
            "Weight    231.646053\n",
            "dtype: float64\n",
            "train_features_normalized.shape = (29, 2)\n",
            "      Volume    Weight\n",
            "31  0.963970  1.815642\n",
            "20 -0.081082  1.116299\n",
            "16 -0.081082  0.170891\n",
            "30  1.225232  1.206954\n",
            "22  1.225232  0.170891\n",
            "15 -0.081082  0.019798\n",
            "10 -1.387395 -1.491127\n",
            "2  -1.648658 -1.711291\n",
            "11 -0.864870 -1.447958\n",
            "29  0.963970  1.638647\n",
            "27  0.963970  1.724986\n",
            "35  2.270283  0.300399\n",
            "33 -0.081082  0.278814\n",
            "28 -0.081082  0.852966\n",
            "32 -0.081082 -0.390310\n",
            "8  -0.342344 -0.921293\n",
            "13 -0.081082 -0.316922\n",
            "5  -1.648658 -1.711291\n",
            "17  1.486495 -0.196048\n",
            "14 -0.081082  0.002531\n",
            "7  -0.342344  0.170891\n",
            "26  0.963970  0.710507\n",
            "1  -1.126133 -0.714080\n",
            "12 -1.648658 -0.921293\n",
            "25 -0.342344  0.602584\n",
            "24  0.963970  0.386737\n",
            "6  -0.603607 -0.934243\n",
            "23 -0.081082  0.386737\n",
            "4  -0.342344 -0.800419\n",
            "test_features_normalized.shape = (7, 2)\n",
            "      Volume    Weight\n",
            "0  -1.215677 -1.439785\n",
            "3  -1.445670 -1.143939\n",
            "9   0.164281 -0.019723\n",
            "18  0.164281 -0.142006\n",
            "19  1.084252  0.682419\n",
            "21  1.084252  1.076880\n",
            "34  0.164281  0.986154\n"
          ],
          "name": "stdout"
        }
      ]
    },
    {
      "cell_type": "code",
      "metadata": {
        "id": "TCzi_PLd2PKG"
      },
      "source": [
        ""
      ],
      "execution_count": 179,
      "outputs": []
    },
    {
      "cell_type": "code",
      "metadata": {
        "id": "fVLshPo91vEj"
      },
      "source": [
        "#\n",
        "# Feature Normalization (min-max scaling)\n",
        "#\n",
        "\n",
        "#print(f'train_features.min() = \\n{train_features.min()}')\n",
        "#print(f'train_features.max() = \\n{train_features.max()}')\n",
        "\n",
        "#train_features_normalized = (train_features - train_features.min())/(train_features.max() - train_features.min())\n",
        "#print(f'train_features_normalized.shape = {train_features_normalized.shape}')\n",
        "#print(train_features_normalized)\n",
        "\n",
        "#print(f'test_features.min() = \\n{test_features.min()}')\n",
        "#print(f'test_features.max() = \\n{test_features.max()}')\n",
        "\n",
        "#test_features_normalized = (test_features - test_features.min())/(test_features.max() - test_features.min())\n",
        "#print(f'test_features_normalized.shape = {test_features_normalized.shape}')\n",
        "#print(test_features_normalized)"
      ],
      "execution_count": 180,
      "outputs": []
    },
    {
      "cell_type": "code",
      "metadata": {
        "colab": {
          "base_uri": "https://localhost:8080/"
        },
        "id": "ZJyzaTxa5T05",
        "outputId": "88234a81-11c1-4ef9-f6c9-4ee3306ff4a1"
      },
      "source": [
        "#\n",
        "# Build a model with a single neuron which takes a single feature as an input\n",
        "# (This is a neural network with no hidden layers and no activations)\n",
        "#\n",
        "\n",
        "FEATURES_COUNT = train_features.shape[1]\n",
        "print(f'FEATURES_COUNT = {FEATURES_COUNT}')\n",
        "\n",
        "model = tf.keras.Sequential([\n",
        "    layers.Dense(input_shape=(FEATURES_COUNT,), units=1)\n",
        "])\n",
        "\n",
        "model.summary()"
      ],
      "execution_count": 181,
      "outputs": [
        {
          "output_type": "stream",
          "text": [
            "FEATURES_COUNT = 2\n",
            "Model: \"sequential_9\"\n",
            "_________________________________________________________________\n",
            "Layer (type)                 Output Shape              Param #   \n",
            "=================================================================\n",
            "dense_9 (Dense)              (None, 1)                 3         \n",
            "=================================================================\n",
            "Total params: 3\n",
            "Trainable params: 3\n",
            "Non-trainable params: 0\n",
            "_________________________________________________________________\n"
          ],
          "name": "stdout"
        }
      ]
    },
    {
      "cell_type": "code",
      "metadata": {
        "id": "BCbw5KTJ52lz"
      },
      "source": [
        "#\n",
        "# Compile the model\n",
        "#\n",
        "\n",
        "LEARNING_RATE = 0.01\n",
        "OPTIMIZER=tf.optimizers.SGD(learning_rate=LEARNING_RATE)\n",
        "LOSS = tf.losses.MeanAbsoluteError()\n",
        "\n",
        "model.compile(\n",
        "    optimizer=OPTIMIZER,\n",
        "    loss=LOSS,\n",
        ")"
      ],
      "execution_count": 182,
      "outputs": []
    },
    {
      "cell_type": "code",
      "metadata": {
        "colab": {
          "base_uri": "https://localhost:8080/"
        },
        "id": "UColXN3q6DFT",
        "outputId": "e41eb842-87dd-4905-e199-d36f7996ce3e"
      },
      "source": [
        "#\n",
        "# Train the model\n",
        "#\n",
        "%%time\n",
        "\n",
        "# Large number of epochs seems to be required in order to get loss function\n",
        "# convergence (an \"elbow\" in the diagram which shows loss vs number of epochs).\n",
        "EPOCHS = 15000\n",
        "\n",
        "# Input data is a tensor. \n",
        "# First dimension is batch size (number of samples).\n",
        "# Second dimension is number of features.\n",
        "# In our case train_features dimension is (29, 2).\n",
        "# When we specified input_shape=(2,) we omitted batch size as Keras deducts this\n",
        "# value from the number of rows. \n",
        "\n",
        "history = model.fit(\n",
        "    train_features_normalized, train_labels,\n",
        "    epochs=EPOCHS,\n",
        "    # suppress logging\n",
        "    verbose=0,\n",
        "    # Calculate validation results on 20% of the training data\n",
        "    validation_split = 0.2)"
      ],
      "execution_count": 183,
      "outputs": [
        {
          "output_type": "stream",
          "text": [
            "CPU times: user 4min 44s, sys: 9.66 s, total: 4min 54s\n",
            "Wall time: 4min 59s\n"
          ],
          "name": "stdout"
        }
      ]
    },
    {
      "cell_type": "code",
      "metadata": {
        "colab": {
          "base_uri": "https://localhost:8080/"
        },
        "id": "h3M6N5qqBodo",
        "outputId": "8100b4e7-0324-45a4-d11a-98f8a792b1f8"
      },
      "source": [
        "print(history.history.keys())"
      ],
      "execution_count": 184,
      "outputs": [
        {
          "output_type": "stream",
          "text": [
            "dict_keys(['loss', 'val_loss'])\n"
          ],
          "name": "stdout"
        }
      ]
    },
    {
      "cell_type": "code",
      "metadata": {
        "colab": {
          "base_uri": "https://localhost:8080/",
          "height": 295
        },
        "id": "CzONhffWBupn",
        "outputId": "6d17df21-f522-4316-f6bb-e9dd502edc69"
      },
      "source": [
        "#\n",
        "# Plot how loss changes over each epoch.\n",
        "#\n",
        "plt.plot(history.history['loss'])\n",
        "plt.plot(history.history['val_loss'])\n",
        "plt.title('Model loss')\n",
        "plt.ylabel('Loss')\n",
        "plt.xlabel('Epoch')\n",
        "plt.legend(['Train', 'Test'], loc='upper right')\n",
        "plt.show()"
      ],
      "execution_count": 185,
      "outputs": [
        {
          "output_type": "display_data",
          "data": {
            "image/png": "[encoded data removed]",
            "text/plain": [
              "<Figure size 432x288 with 1 Axes>"
            ]
          },
          "metadata": {
            "tags": [],
            "needs_background": "light"
          }
        }
      ]
    },
    {
      "cell_type": "code",
      "metadata": {
        "colab": {
          "base_uri": "https://localhost:8080/",
          "height": 283
        },
        "id": "WLBr1EyCADI6",
        "outputId": "3803c468-b2dc-4f26-9733-9570875ea5a4"
      },
      "source": [
        "#\n",
        "# Perform prediction on unseen data\n",
        "#\n",
        "\n",
        "predictions = model.predict(test_features_normalized)\n",
        "print(predictions.shape)\n",
        "\n",
        "# append a predictions column to the test \n",
        "df_predictions = test_features.assign(CO2=predictions)\n",
        "display(df_predictions)"
      ],
      "execution_count": 186,
      "outputs": [
        {
          "output_type": "stream",
          "text": [
            "(7, 1)\n"
          ],
          "name": "stdout"
        },
        {
          "output_type": "display_data",
          "data": {
            "text/html": [
              "<div>\n",
              "<style scoped>\n",
              "    .dataframe tbody tr th:only-of-type {\n",
              "        vertical-align: middle;\n",
              "    }\n",
              "\n",
              "    .dataframe tbody tr th {\n",
              "        vertical-align: top;\n",
              "    }\n",
              "\n",
              "    .dataframe thead th {\n",
              "        text-align: right;\n",
              "    }\n",
              "</style>\n",
              "<table border=\"1\" class=\"dataframe\">\n",
              "  <thead>\n",
              "    <tr style=\"text-align: right;\">\n",
              "      <th></th>\n",
              "      <th>Volume</th>\n",
              "      <th>Weight</th>\n",
              "      <th>CO2</th>\n",
              "    </tr>\n",
              "  </thead>\n",
              "  <tbody>\n",
              "    <tr>\n",
              "      <th>0</th>\n",
              "      <td>1000</td>\n",
              "      <td>790</td>\n",
              "      <td>95.237572</td>\n",
              "    </tr>\n",
              "    <tr>\n",
              "      <th>3</th>\n",
              "      <td>900</td>\n",
              "      <td>865</td>\n",
              "      <td>95.610474</td>\n",
              "    </tr>\n",
              "    <tr>\n",
              "      <th>9</th>\n",
              "      <td>1600</td>\n",
              "      <td>1150</td>\n",
              "      <td>102.618172</td>\n",
              "    </tr>\n",
              "    <tr>\n",
              "      <th>18</th>\n",
              "      <td>1600</td>\n",
              "      <td>1119</td>\n",
              "      <td>102.250076</td>\n",
              "    </tr>\n",
              "    <tr>\n",
              "      <th>19</th>\n",
              "      <td>2000</td>\n",
              "      <td>1328</td>\n",
              "      <td>106.802383</td>\n",
              "    </tr>\n",
              "    <tr>\n",
              "      <th>21</th>\n",
              "      <td>2000</td>\n",
              "      <td>1428</td>\n",
              "      <td>107.989792</td>\n",
              "    </tr>\n",
              "    <tr>\n",
              "      <th>34</th>\n",
              "      <td>1600</td>\n",
              "      <td>1405</td>\n",
              "      <td>105.646072</td>\n",
              "    </tr>\n",
              "  </tbody>\n",
              "</table>\n",
              "</div>"
            ],
            "text/plain": [
              "    Volume  Weight         CO2\n",
              "0     1000     790   95.237572\n",
              "3      900     865   95.610474\n",
              "9     1600    1150  102.618172\n",
              "18    1600    1119  102.250076\n",
              "19    2000    1328  106.802383\n",
              "21    2000    1428  107.989792\n",
              "34    1600    1405  105.646072"
            ]
          },
          "metadata": {
            "tags": []
          }
        }
      ]
    },
    {
      "cell_type": "code",
      "metadata": {
        "colab": {
          "base_uri": "https://localhost:8080/"
        },
        "id": "uGMu5TMe_YYM",
        "outputId": "a8ec68ce-5b36-4814-c476-f2961ab8d329"
      },
      "source": [
        "#\n",
        "# Print the values of learned and original model parameters.\n",
        "#\n",
        "\n",
        "# Check out the weights' values of the trained model\n",
        "for layer in model.layers: print(layer.get_config(), layer.get_weights())\n",
        "\n",
        "weights = model.layers[0].get_weights()\n",
        "print(f'weights = {weights}')\n",
        "\n",
        "coefficients = weights[0]\n",
        "biases = weights[1]\n",
        "\n",
        "coefficient1 = coefficients[0]\n",
        "coefficient2 = coefficients[1]\n",
        "bias = biases[0]\n",
        "\n",
        "print(f'\\n\\nHypothesis: CO2(Volume, Weight) = {bias} + {coefficient1} * Volume + {coefficient2} * Weight')"
      ],
      "execution_count": 187,
      "outputs": [
        {
          "output_type": "stream",
          "text": [
            "{'name': 'dense_9', 'trainable': True, 'batch_input_shape': (None, 2), 'dtype': 'float32', 'units': 1, 'activation': 'linear', 'use_bias': True, 'kernel_initializer': {'class_name': 'GlorotUniform', 'config': {'seed': None}}, 'bias_initializer': {'class_name': 'Zeros', 'config': {}}, 'kernel_regularizer': None, 'bias_regularizer': None, 'activity_regularizer': None, 'kernel_constraint': None, 'bias_constraint': None} [array([[2.2507374],\n",
            "       [3.010208 ]], dtype=float32), array([102.30779], dtype=float32)]\n",
            "weights = [array([[2.2507374],\n",
            "       [3.010208 ]], dtype=float32), array([102.30779], dtype=float32)]\n",
            "\n",
            "\n",
            "Hypothesis: CO2(Volume, Weight) = 102.30779266357422 + [2.2507374] * Volume + [3.010208] * Weight\n"
          ],
          "name": "stdout"
        }
      ]
    }
  ]
}